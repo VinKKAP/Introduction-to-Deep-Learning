{
 "cells": [
  {
   "cell_type": "markdown",
   "metadata": {
    "slideshow": {
     "slide_type": "slide"
    }
   },
   "source": [
    "# Neural Networks\n",
    "## Motivation\n",
    "\n",
    "In the previous chapter, it was mentioned that the target function $f_0$ can be very complicated.\n",
    "\n",
    "Let uns consider the following (still quite simple) example:\n",
    "\n",
    "$$Y=2-3X_1+1.5X_2 +3X_1^2 + 2\\sin(0.6X_1+0.5X_2)  +\\varepsilon,$$"
   ]
  },
  {
   "cell_type": "code",
   "execution_count": 1,
   "metadata": {
    "slideshow": {
     "slide_type": "subslide"
    }
   },
   "outputs": [],
   "source": [
    "import torch;import matplotlib.pyplot as plt; import numpy as np\n",
    "def dgp_poly_regression (weights, intercept, n):\n",
    "    X = torch.normal(0,1,(n,2))\n",
    "    Y = intercept + torch.mv(X,weights[0:2]) + weights[2]*X[:,0]**2 + weights[3]*torch.sin(0.6*X[:,0]+.5*X[:,1]) + torch.normal(0,1,(1,n))\n",
    "    return X,Y.reshape((-1,1))\n",
    "\n",
    "true_weights = torch.tensor([-3.0, -1.5, 3.0, 5.0])\n",
    "true_intercept = 2\n",
    "\n",
    "#generate data\n",
    "n_obs = 500\n",
    "torch.manual_seed(42) #set a seed for replicability\n",
    "features, labels = dgp_poly_regression(true_weights,true_intercept, n_obs)\n",
    "\n",
    "#split the sample\n",
    "from sklearn.model_selection import train_test_split\n",
    "train_idx, test_idx = train_test_split(np.arange(len(labels)), test_size=0.20, random_state=42) "
   ]
  },
  {
   "cell_type": "markdown",
   "metadata": {
    "slideshow": {
     "slide_type": "subslide"
    }
   },
   "source": [
    "Let us take a look at the generated data.\n",
    "\n",
    "<center>\n",
    "<img src=\"./figures/NN/motivation_1.png\" alt=\"Drawing\" style=\"width: 1000px;\"/><br>\n",
    "<b>Figure 1:</b> Scatter plot.</center>"
   ]
  },
  {
   "cell_type": "markdown",
   "metadata": {
    "slideshow": {
     "slide_type": "subslide"
    }
   },
   "source": [
    "If we just fit the plain linear regression, we obtain"
   ]
  },
  {
   "cell_type": "code",
   "execution_count": 2,
   "metadata": {
    "slideshow": {
     "slide_type": "-"
    }
   },
   "outputs": [],
   "source": [
    "from torch.utils import data; from torch import nn\n",
    "def load_array(data_arrays, batch_size, is_train=True): \n",
    "    \"\"\"Construct a PyTorch data iterator.\"\"\"\n",
    "    dataset = data.TensorDataset(*data_arrays)\n",
    "    return data.DataLoader(dataset, batch_size, shuffle=is_train)\n",
    "\n",
    "batch_size = 50\n",
    "data_iter = load_array((features[train_idx,:], labels[train_idx]), batch_size)\n",
    "\n",
    "net_simple = nn.Sequential(nn.Linear(2, 1))\n",
    "loss = nn.MSELoss()\n",
    "trainer = torch.optim.SGD(net_simple.parameters(), lr=0.03)\n",
    "# initializing parameters\n",
    "net_simple[0].weight.data.normal_(0, 0.01)\n",
    "net_simple[0].bias.data.fill_(0);"
   ]
  },
  {
   "cell_type": "code",
   "execution_count": 3,
   "metadata": {
    "slideshow": {
     "slide_type": "subslide"
    }
   },
   "outputs": [
    {
     "name": "stdout",
     "output_type": "stream",
     "text": [
      "epoch 100, test loss 34.073925\n",
      "epoch 200, test loss 34.189671\n",
      "epoch 300, test loss 34.052719\n",
      "epoch 400, test loss 34.134712\n",
      "epoch 500, test loss 34.039520\n"
     ]
    }
   ],
   "source": [
    "#training the model\n",
    "num_epochs = 500\n",
    "for epoch in range(num_epochs):\n",
    "    for X, y in data_iter:\n",
    "        l = loss(net_simple(X) ,y)\n",
    "        trainer.zero_grad()\n",
    "        l.backward()\n",
    "        trainer.step()\n",
    "    if(epoch % 100 == 99):\n",
    "        l = loss(net_simple(features[test_idx,:]),  labels[test_idx] )\n",
    "        print(f'epoch {epoch + 1}, test loss {l:f}')"
   ]
  },
  {
   "cell_type": "code",
   "execution_count": 4,
   "metadata": {
    "slideshow": {
     "slide_type": "subslide"
    }
   },
   "outputs": [
    {
     "name": "stdout",
     "output_type": "stream",
     "text": [
      "Estimated weights w: tensor([[-1.3125,  0.2152]])\n",
      "Estimated intercept/bias: tensor([4.3660])\n"
     ]
    }
   ],
   "source": [
    "w = net_simple[0].weight.data\n",
    "print('Estimated weights w:',  w)\n",
    "b = net_simple[0].bias.data\n",
    "print('Estimated intercept/bias:', b)"
   ]
  },
  {
   "cell_type": "markdown",
   "metadata": {},
   "source": [
    "<center>\n",
    "<img src=\"./figures/NN/motivation_2.png\" alt=\"Drawing\" style=\"width: 1000px;\"/><br>\n",
    "<b>Figure 2:</b> Linear model.</center>"
   ]
  },
  {
   "cell_type": "markdown",
   "metadata": {
    "slideshow": {
     "slide_type": "subslide"
    }
   },
   "source": [
    "But if we instead directly plug in the transformed features"
   ]
  },
  {
   "cell_type": "code",
   "execution_count": 5,
   "metadata": {
    "scrolled": true,
    "slideshow": {
     "slide_type": "-"
    }
   },
   "outputs": [],
   "source": [
    "transf_features = torch.cat((features,(features[:,0]**2).reshape(-1,1),\n",
    "                           torch.sin(0.6*features[:,0]+0.5*features[:,1]).reshape(-1,1)),dim =1)\n",
    "\n",
    "batch_size = 50\n",
    "data_iter_transf = load_array((transf_features[train_idx,:], labels[train_idx]), batch_size)"
   ]
  },
  {
   "cell_type": "code",
   "execution_count": 6,
   "metadata": {
    "slideshow": {
     "slide_type": "subslide"
    }
   },
   "outputs": [
    {
     "name": "stdout",
     "output_type": "stream",
     "text": [
      "epoch 100, test loss 1.487309\n",
      "epoch 200, test loss 1.076782\n",
      "epoch 300, test loss 1.034379\n",
      "epoch 400, test loss 1.047245\n",
      "epoch 500, test loss 1.055619\n",
      "epoch 500, test loss 1.055619\n"
     ]
    }
   ],
   "source": [
    "net_transf = nn.Sequential(nn.Linear(4, 1))\n",
    "loss = nn.MSELoss()\n",
    "trainer = torch.optim.SGD(net_transf.parameters(), lr=0.05)\n",
    "net_transf[0].weight.data.normal_(0, 0.01); net_transf[0].bias.data.fill_(0) # initializing parameters\n",
    "#training the model\n",
    "num_epochs = 500\n",
    "for epoch in range(num_epochs):\n",
    "    for X, y in data_iter_transf:\n",
    "        l = loss(net_transf(X) ,y)\n",
    "        trainer.zero_grad()\n",
    "        l.backward()\n",
    "        trainer.step()\n",
    "    if(epoch % 100 == 99):\n",
    "        l = loss(net_transf(transf_features[test_idx,:]),  labels[test_idx])\n",
    "        print(f'epoch {epoch + 1}, test loss {l:f}')\n",
    "l = loss(net_transf(transf_features[test_idx,:]),  labels[test_idx]); print(f'epoch {epoch + 1}, test loss {l:f}')   "
   ]
  },
  {
   "cell_type": "code",
   "execution_count": 7,
   "metadata": {
    "slideshow": {
     "slide_type": "subslide"
    }
   },
   "outputs": [
    {
     "name": "stdout",
     "output_type": "stream",
     "text": [
      "Estimated weights w: tensor([[-3.2741, -1.7056,  3.0209,  5.5282]])\n",
      "Estimated intercept/bias: tensor([1.9649])\n"
     ]
    }
   ],
   "source": [
    "w = net_transf[0].weight.data\n",
    "print('Estimated weights w:',  w)\n",
    "b = net_transf[0].bias.data\n",
    "print('Estimated intercept/bias:', b)"
   ]
  },
  {
   "cell_type": "markdown",
   "metadata": {
    "slideshow": {
     "slide_type": "subslide"
    }
   },
   "source": [
    "Lets take a look at the model"
   ]
  },
  {
   "cell_type": "markdown",
   "metadata": {},
   "source": [
    "<center>\n",
    "<img src=\"./figures/NN/motivation_3.png\" alt=\"Drawing\" style=\"width: 1000px;\"/><br>\n",
    "<b>Figure 3:</b> Linear model with transformed inputs.</center>"
   ]
  },
  {
   "cell_type": "markdown",
   "metadata": {
    "slideshow": {
     "slide_type": "subslide"
    }
   },
   "source": [
    "The model corresponds to the following graph\n",
    "<center>\n",
    "<img src=\"./figures/NN/biv_reg_transf.png\" alt=\"Drawing\" style=\"width: 500px;\"/><br></center>\n",
    "<center><b>Figure 4:</b> Linear model with transformed inputs (Graph).</center>\n",
    "\n",
    "where $\\sigma_1,\\dots,\\sigma_4$ are transformations of the inputs which might be nonlinear (e.g. $\\sigma_4\\equiv \\sin$) and $v_1,\\dots,v_4$ are weights for the input features (e.g. $v_4 = (0.6,0.5)^T$)."
   ]
  },
  {
   "cell_type": "markdown",
   "metadata": {
    "slideshow": {
     "slide_type": "subslide"
    }
   },
   "source": [
    "<b> <center>$\\Rightarrow$ Constructing the right features is crucial!</center></b> \n",
    "\n",
    "Consider images, where we want to classify picture displays a car or a ship. Knowing whether there are wheels in the image will be very helpful for the prediction."
   ]
  },
  {
   "cell_type": "markdown",
   "metadata": {
    "slideshow": {
     "slide_type": "slide"
    }
   },
   "source": [
    "## (Feedforward) Neural Networks\n",
    "\n",
    "In the previous chapter we have seen that we can fit more complicated functions, if we can transform the in features in a clever way.\n",
    "\n",
    "But in general we do **not** know the right transformation for our input variables. Additionally the helpful transformations might be very complex (think of images or speech data).\n",
    "\n",
    "\n",
    "<b> <center>$\\Rightarrow$ Find data driven transformations of the input features, which allow for more accurate predicitons.</center></b> \n"
   ]
  },
  {
   "cell_type": "markdown",
   "metadata": {
    "slideshow": {
     "slide_type": "subslide"
    }
   },
   "source": [
    "In general, we want our created features to be some nonlinear function of the input variables. <br> The basic building block of each neural network will have the following form.\n",
    "\n",
    "<center>\n",
    "<img src=\"./figures/NN/basic_block_graph.png\" alt=\"Drawing\" style=\"width: 800px;\"/><br>\n",
    "<b>Figure 5:</b> Basic building block of neural networks.</center>"
   ]
  },
  {
   "cell_type": "markdown",
   "metadata": {
    "slideshow": {
     "slide_type": "subslide"
    }
   },
   "source": [
    "As you can observe that this is exactly the graph from the linear model, just with an additional nonlinear transformation on the output which is called **activation function**.\n",
    "\n",
    "The name activation function derives from the earliest neural networks, where scientists tried to model biological neurons, which *fire* (are activated) if stimulated above a certain threshold.\n",
    "\n",
    "For this reason the nodes in the graph of a neural network are called **neurons**."
   ]
  },
  {
   "cell_type": "markdown",
   "metadata": {
    "slideshow": {
     "slide_type": "subslide"
    }
   },
   "source": [
    "For a given activation function $\\sigma$ different weights $w$ result in a different function of $X_1$ and $X_2$.\n",
    "\n",
    "As a result, we can construct several distict transformed features by combining multiple of these basic building blocks to obtain the analog to the transformed input in the polynomial regression setting.\n",
    "\n",
    "In principle one can use any nonlinear function $\\sigma$ which is differentiable (or almost sure differentiable), but there are some common choices. "
   ]
  },
  {
   "cell_type": "markdown",
   "metadata": {
    "slideshow": {
     "slide_type": "slide"
    }
   },
   "source": [
    "### Activation Functions\n",
    "We now list some popular choices for activation functions.\n",
    "\n",
    "#### Sigmoid Function\n",
    "The sigmoid is the first function, which was used\n",
    "\n",
    "$$\\begin{aligned}\n",
    "\\text{sigmoid}:\\mathbb{R}&\\to (0,1)\\\\\n",
    "x&\\mapsto\\frac{1}{1+\\exp(-x)}\n",
    "\\end{aligned}$$\n"
   ]
  },
  {
   "cell_type": "markdown",
   "metadata": {
    "slideshow": {
     "slide_type": "subslide"
    }
   },
   "source": [
    "<center>\n",
    "<img src=\"./figures/NN/sigmoid.png\" alt=\"Drawing\" style=\"width: 1000px;\"/><br>\n",
    "<b>Figure 6:</b> Sigmoid function.</center>"
   ]
  },
  {
   "cell_type": "markdown",
   "metadata": {
    "slideshow": {
     "slide_type": "-"
    }
   },
   "source": [
    "The derivation of the sigmoid function is given by\n",
    "\n",
    "$$\\frac{d\\text{sigmoid}(x)}{d x}=\\text{sigmoid}(x)(1-\\text{sigmoid}(x)).$$"
   ]
  },
  {
   "cell_type": "markdown",
   "metadata": {
    "slideshow": {
     "slide_type": "subslide"
    }
   },
   "source": [
    "#### Tanh Function\n",
    "The **hyperbolic tangent (tanh) function** is defined as\n",
    "\n",
    "$$\\begin{aligned}\n",
    "\\tanh:\\mathbb{R}&\\to (-1,1)\\\\\n",
    "x&\\mapsto\\frac{1-\\exp(-2x)}{1+\\exp(-2x)}.\n",
    "\\end{aligned}$$"
   ]
  },
  {
   "cell_type": "markdown",
   "metadata": {
    "slideshow": {
     "slide_type": "fragment"
    }
   },
   "source": [
    "In general the tanh function is very similar to the sigmoid function ($\\tanh(x)=\\text{sigmoid}(2x)-1$), but is point symmetric with respect to the origin.<br>Therefore it resembles the identity more closely and typically performs better than the sigmoid unit."
   ]
  },
  {
   "cell_type": "markdown",
   "metadata": {
    "scrolled": true,
    "slideshow": {
     "slide_type": "subslide"
    }
   },
   "source": [
    "<center>\n",
    "<img src=\"./figures/NN/tanh.png\" alt=\"Drawing\" style=\"width: 1000px;\"/><br>\n",
    "<b>Figure 7:</b> Tanh function.</center>"
   ]
  },
  {
   "cell_type": "markdown",
   "metadata": {
    "slideshow": {
     "slide_type": "-"
    }
   },
   "source": [
    "The derivation of the tanh function is given by\n",
    "\n",
    "$$\\frac{d\\tanh(x)}{dx}=1-\\tanh^2(x).$$"
   ]
  },
  {
   "cell_type": "markdown",
   "metadata": {
    "slideshow": {
     "slide_type": "-"
    }
   },
   "source": [
    "Sigmoid and tanh units saturate for very small and very large values. The derivative vanishes for $|x|\\to \\infty$, which makes gradient-based learning difficult."
   ]
  },
  {
   "cell_type": "markdown",
   "metadata": {
    "slideshow": {
     "slide_type": "subslide"
    }
   },
   "source": [
    "#### ReLU Function\n",
    "\n",
    "The most common choice as activation function is the the **rectified linear unit (ReLU)** \n",
    "\n",
    "$$\\begin{aligned}\n",
    "\\text{ReLU}:\\mathbb{R}&\\to [0,\\infty)\\\\\n",
    "x&\\mapsto\\max(0,x),\n",
    "\\end{aligned}$$\n",
    "\n",
    "due to its simplicity and good performance in many predictive problems. "
   ]
  },
  {
   "cell_type": "markdown",
   "metadata": {
    "slideshow": {
     "slide_type": "subslide"
    }
   },
   "source": [
    "<center>\n",
    "<img src=\"./figures/NN/ReLU.png\" alt=\"Drawing\" style=\"width: 1000px;\"/><br>\n",
    "<b>Figure 8:</b> ReLU function.</center>"
   ]
  },
  {
   "cell_type": "markdown",
   "metadata": {
    "slideshow": {
     "slide_type": "-"
    }
   },
   "source": [
    "Its derivative (setting the derivative in $0$ to $0$) is given by \n",
    "\n",
    "$$\\frac{d\\text{ReLU}(x)}{d x}=\\begin{cases}1\\quad ,x>0\\\\0\\quad ,x\\le 0\\end{cases}$$\n",
    "\n",
    "which is very easy to compute and enables gradients for large values of $x$."
   ]
  },
  {
   "cell_type": "markdown",
   "metadata": {
    "slideshow": {
     "slide_type": "subslide"
    }
   },
   "source": [
    "There exist a lot of variants of the ReLU function, such as the **parametric ReLU (pReLU)**\n",
    "\n",
    "$$\\begin{aligned}\n",
    "\\text{ReLU}:\\mathbb{R}&\\to [0,\\infty)\\\\\n",
    "x&\\mapsto\\max(0,x)+\\alpha\\min(0,x),\n",
    "\\end{aligned}$$\n",
    "\n",
    "where the gradient is not vanishing for negative values (**leaky ReLU** for $\\alpha = 0.01$)."
   ]
  },
  {
   "cell_type": "markdown",
   "metadata": {
    "slideshow": {
     "slide_type": "-"
    }
   },
   "source": [
    "<center>\n",
    "<img src=\"./figures/NN/leaky_ReLU.png\" alt=\"Drawing\" style=\"width: 1000px;\"/><br>\n",
    "<b>Figure 9:</b> Leaky ReLU function.</center>"
   ]
  },
  {
   "cell_type": "markdown",
   "metadata": {
    "slideshow": {
     "slide_type": "subslide"
    }
   },
   "source": [
    "Sigmoidal or tanh activation functions are more common in settings, which we will encounter in later sections, other than feedforward networks. <br>\n",
    "For example in recurrent networks, sigmoid units allow the to control the flow of information over time, making them more appealing despite the drawbacks of saturation."
   ]
  },
  {
   "cell_type": "markdown",
   "metadata": {
    "slideshow": {
     "slide_type": "slide"
    }
   },
   "source": [
    "### Building a Simple Neural Network\n",
    "\n",
    "Next, we revisit the example, by constructing a simple neural network (or multilayer perceptron) to find a data driven way to engineer the features.\n",
    "\n",
    "The network will take the following form\n",
    "\n",
    "<center>\n",
    "<img src=\"./figures/NN/graph_small_basic_nn.png\" alt=\"Drawing\" style=\"width: 600px;\"/><br>\n",
    "<b>Figure 10:</b> Simple neural network.</center>\n",
    "\n",
    "where we omit the bias from the graph (and will do so in the following graphs). How many trainable parameters are contained?"
   ]
  },
  {
   "cell_type": "markdown",
   "metadata": {
    "slideshow": {
     "slide_type": "subslide"
    }
   },
   "source": [
    "We can concisely implement this easy network by using `nn.Sequential`. "
   ]
  },
  {
   "cell_type": "code",
   "execution_count": 8,
   "metadata": {
    "slideshow": {
     "slide_type": "-"
    }
   },
   "outputs": [],
   "source": [
    "net = nn.Sequential(nn.Linear(2, 10),\n",
    "                         nn.ReLU(),\n",
    "                         nn.Linear(10, 1))"
   ]
  },
  {
   "cell_type": "markdown",
   "metadata": {
    "slideshow": {
     "slide_type": "-"
    }
   },
   "source": [
    "The code sequentially stacks a linear layer with two inputs and ten outputs. Afterwards the ReLU activation function is applied to each outcome in the hidden layer and the last step combines all ten transformed inputs linearly to the final outcome."
   ]
  },
  {
   "cell_type": "markdown",
   "metadata": {
    "slideshow": {
     "slide_type": "subslide"
    }
   },
   "source": [
    "Next we continue by initializing the weights and defining the loss and the optimizer."
   ]
  },
  {
   "cell_type": "code",
   "execution_count": 9,
   "metadata": {
    "slideshow": {
     "slide_type": "-"
    }
   },
   "outputs": [],
   "source": [
    "# initialize the weights\n",
    "def init_weights(m):\n",
    "    if type(m) == nn.Linear:\n",
    "        torch.nn.init.normal_(m.weight, std=0.01)\n",
    "torch.manual_seed(42) #set a seed for replicability\n",
    "net.apply(init_weights)\n",
    "\n",
    "# define the loss and the optimizer\n",
    "loss = nn.MSELoss()\n",
    "trainer = torch.optim.Adam(net.parameters(), lr=0.03)"
   ]
  },
  {
   "cell_type": "markdown",
   "metadata": {
    "slideshow": {
     "slide_type": "subslide"
    }
   },
   "source": [
    "Finally we train the model."
   ]
  },
  {
   "cell_type": "code",
   "execution_count": 10,
   "metadata": {
    "slideshow": {
     "slide_type": "-"
    }
   },
   "outputs": [
    {
     "name": "stdout",
     "output_type": "stream",
     "text": [
      "epoch 0, test loss 80.10230255126953\n",
      "epoch 100, test loss 2.517644\n",
      "epoch 200, test loss 2.307498\n",
      "epoch 300, test loss 1.969108\n",
      "epoch 400, test loss 1.962479\n",
      "epoch 500, test loss 2.046885\n"
     ]
    }
   ],
   "source": [
    "num_epochs = 500\n",
    "print(f'epoch {0}, test loss {loss(net(features[test_idx,:]),  labels[test_idx])}')\n",
    "for epoch in range(num_epochs):\n",
    "    for X, y in data_iter:\n",
    "        l = loss(net(X) ,y)\n",
    "        trainer.zero_grad()\n",
    "        l.backward()\n",
    "        trainer.step()\n",
    "    if(epoch % 100 == 99):\n",
    "        l = loss(net(features[test_idx,:]),  labels[test_idx])\n",
    "        print(f'epoch {epoch+1}, test loss {l:f}')"
   ]
  },
  {
   "cell_type": "markdown",
   "metadata": {
    "slideshow": {
     "slide_type": "subslide"
    }
   },
   "source": [
    "Here, we used an arbitrary structure. <br>\n",
    "\n",
    "The hyperparameters to choose are the number of hidden layers (multilayer neural networks), the number of neurons in each hidden layers and the choice of the corresponding activation functions."
   ]
  },
  {
   "cell_type": "markdown",
   "metadata": {
    "slideshow": {
     "slide_type": "fragment"
    }
   },
   "source": [
    "### Universal Approximation Theorem\n",
    "\n",
    "There exist some classical results (from Cybenko and Hornik) on the approximation abilities of the single (and multilayer) neural networks. \n",
    "\n",
    "One can prove that, under some basic regularity conditions on the activation function $\\sigma$, feedforward networks can approximate any (well-behaved) function, provided that sufficiently many hidden nodes are available."
   ]
  },
  {
   "cell_type": "markdown",
   "metadata": {
    "slideshow": {
     "slide_type": "slide"
    }
   },
   "source": [
    "## Deep Neural Networks\n",
    "\n",
    "Deep neural networks describe networks with a large number of hidden layers. \n",
    "\n",
    "<center>\n",
    "<img src=\"./figures/NN/graph_deep_nn_1.png\" alt=\"Drawing\" style=\"width: 800px;\"/><br>\n",
    "<b>Figure 11:</b> Deep neural network.</center>\n",
    "\n",
    "How many parameters (including bias) has this model ?"
   ]
  },
  {
   "cell_type": "markdown",
   "metadata": {
    "slideshow": {
     "slide_type": "subslide"
    }
   },
   "source": [
    "The previous universal approximation theorem seems to indicate, that there is no need for adding more layers, since we are able to approximate any function sufficiently well.\n"
   ]
  },
  {
   "cell_type": "markdown",
   "metadata": {
    "slideshow": {
     "slide_type": "fragment"
    }
   },
   "source": [
    "**But:** We still might need a huge (nearly infinitely large) number of nodes in the hidden layer, which might not be feasible. Instead, adding more layers increases the number the has an exponential effect on the richness of the function class."
   ]
  },
  {
   "cell_type": "markdown",
   "metadata": {
    "slideshow": {
     "slide_type": "subslide"
    }
   },
   "source": [
    "### Performance and GPUs\n",
    "\n",
    "As we have seen the training process can become quite computationally demanding. To speed up calculations, a lot of computation is done in parallel. As a result, GPUs have become very popular due to their ability to perform a large number of task simultaneously.\n",
    "\n",
    "We how show how to use a NVIDIA GPU for calculations (make sure you have [CUDA](https://developer.nvidia.com/cuda-downloads) installed).\n",
    "\n",
    "Next, we need to confirm that the GPU version of PyTorch is installed. If a CPU version of PyTorch is already installed, we need to uninstall it first. For example, use the `pip uninstall torch` command, then install the corresponding PyTorch version according to your CUDA version. "
   ]
  },
  {
   "cell_type": "markdown",
   "metadata": {
    "slideshow": {
     "slide_type": "fragment"
    }
   },
   "source": [
    "If you are using Colab you can select the use of gpu in (Edit → Notebook Settings → select GPU from the Hardware Accelerator drop-down)"
   ]
  },
  {
   "cell_type": "markdown",
   "metadata": {
    "slideshow": {
     "slide_type": "subslide"
    }
   },
   "source": [
    "We can specify devices, such as CPUs and GPUs, for storage and calculation. By default, tensors are created in the main memory and then use the CPU for calculations.\n",
    "\n",
    "Lets check the number of available GPUs:"
   ]
  },
  {
   "cell_type": "code",
   "execution_count": 11,
   "metadata": {
    "slideshow": {
     "slide_type": "-"
    }
   },
   "outputs": [
    {
     "data": {
      "text/plain": [
       "1"
      ]
     },
     "execution_count": 11,
     "metadata": {},
     "output_type": "execute_result"
    }
   ],
   "source": [
    "import torch\n",
    "torch.cuda.device_count()"
   ]
  },
  {
   "cell_type": "markdown",
   "metadata": {
    "slideshow": {
     "slide_type": "subslide"
    }
   },
   "source": [
    "In PyTorch, the CPU and GPU can be indicated by `torch.device('cpu')` and `torch.cuda.device('cuda')`.<br> It should be noted that the cpu device means all physical CPUs and memory. This means that PyTorch’s calculations will try to use all CPU cores.<br> However, a gpu device only represents one card and the corresponding memory. If there are multiple GPUs, we use `torch.cuda.device(f'cuda:{i}')` to represent the  ith  GPU."
   ]
  },
  {
   "cell_type": "code",
   "execution_count": 12,
   "metadata": {
    "slideshow": {
     "slide_type": "-"
    }
   },
   "outputs": [
    {
     "data": {
      "text/plain": [
       "(device(type='cpu'),\n",
       " <torch.cuda.device at 0x2735362ec48>,\n",
       " <torch.cuda.device at 0x273535f9208>)"
      ]
     },
     "execution_count": 12,
     "metadata": {},
     "output_type": "execute_result"
    }
   ],
   "source": [
    "torch.device('cpu'), torch.cuda.device('cuda'), torch.cuda.device('cuda:0')"
   ]
  },
  {
   "cell_type": "markdown",
   "metadata": {
    "slideshow": {
     "slide_type": "subslide"
    }
   },
   "source": [
    "Before executing on our desired device, we first have to make sure our tensors and models are transferred to the device’s memory. We set up the device to be a GPU if possible.\n",
    "\n",
    "This can be done with the following lines of code:"
   ]
  },
  {
   "cell_type": "code",
   "execution_count": 13,
   "metadata": {
    "slideshow": {
     "slide_type": "-"
    }
   },
   "outputs": [
    {
     "name": "stdout",
     "output_type": "stream",
     "text": [
      "cuda:0\n"
     ]
    }
   ],
   "source": [
    "device = torch.device(\"cuda:0\" if torch.cuda.is_available() else \"cpu\")\n",
    "print(device)"
   ]
  },
  {
   "cell_type": "markdown",
   "metadata": {
    "slideshow": {
     "slide_type": "subslide"
    }
   },
   "source": [
    "By default, tensors are created on the CPU. We can query the device where the tensor is located"
   ]
  },
  {
   "cell_type": "code",
   "execution_count": 14,
   "metadata": {
    "slideshow": {
     "slide_type": "-"
    }
   },
   "outputs": [
    {
     "name": "stdout",
     "output_type": "stream",
     "text": [
      "cpu\n"
     ]
    }
   ],
   "source": [
    "x = torch.rand(2, 3)\n",
    "print(x.device)"
   ]
  },
  {
   "cell_type": "markdown",
   "metadata": {
    "slideshow": {
     "slide_type": "subslide"
    }
   },
   "source": [
    "We can then set the device for the storage of our tensors by using"
   ]
  },
  {
   "cell_type": "code",
   "execution_count": 15,
   "metadata": {
    "slideshow": {
     "slide_type": "-"
    }
   },
   "outputs": [
    {
     "name": "stdout",
     "output_type": "stream",
     "text": [
      "tensor([[0.0236, 0.1131, 0.0900],\n",
      "        [0.6350, 0.8746, 0.9939]], device='cuda:0')\n"
     ]
    }
   ],
   "source": [
    "y = x.to(device)\n",
    "print(y)"
   ]
  },
  {
   "cell_type": "code",
   "execution_count": 16,
   "metadata": {
    "slideshow": {
     "slide_type": "-"
    }
   },
   "outputs": [
    {
     "name": "stdout",
     "output_type": "stream",
     "text": [
      "tensor([[0.6130, 0.0101, 0.3984],\n",
      "        [0.0403, 0.1563, 0.4825]], device='cuda:0')\n"
     ]
    }
   ],
   "source": [
    "print(torch.rand(2, 3, device=device))"
   ]
  },
  {
   "cell_type": "markdown",
   "metadata": {
    "slideshow": {
     "slide_type": "slide"
    }
   },
   "source": [
    "### Real world example\n",
    "\n",
    "For a real world example, we will use a dataset from [Scikit-learn](https://scikit-learn.org/stable/index.html), which is an open source machine learning library for python. \n",
    "\n",
    "**Digression:** `Scikit-learn` provides a large range of machine learning algorithms, such as lasso, boosting, random forests and even basic neural networks.<br> Additionally, it offers various tools for data preprocessing, model selection and many other utilities. For many machine learning problems, it provides unified framework to apply a off-the-shelf machine learning algorithms."
   ]
  },
  {
   "cell_type": "markdown",
   "metadata": {
    "slideshow": {
     "slide_type": "subslide"
    }
   },
   "source": [
    "We will use a sample of the [California housing dataset](https://scikit-learn.org/stable/modules/generated/sklearn.datasets.fetch_california_housing.html#sklearn.datasets.fetch_california_housing)."
   ]
  },
  {
   "cell_type": "code",
   "execution_count": 17,
   "metadata": {
    "scrolled": false,
    "slideshow": {
     "slide_type": "-"
    }
   },
   "outputs": [
    {
     "data": {
      "text/plain": [
       "((7500, 8), (2500, 8))"
      ]
     },
     "execution_count": 17,
     "metadata": {},
     "output_type": "execute_result"
    }
   ],
   "source": [
    "from sklearn.datasets import fetch_california_housing\n",
    "from sklearn.model_selection import train_test_split\n",
    "import numpy as np\n",
    "dataset = fetch_california_housing()\n",
    "features = dataset.data[0:10000,:]\n",
    "target = dataset.target[0:10000]\n",
    "\n",
    "from sklearn.preprocessing import StandardScaler\n",
    "scaler = StandardScaler()\n",
    "scaler.fit(features)\n",
    "features = scaler.transform(features)\n",
    "target = (target-np.mean(target))/np.std(target)\n",
    "\n",
    "features_train, features_test, target_train, target_test = train_test_split(features, target, test_size=0.25,random_state=42)\n",
    "\n",
    "features_train.shape, features_test.shape"
   ]
  },
  {
   "cell_type": "markdown",
   "metadata": {
    "slideshow": {
     "slide_type": "subslide"
    }
   },
   "source": [
    "Next, we specify the device and store the tensors."
   ]
  },
  {
   "cell_type": "code",
   "execution_count": 18,
   "metadata": {
    "slideshow": {
     "slide_type": "-"
    }
   },
   "outputs": [],
   "source": [
    "import torch\n",
    "device = torch.device(\"cuda:0\" if torch.cuda.is_available() else \"cpu\")\n",
    "X_train = torch.tensor(features_train, device = device, dtype = torch.float)\n",
    "Y_train = torch.tensor(target_train, device = device, dtype = torch.float).reshape(-1,1)\n",
    "X_test = torch.tensor(features_test, device = device, dtype = torch.float)\n",
    "Y_test = torch.tensor(target_test, device = device, dtype = torch.float).reshape(-1,1)"
   ]
  },
  {
   "cell_type": "markdown",
   "metadata": {
    "slideshow": {
     "slide_type": "subslide"
    }
   },
   "source": [
    "Define the data loader."
   ]
  },
  {
   "cell_type": "code",
   "execution_count": 19,
   "metadata": {
    "slideshow": {
     "slide_type": "-"
    }
   },
   "outputs": [],
   "source": [
    "from torch.utils import data\n",
    "def load_array(data_arrays, batch_size, is_train=True): \n",
    "    \"\"\"Construct a PyTorch data iterator.\"\"\"\n",
    "    dataset = data.TensorDataset(*data_arrays)\n",
    "    return data.DataLoader(dataset, batch_size, shuffle=is_train)\n",
    "batch_size = 7500\n",
    "data_iter = load_array((X_train, Y_train), batch_size)"
   ]
  },
  {
   "cell_type": "markdown",
   "metadata": {
    "slideshow": {
     "slide_type": "subslide"
    }
   },
   "source": [
    "Further, specify the structure of our network and initialize the weights."
   ]
  },
  {
   "cell_type": "code",
   "execution_count": 20,
   "metadata": {
    "slideshow": {
     "slide_type": "-"
    }
   },
   "outputs": [
    {
     "name": "stdout",
     "output_type": "stream",
     "text": [
      "training on cuda:0\n"
     ]
    }
   ],
   "source": [
    "from torch import nn\n",
    "\n",
    "deep_net = nn.Sequential(nn.Linear(X_train.shape[1], 200),\n",
    "                    nn.ReLU(),\n",
    "                    nn.Linear(200, 200),\n",
    "                    nn.ReLU(),\n",
    "                    nn.Linear(200, 100),\n",
    "                    nn.ReLU(),\n",
    "                    nn.Linear(100, 1))\n",
    "def init_weights(m):\n",
    "    if type(m) == nn.Linear:\n",
    "        torch.nn.init.normal_(m.weight, std=0.01)\n",
    "        \n",
    "torch.manual_seed(42) #set a seed for replicability\n",
    "deep_net.apply(init_weights)\n",
    "deep_net.to(device)\n",
    "net = deep_net.float() #specifing the right data type for the weights/ net\n",
    "print('training on', device)"
   ]
  },
  {
   "cell_type": "markdown",
   "metadata": {
    "slideshow": {
     "slide_type": "subslide"
    }
   },
   "source": [
    "Define the loss and the optimization algorithm."
   ]
  },
  {
   "cell_type": "code",
   "execution_count": 21,
   "metadata": {
    "slideshow": {
     "slide_type": "-"
    }
   },
   "outputs": [],
   "source": [
    "loss = nn.MSELoss()\n",
    "trainer = torch.optim.Adam(deep_net.parameters(), lr=0.03) #modified version of SDG"
   ]
  },
  {
   "cell_type": "markdown",
   "metadata": {
    "slideshow": {
     "slide_type": "subslide"
    }
   },
   "source": [
    "Training the model."
   ]
  },
  {
   "cell_type": "code",
   "execution_count": 22,
   "metadata": {
    "slideshow": {
     "slide_type": "-"
    }
   },
   "outputs": [],
   "source": [
    "num_epochs = 200\n",
    "with torch.no_grad():\n",
    "    train_losses = loss(deep_net(X_train), Y_train).cpu().detach().numpy()\n",
    "    test_losses = loss(deep_net(X_test), Y_test).cpu().detach().numpy() # save the loss at each epoch\n",
    "\n",
    "for epoch in range(num_epochs):\n",
    "    for X, Y in data_iter:\n",
    "        training_loss = loss(deep_net(X) ,Y)\n",
    "        trainer.zero_grad() #reset the gradient to zero\n",
    "        training_loss.backward()\n",
    "        trainer.step()\n",
    "    with torch.no_grad():\n",
    "        train_losses = np.append(train_losses,loss(deep_net(X_train), Y_train).cpu().numpy())\n",
    "        test_losses = np.append(test_losses,loss(deep_net(X_test), Y_test).cpu().numpy())"
   ]
  },
  {
   "cell_type": "markdown",
   "metadata": {
    "slideshow": {
     "slide_type": "subslide"
    }
   },
   "source": [
    "Take a look a the loss."
   ]
  },
  {
   "cell_type": "code",
   "execution_count": 23,
   "metadata": {
    "scrolled": true,
    "slideshow": {
     "slide_type": "-"
    }
   },
   "outputs": [
    {
     "data": {
      "image/png": "[encoded data removed]",
      "text/plain": [
       "<Figure size 1000x800 with 1 Axes>"
      ]
     },
     "metadata": {
      "needs_background": "light"
     },
     "output_type": "display_data"
    }
   ],
   "source": [
    "import matplotlib.pyplot as plt\n",
    "fig = plt.figure(figsize=(5,4), dpi= 200)\n",
    "plt.plot(np.arange(train_losses.shape[0]),train_losses, label='Training Set')\n",
    "plt.plot(np.arange(test_losses.shape[0]),test_losses, label='Testing Set')\n",
    "plt.ylabel('Loss');plt.xlabel('Epoch');plt.xticks(np.arange(0, train_losses.shape[0], step=500))\n",
    "plt.ylim((0, 2))\n",
    "plt.legend()\n",
    "plt.show()"
   ]
  },
  {
   "cell_type": "markdown",
   "metadata": {
    "slideshow": {
     "slide_type": "slide"
    }
   },
   "source": [
    "### Dropout\n",
    "\n",
    "There are different ways to try to avoid overfitting for deep neural networks. In this section, we will discuss the idea of increasing the robustness of the model by using pertubations.\n",
    "\n",
    "Dropout is the idea to randomly remove different nodes from the layer at each training step.\n",
    "\n",
    "<center>\n",
    "<img src=\"./figures/NN/graph_dropout.png\"  style=\"width: 800px;\"/><br></center>\n",
    "<center><b>Figure 13:</b> Neural Network during training with dropout in the second and third hidden layer.</center>"
   ]
  },
  {
   "cell_type": "markdown",
   "metadata": {
    "slideshow": {
     "slide_type": "subslide"
    }
   },
   "source": [
    "The function `torch.nn.Dropout` randomly zeros some elements of the input tensor with probability `p` (during training).<br> This corresponds to randomly dropping nodes (where each node is dropped according to a Bernoulli distribution with parameter `p`). Furthermore, the outputs are scaled by a factor of $\\frac{1}{1-p}$ during training (training is the default when a model is created,to set a model to training use `model.train()`). "
   ]
  },
  {
   "cell_type": "code",
   "execution_count": 24,
   "metadata": {
    "slideshow": {
     "slide_type": "-"
    }
   },
   "outputs": [
    {
     "data": {
      "text/plain": [
       "tensor([[ 0.7158,  0.0000, -0.1296, -1.1927, -0.0000],\n",
       "        [ 0.2562,  0.4110,  1.6104, -0.6936,  0.1122],\n",
       "        [-0.0000, -1.4647, -0.8080,  0.0000, -4.2936],\n",
       "        [-0.0000,  0.0000, -0.0000,  1.0302, -0.0000]])"
      ]
     },
     "execution_count": 24,
     "metadata": {},
     "output_type": "execute_result"
    }
   ],
   "source": [
    "dropout = nn.Dropout(p=0.5)\n",
    "input = torch.randn(4, 5)\n",
    "output = dropout(input)\n",
    "output"
   ]
  },
  {
   "cell_type": "markdown",
   "metadata": {
    "slideshow": {
     "slide_type": "subslide"
    }
   },
   "source": [
    "During testing or prediction (set the model to `model.eval()`), the module simply computes an identity function."
   ]
  },
  {
   "cell_type": "code",
   "execution_count": 25,
   "metadata": {
    "slideshow": {
     "slide_type": "-"
    }
   },
   "outputs": [
    {
     "data": {
      "text/plain": [
       "tensor([[ 0.3579,  1.3661, -0.0648, -0.5964, -1.1349],\n",
       "        [ 0.1281,  0.2055,  0.8052, -0.3468,  0.0561],\n",
       "        [-0.6453, -0.7323, -0.4040,  0.1915, -2.1468],\n",
       "        [-1.2842,  0.7121, -1.3042,  0.5151, -0.0721]])"
      ]
     },
     "execution_count": 25,
     "metadata": {},
     "output_type": "execute_result"
    }
   ],
   "source": [
    "dropout.eval()\n",
    "output = dropout(input)\n",
    "output"
   ]
  },
  {
   "cell_type": "markdown",
   "metadata": {
    "slideshow": {
     "slide_type": "slide"
    }
   },
   "source": [
    "### $L_2$ Regularization or Weight Decay\n",
    "\n",
    "In machine learning, a popular tool to avoid overfitting is to apply shrinkage or regularization.<br>\n",
    "The motivation originates from the high-dimensional linear regression. In the high-dimensional linear regression setting\n",
    "\n",
    "$$Y = w^TX+\\varepsilon,$$\n",
    "\n",
    "with $X= (X_1,\\dots,X_p)^T$ and the number of features $p$ exceeds the number of observations $n$. "
   ]
  },
  {
   "cell_type": "markdown",
   "metadata": {
    "slideshow": {
     "slide_type": "fragment"
    }
   },
   "source": [
    "As a consequence, the solution to \n",
    "\n",
    "$$\\hat{w}=\\arg\\min_{w\\in\\mathbb{R}^p}\\mathbb{E}_n[(Y-w^T X)^2]=\\arg\\min_{w\\in\\mathbb{R}^p}\\frac{1}{n}\\sum\\limits_{i=1}^n(Y_i-w^T X_i)^2$$\n",
    "\n",
    "is not unique and able to perfectly fit the observations (overfitting)."
   ]
  },
  {
   "cell_type": "markdown",
   "metadata": {
    "slideshow": {
     "slide_type": "subslide"
    }
   },
   "source": [
    "High-dimensional statistics is a large field of research and there exist several popular methods which try to avoid overfitting. Two of the most popular methods are **lasso regression**\n",
    "\n",
    "$$\\hat{w}=\\arg\\min_{w\\in\\mathbb{R}^p}\\left(\\mathbb{E}_n[(Y-w^T X)^2] + \\lambda \\|w\\|_1\\right)=\\arg\\min_{w\\in\\mathbb{R}^p}\\left(\\frac{1}{n}\\sum\\limits_{i=1}^n(Y-w^T X)^2 + \\lambda \\sum\\limits_{i=1}^n |w|\\right)$$\n",
    "\n",
    "and **ridge regression**\n",
    "\n",
    "$$\\hat{w}=\\arg\\min_{w\\in\\mathbb{R}^p}\\left(\\mathbb{E}_n[(Y-w^T X)^2] + \\lambda \\|w\\|_2^2\\right)=\\arg\\min_{w\\in\\mathbb{R}^p}\\left(\\frac{1}{n}\\sum\\limits_{i=1}^n(Y-w^T X)^2 + \\lambda \\sum\\limits_{i=1}^n w^2\\right).$$\n",
    "\n",
    "Here, $\\lambda$ is a tuning parameter which determines the strengh of the penalization. Both methods (especially lasso) have nice theoretical properties and are discussed in more detail in the machine learning lecture."
   ]
  },
  {
   "cell_type": "markdown",
   "metadata": {
    "slideshow": {
     "slide_type": "subslide"
    }
   },
   "source": [
    "**Intuition of the penalization:**<br> The most simple model would be $w^TX\\equiv 0$, which corresponds to all weights being zero. Adding an additional term which penalizes using a larger weight vector, shrinks the estimates in the direction of zero. Lasso and Ridge use different norms to determine the distance from zero.\n",
    "\n",
    "The $L_2$-penalty from Ridge penalizes large weights much harder than small weights, which are very lightly penalized.<br>\n",
    "In contrast the $L_1$-penalty from Lasso shrinks some weights exactly to zero, resulting in variable selection."
   ]
  },
  {
   "cell_type": "markdown",
   "metadata": {
    "slideshow": {
     "slide_type": "subslide"
    }
   },
   "source": [
    "The same ideas can be used in deep learning.<br>\n",
    "Now instead of minimizing the only the risk the goal is to minimize\n",
    "$$\\min_{\\theta\\in\\Theta}\\left(\\mathbb{E}[l(Y,f(X,\\theta))]+ \\frac{\\lambda}{2}\\|\\theta\\|_2^2\\right).$$\n",
    "\n",
    "What will happen during the training?"
   ]
  },
  {
   "cell_type": "markdown",
   "metadata": {
    "slideshow": {
     "slide_type": "subslide"
    }
   },
   "source": [
    "The gradient will take the following form \n",
    "\n",
    "$$\\nabla_\\theta\\mathbb{E}[l(Y,f(X,\\theta))] + \\lambda \\theta,$$\n",
    "\n",
    "where the factor $\\frac{\\lambda}{2}$ was just chosen for notational convenience. As long as the penalty is additive, this will result in a similar form for the gradient."
   ]
  },
  {
   "cell_type": "markdown",
   "metadata": {
    "slideshow": {
     "slide_type": "fragment"
    }
   },
   "source": [
    "Therefore the updating of the weights changes to \n",
    "\n",
    "$$\\theta^{(\\text{new})} = \\theta^{(\\text{old})} -\\nu_1 \\left(\\nabla_\\theta\\mathbb{E}[l(Y,f(X,\\theta))]+\\lambda \\theta^{(\\text{old})}\\right)= \\left(1-\\nu_1\\lambda\\right)\\theta^{(\\text{old})} -\\nu_1 \\nabla_\\theta\\mathbb{E}[l(Y,f(X,\\theta))],$$\n",
    "\n",
    "which is nearly identical to the original update step and does not require a lot of computational resources. This can be achieved by adding `weight_decay` (which corresponds to $\\lambda$) to `torch.optim.SDG`."
   ]
  },
  {
   "cell_type": "code",
   "execution_count": 27,
   "metadata": {
    "slideshow": {
     "slide_type": "-"
    }
   },
   "outputs": [],
   "source": [
    "torch.optim.SGD(deep_net.parameters(), lr=0.03,weight_decay=0.01);"
   ]
  },
  {
   "cell_type": "markdown",
   "metadata": {
    "slideshow": {
     "slide_type": "slide"
    }
   },
   "source": [
    "###  Revisiting the Example\n",
    "\n",
    "Now we revisit the example and add dropout and weight decay."
   ]
  },
  {
   "cell_type": "code",
   "execution_count": 28,
   "metadata": {
    "slideshow": {
     "slide_type": "subslide"
    }
   },
   "outputs": [],
   "source": [
    "deep_net_drop = nn.Sequential(nn.Linear(X_train.shape[1], 100),\n",
    "                    nn.ReLU(),\n",
    "                    nn.Linear(100, 100),\n",
    "                    nn.Dropout(0.2),\n",
    "                    nn.ReLU(),\n",
    "                    nn.Linear(100, 100),\n",
    "                    nn.ReLU(),\n",
    "                    nn.Linear(100, 1))\n",
    "\n",
    "torch.manual_seed(42) #set a seed for replicability\n",
    "deep_net_drop.apply(init_weights)\n",
    "deep_net_drop.to(device);"
   ]
  },
  {
   "cell_type": "code",
   "execution_count": 29,
   "metadata": {
    "slideshow": {
     "slide_type": "subslide"
    }
   },
   "outputs": [],
   "source": [
    "trainer = torch.optim.Adam(deep_net_drop.parameters(), lr=0.03,weight_decay=0.01)\n",
    "num_epochs = 1000\n",
    "deep_net_drop.eval()\n",
    "with torch.no_grad():\n",
    "    train_losses = loss(deep_net_drop(X_train), Y_train).cpu().detach().numpy()\n",
    "    test_losses = loss(deep_net_drop(X_test), Y_test).cpu().detach().numpy() # save the loss at each epoch\n",
    "\n",
    "for epoch in range(num_epochs):\n",
    "    deep_net_drop.train()\n",
    "    for X, Y in data_iter:\n",
    "        training_loss = loss(deep_net_drop(X) ,Y)\n",
    "        trainer.zero_grad() #reset the gradient to zero\n",
    "        training_loss.backward()\n",
    "        trainer.step()\n",
    "    deep_net_drop.eval()\n",
    "    with torch.no_grad():\n",
    "        train_losses = np.append(train_losses,loss(deep_net_drop(X_train), Y_train).cpu().numpy())\n",
    "        test_losses = np.append(test_losses,loss(deep_net_drop(X_test), Y_test).cpu().numpy())"
   ]
  },
  {
   "cell_type": "code",
   "execution_count": 30,
   "metadata": {
    "scrolled": true,
    "slideshow": {
     "slide_type": "subslide"
    }
   },
   "outputs": [
    {
     "data": {
      "image/png": "[encoded data removed]",
      "text/plain": [
       "<Figure size 1000x800 with 1 Axes>"
      ]
     },
     "metadata": {
      "needs_background": "light"
     },
     "output_type": "display_data"
    }
   ],
   "source": [
    "import matplotlib.pyplot as plt\n",
    "fig = plt.figure(figsize=(5,4), dpi= 200)\n",
    "plt.plot(np.arange(train_losses.shape[0]),train_losses, label='Training Set')\n",
    "plt.plot(np.arange(test_losses.shape[0]),test_losses, label='Testing Set')\n",
    "plt.ylabel('Loss');plt.xlabel('Epoch');plt.xticks(np.arange(0, train_losses.shape[0], step=500))\n",
    "plt.ylim((0, 2))\n",
    "plt.legend()\n",
    "plt.show()"
   ]
  }
 ],
 "metadata": {
  "celltoolbar": "Slideshow",
  "kernelspec": {
   "display_name": "Python 3",
   "language": "python",
   "name": "python3"
  },
  "language_info": {
   "codemirror_mode": {
    "name": "ipython",
    "version": 3
   },
   "file_extension": ".py",
   "mimetype": "text/x-python",
   "name": "python",
   "nbconvert_exporter": "python",
   "pygments_lexer": "ipython3",
   "version": "3.7.9"
  }
 },
 "nbformat": 4,
 "nbformat_minor": 2
}