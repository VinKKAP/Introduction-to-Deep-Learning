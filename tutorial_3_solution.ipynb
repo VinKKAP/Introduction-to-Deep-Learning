{
  "cells": [
    {
      "cell_type": "markdown",
      "metadata": {
        "id": "goDwpmZD0jJS"
      },
      "source": [
        "# Tutorial 3\n",
        "\n",
        "## 1. Backpropagation (without Python)\n",
        "\n",
        "Take a look at the following simple neural network."
      ]
    },
    {
      "cell_type": "markdown",
      "metadata": {
        "id": "ZLl5dBc60jJZ"
      },
      "source": [
        "<center>\n",
        "<img src=\"https://raw.githubusercontent.com/SvenKlaassen/DL-Lecture-Figures/main/figures/simple_nn.png\" alt=\"Simple Network\" style=\"width: 800px;\"/><br>\n",
        "<b>Figure 1:</b> Simple Neural Network.</center>"
      ]
    },
    {
      "cell_type": "markdown",
      "metadata": {
        "id": "cPb_dahY0jJa"
      },
      "source": [
        "Here, $\\sigma_1$ and $\\sigma_2$ are ReLU. Further the weights are set to\n",
        "\n",
        "$$ v_1=\\begin{pmatrix} 1\\\\2 \\end{pmatrix}, v_2=\\begin{pmatrix} -3\\\\4 \\end{pmatrix} \\text{ and }w=\\begin{pmatrix} -2\\\\1\\\\0.5 \\end{pmatrix}.$$\n",
        "\n",
        "Assume you observe the features $x=(1,1)^T$ with outcome $y=4$.\n",
        "\n",
        "a) Calculate one forward pass through the model to obtain the predicted value $\\hat{y}$. What is the corresponding squared loss?\n",
        "\n",
        "b) Perform a backward pass through the model and calculate the gradient of the loss function with respect to all parameters of the model.\n",
        "\n",
        "c) (Optional) Validate your results using python."
      ]
    },
    {
      "cell_type": "markdown",
      "metadata": {
        "id": "sumiualT0jJc"
      },
      "source": [
        "It holds\n",
        "\n",
        "$$\\begin{align}\n",
        "\\sigma_1(v_1^Tx) &= \\text{ReLU}(1\\cdot 1+(-3)\\cdot 1)=\\text{ReLU}(-2)=0\\\\\n",
        "\\sigma_2(v_2^Tx) &= \\text{ReLU}(2\\cdot 1+4\\cdot 1)=\\text{ReLU}(6)=6\\\\\n",
        "\\hat{y} &= w^T\\sigma(X) =1\\cdot0+0.5\\cdot 6-2 = 1\n",
        "\\end{align}$$\n",
        "\n",
        "Therefore, the loss is $l(\\hat{y},y)=(1-4)^2=9$."
      ]
    },
    {
      "cell_type": "markdown",
      "metadata": {
        "id": "yz3BX3Rf0jJd"
      },
      "source": [
        "It holds for $y = 4$ (we are abusing notation a bit)\n",
        "\n",
        "$$\\begin{align}\n",
        "\\frac{\\partial l(\\hat{y},y)}{\\partial \\hat{y}} &= 2\\left(\\hat{y}-y\\right) =  -6\n",
        "\\end{align}$$\n",
        "\n",
        "Then it follows\n",
        "\n",
        "$$\\begin{align}\n",
        "\\frac{\\partial l(\\hat{y},y)}{\\partial w_0} &=\\frac{\\partial l(\\hat{y},y)}{\\partial \\hat{y}}\\frac{\\partial \\hat{y}}{\\partial w_0}=-6\\cdot\\frac{\\partial \\left(w_0\\cdot 1+ w_1\\cdot \\sigma_1(v_1^Tx)+w_2\\cdot \\sigma_2(v_2^Tx)\\right)}{\\partial w_0}=-6\\cdot 1=-6\\\\\n",
        "\\frac{\\partial l(\\hat{y},y)}{\\partial w_1} &=\\frac{\\partial l(\\hat{y},y)}{\\partial \\hat{y}}\\frac{\\partial \\hat{y}}{\\partial w_1}=-6\\cdot\\frac{\\partial \\left(w_0\\cdot 1+ w_1\\cdot \\sigma_1(v_1^Tx)+w_2\\cdot \\sigma_2(v_2^Tx)\\right)}{\\partial w_1}=-6\\cdot\\sigma_1(v_1^Tx)=0\\\\\n",
        "\\frac{\\partial l(\\hat{y},y)}{\\partial w_2} &=\\frac{\\partial l(\\hat{y},y)}{\\partial \\hat{y}}\\frac{\\partial \\hat{y}}{\\partial w_2}=-6\\cdot\\frac{\\partial \\left(w_0\\cdot 1+ w_1\\cdot \\sigma_1(v_1^Tx)+w_2\\cdot \\sigma_2(v_2^Tx)\\right)}{\\partial w_2}=-6\\cdot \\sigma_2(v_2^Tx)=-36\n",
        "\\end{align}$$\n",
        "\n",
        "\n",
        "Further for the hidden layer, it holds\n",
        "\n",
        "$$\\begin{align}\n",
        "\\frac{\\partial l(\\hat{y},y)}{\\sigma_1(v_1^Tx)} &=\\frac{\\partial l(\\hat{y},y)}{\\partial \\hat{y}}\\frac{\\partial \\hat{y}}{\\partial \\sigma_1(v_1^Tx)}=-6\\cdot \\frac{\\partial \\left(w_0\\cdot 1+ w_1\\cdot \\sigma_1(v_1^Tx)+w_2\\cdot \\sigma_2(v_2^Tx)\\right)}{\\partial \\sigma_1(v_1^Tx)}=-6\\cdot w_1 = -6\\\\\n",
        "\\frac{\\partial l(\\hat{y},y)}{\\sigma_2(v_2^Tx)} &=\\frac{\\partial l(\\hat{y},y)}{\\partial \\hat{y}}\\frac{\\partial \\hat{y}}{\\partial \\sigma_2(v_2^Tx)}=-6\\cdot \\frac{\\partial \\left(w_0\\cdot 1+ w_1\\cdot \\sigma_1(v_1^Tx)+w_2\\cdot \\sigma_2(v_2^Tx)\\right)}{\\partial \\sigma_1(v_2^Tx)}=-6\\cdot w_2 = -3\n",
        "\\end{align}$$\n",
        "\n",
        "and\n",
        "\n",
        "$$\\begin{align}\n",
        "\\frac{\\partial l(\\hat{y},y)}{\\partial v_1^Tx} &=\\frac{\\partial l(\\hat{y},y)}{\\partial \\sigma_1(v_1^Tx)}\\frac{\\partial \\sigma_1(v_1^Tx)}{\\partial v_1^Tx}=-6\\cdot \\frac{\\partial \\text{ReLU}(v_1^Tx)}{\\partial v_1^Tx}=-6\\cdot 0 = 0\\\\\n",
        "\\frac{\\partial l(\\hat{y},y)}{\\partial v_2^Tx} &=\\frac{\\partial l(\\hat{y},y)}{\\partial \\sigma_2(v_2^Tx)}\\frac{\\partial \\sigma_2(v_2^Tx)}{\\partial v_2^Tx}=-3\\cdot \\frac{\\partial \\text{ReLU}(v_2^Tx)}{\\partial v_2^Tx}=-3\\cdot 1 = -3\\\\\n",
        "\\end{align}$$\n",
        "\n",
        "\n",
        "(Of course this can be done much faster, e.g. by relying on the properties of the ReLU.)\n",
        "\n",
        "Finally,\n",
        "\n",
        "$$\\begin{align}\n",
        "\\frac{\\partial l(\\hat{y},y)}{\\partial v_{1,1}} &=\\frac{\\partial l(\\hat{y},y)}{\\partial v_1^Tx}\\frac{\\partial v_1^Tx}{\\partial v_{1,1}} = 0 \\cdot \\frac{\\partial v_{1,1}x_1+v_{1,2}x_2}{\\partial v_{1,1}}=0 \\cdot x_1 = 0\\\\\n",
        "\\frac{\\partial l(\\hat{y},y)}{\\partial v_{1,2}} &=\\frac{\\partial l(\\hat{y},y)}{\\partial v_1^Tx}\\frac{\\partial v_1^Tx}{\\partial v_{1,2}} = 0 \\cdot \\frac{\\partial v_{1,1}x_1+v_{1,2}x_2}{\\partial v_{1,2}}=0 \\cdot x_2 = 0\\\\\n",
        "\\frac{\\partial l(\\hat{y},y)}{\\partial v_{2,1}} &=\\frac{\\partial l(\\hat{y},y)}{\\partial v_2^Tx}\\frac{\\partial v_2^Tx}{\\partial v_{2,1}} = 0 \\cdot \\frac{\\partial v_{2,1}x_1+v_{2,2}x_2}{\\partial v_{2,1}}=-3 \\cdot 1 = -3\\\\\n",
        "\\frac{\\partial l(\\hat{y},y)}{\\partial v_{2,2}} &=\\frac{\\partial l(\\hat{y},y)}{\\partial v_2^Tx}\\frac{\\partial v_2^Tx}{\\partial v_{2,2}} = 0 \\cdot \\frac{\\partial v_{2,1}x_1+v_{2,2}x_2}{\\partial v_{2,2}}=-3 \\cdot 1 = -3\n",
        "\\end{align}$$\n"
      ]
    },
    {
      "cell_type": "markdown",
      "metadata": {
        "id": "4FZkFLDl0jJf"
      },
      "source": [
        "Test the results with torch"
      ]
    },
    {
      "cell_type": "code",
      "execution_count": null,
      "metadata": {
        "id": "WjkSzwme0jJg"
      },
      "outputs": [],
      "source": [
        "import torch\n",
        "from torch import nn\n",
        "x=torch.tensor([1.,1.])\n",
        "y = torch.tensor([4.])"
      ]
    },
    {
      "cell_type": "code",
      "execution_count": null,
      "metadata": {
        "id": "7B5ajAne0jJj"
      },
      "outputs": [],
      "source": [
        "#set weights manually\n",
        "v_1= torch.tensor([1.,  -3],requires_grad = True)\n",
        "v_2= torch.tensor([2.,  4],requires_grad = True)\n",
        "b = torch.tensor([-2.],requires_grad = True)\n",
        "w = torch.tensor([1,0.5],requires_grad = True)"
      ]
    },
    {
      "cell_type": "code",
      "execution_count": null,
      "metadata": {
        "id": "O1yv8w4-0jJk"
      },
      "outputs": [],
      "source": [
        "activation = nn.ReLU()\n",
        "h1 = activation(torch.dot(v_1,x))\n",
        "h2 = activation(torch.dot(v_2,x))"
      ]
    },
    {
      "cell_type": "code",
      "execution_count": null,
      "metadata": {
        "id": "D1KLpgWA0jJl",
        "outputId": "5cd6aafa-16ab-40a5-dae3-0b4b4275fd32",
        "colab": {
          "base_uri": "https://localhost:8080/"
        }
      },
      "outputs": [
        {
          "output_type": "stream",
          "name": "stdout",
          "text": [
            "tensor([1.], grad_fn=<AddBackward0>)\n"
          ]
        },
        {
          "output_type": "execute_result",
          "data": {
            "text/plain": [
              "tensor([9.], grad_fn=<PowBackward0>)"
            ]
          },
          "metadata": {},
          "execution_count": 4
        }
      ],
      "source": [
        "output = w[0]*h1+w[1]*h2+b\n",
        "print(output)\n",
        "loss = (y-output)**2\n",
        "loss"
      ]
    },
    {
      "cell_type": "code",
      "execution_count": null,
      "metadata": {
        "id": "UUO6jMHs0jJn"
      },
      "outputs": [],
      "source": [
        "loss.backward()"
      ]
    },
    {
      "cell_type": "code",
      "execution_count": null,
      "metadata": {
        "id": "ssQ1VjU10jJo",
        "outputId": "c7f38246-efd8-4f42-c8c7-51bc215c5e5c",
        "colab": {
          "base_uri": "https://localhost:8080/"
        }
      },
      "outputs": [
        {
          "output_type": "stream",
          "name": "stdout",
          "text": [
            "tensor([-6.]) tensor([0., 0.]) tensor([-3., -3.]) tensor([  0., -36.])\n"
          ]
        }
      ],
      "source": [
        "print(b.grad,v_1.grad,v_2.grad,w.grad)"
      ]
    },
    {
      "cell_type": "code",
      "source": [
        "for r in range(100):\n",
        "  h1 = activation(torch.dot(v_1,x))\n",
        "  h2 = activation(torch.dot(v_2,x))\n",
        "  output = w[0]*h1+w[1]*h2+b\n",
        "  loss = (y-output)**2\n",
        "  loss.backward()\n",
        "  with torch.no_grad():\n",
        "    b -= 0.01*b.grad\n",
        "    v_1 -= 0.01*v_1.grad\n",
        "    v_2 -= 0.01*v_2.grad\n",
        "    w -= 0.01*w.grad\n",
        "  if r%10==0:\n",
        "    print(loss)"
      ],
      "metadata": {
        "colab": {
          "base_uri": "https://localhost:8080/"
        },
        "id": "P1JLsq5r9NFC",
        "outputId": "98f755c0-bd3a-4d0c-dd6d-29a850602c01"
      },
      "execution_count": null,
      "outputs": [
        {
          "output_type": "stream",
          "name": "stdout",
          "text": [
            "tensor([9.], grad_fn=<PowBackward0>)\n",
            "tensor([1.8699], grad_fn=<PowBackward0>)\n",
            "tensor([13.2947], grad_fn=<PowBackward0>)\n",
            "tensor([0.6207], grad_fn=<PowBackward0>)\n",
            "tensor([15.1326], grad_fn=<PowBackward0>)\n",
            "tensor([0.1734], grad_fn=<PowBackward0>)\n",
            "tensor([14.1465], grad_fn=<PowBackward0>)\n",
            "tensor([2.4984], grad_fn=<PowBackward0>)\n",
            "tensor([10.7052], grad_fn=<PowBackward0>)\n",
            "tensor([6.7261], grad_fn=<PowBackward0>)\n"
          ]
        }
      ]
    },
    {
      "cell_type": "markdown",
      "metadata": {
        "id": "Cj-slVu-0jJo"
      },
      "source": [
        "## 2. Neural Network\n",
        "\n",
        "### Dataset\n",
        "\n",
        "Start by importing the necessary modules."
      ]
    },
    {
      "cell_type": "code",
      "execution_count": null,
      "metadata": {
        "id": "qzRBbaOp0jJp"
      },
      "outputs": [],
      "source": [
        "import torch\n",
        "import torchvision\n",
        "import torchvision.datasets as datasets"
      ]
    },
    {
      "cell_type": "markdown",
      "metadata": {
        "id": "J6M9Bdf20jJq"
      },
      "source": [
        "Next, we load the famous [MNIST](http://yann.lecun.com/exdb/mnist/) dataset."
      ]
    },
    {
      "cell_type": "code",
      "execution_count": null,
      "metadata": {
        "id": "sHn1TQGP0jJq",
        "colab": {
          "base_uri": "https://localhost:8080/"
        },
        "outputId": "9fce4a94-636d-41c3-ab55-283d760f3d54"
      },
      "outputs": [
        {
          "output_type": "stream",
          "name": "stdout",
          "text": [
            "Downloading http://yann.lecun.com/exdb/mnist/train-images-idx3-ubyte.gz\n",
            "Failed to download (trying next):\n",
            "HTTP Error 403: Forbidden\n",
            "\n",
            "Downloading https://ossci-datasets.s3.amazonaws.com/mnist/train-images-idx3-ubyte.gz\n",
            "Downloading https://ossci-datasets.s3.amazonaws.com/mnist/train-images-idx3-ubyte.gz to ./data/MNIST/raw/train-images-idx3-ubyte.gz\n"
          ]
        },
        {
          "output_type": "stream",
          "name": "stderr",
          "text": [
            "100%|██████████| 9.91M/9.91M [00:00<00:00, 33.9MB/s]\n"
          ]
        },
        {
          "output_type": "stream",
          "name": "stdout",
          "text": [
            "Extracting ./data/MNIST/raw/train-images-idx3-ubyte.gz to ./data/MNIST/raw\n",
            "\n",
            "Downloading http://yann.lecun.com/exdb/mnist/train-labels-idx1-ubyte.gz\n",
            "Failed to download (trying next):\n",
            "HTTP Error 403: Forbidden\n",
            "\n",
            "Downloading https://ossci-datasets.s3.amazonaws.com/mnist/train-labels-idx1-ubyte.gz\n",
            "Downloading https://ossci-datasets.s3.amazonaws.com/mnist/train-labels-idx1-ubyte.gz to ./data/MNIST/raw/train-labels-idx1-ubyte.gz\n"
          ]
        },
        {
          "output_type": "stream",
          "name": "stderr",
          "text": [
            "100%|██████████| 28.9k/28.9k [00:00<00:00, 1.20MB/s]\n"
          ]
        },
        {
          "output_type": "stream",
          "name": "stdout",
          "text": [
            "Extracting ./data/MNIST/raw/train-labels-idx1-ubyte.gz to ./data/MNIST/raw\n",
            "\n",
            "Downloading http://yann.lecun.com/exdb/mnist/t10k-images-idx3-ubyte.gz\n",
            "Failed to download (trying next):\n",
            "HTTP Error 403: Forbidden\n",
            "\n",
            "Downloading https://ossci-datasets.s3.amazonaws.com/mnist/t10k-images-idx3-ubyte.gz\n",
            "Downloading https://ossci-datasets.s3.amazonaws.com/mnist/t10k-images-idx3-ubyte.gz to ./data/MNIST/raw/t10k-images-idx3-ubyte.gz\n"
          ]
        },
        {
          "output_type": "stream",
          "name": "stderr",
          "text": [
            "100%|██████████| 1.65M/1.65M [00:00<00:00, 10.8MB/s]\n"
          ]
        },
        {
          "output_type": "stream",
          "name": "stdout",
          "text": [
            "Extracting ./data/MNIST/raw/t10k-images-idx3-ubyte.gz to ./data/MNIST/raw\n",
            "\n",
            "Downloading http://yann.lecun.com/exdb/mnist/t10k-labels-idx1-ubyte.gz\n",
            "Failed to download (trying next):\n",
            "HTTP Error 403: Forbidden\n",
            "\n",
            "Downloading https://ossci-datasets.s3.amazonaws.com/mnist/t10k-labels-idx1-ubyte.gz\n",
            "Downloading https://ossci-datasets.s3.amazonaws.com/mnist/t10k-labels-idx1-ubyte.gz to ./data/MNIST/raw/t10k-labels-idx1-ubyte.gz\n"
          ]
        },
        {
          "output_type": "stream",
          "name": "stderr",
          "text": [
            "100%|██████████| 4.54k/4.54k [00:00<00:00, 7.24MB/s]"
          ]
        },
        {
          "output_type": "stream",
          "name": "stdout",
          "text": [
            "Extracting ./data/MNIST/raw/t10k-labels-idx1-ubyte.gz to ./data/MNIST/raw\n",
            "\n"
          ]
        },
        {
          "output_type": "stream",
          "name": "stderr",
          "text": [
            "\n"
          ]
        }
      ],
      "source": [
        "mnist_train = datasets.MNIST(root='./data', train=True, download=True,   transform=torchvision.transforms.Compose([\n",
        "                               torchvision.transforms.ToTensor(),\n",
        "                               torchvision.transforms.Normalize(\n",
        "                                 (0.1307,), (0.3081,))\n",
        "                             ]))\n",
        "mnist_test = datasets.MNIST(root='./data', train=False, download=True,   transform=torchvision.transforms.Compose([\n",
        "                               torchvision.transforms.ToTensor(),\n",
        "                               torchvision.transforms.Normalize(\n",
        "                                 (0.1307,), (0.3081,))\n",
        "                             ])) #normalize on the training dataset"
      ]
    },
    {
      "cell_type": "markdown",
      "metadata": {
        "id": "7DN5gdWF0jJr"
      },
      "source": [
        "The dataset contains $70,000$ observations of handwritten digits with corresponding labels. Here, the data is transformed to a tensor and normalized ($0.1307$ and $0.3081$ are the mean and the standard deviation on the training set)."
      ]
    },
    {
      "cell_type": "code",
      "execution_count": null,
      "metadata": {
        "id": "BXOInOTv0jJr",
        "outputId": "8a00fa44-dd21-42f9-d979-4d6d522fcb27",
        "colab": {
          "base_uri": "https://localhost:8080/"
        }
      },
      "outputs": [
        {
          "output_type": "execute_result",
          "data": {
            "text/plain": [
              "(60000, 10000)"
            ]
          },
          "metadata": {},
          "execution_count": 11
        }
      ],
      "source": [
        "len(mnist_train), len(mnist_test)"
      ]
    },
    {
      "cell_type": "markdown",
      "metadata": {
        "id": "G9p8IBOL0jJr"
      },
      "source": [
        "Construct a `DataLoader` for the training set by using `torch.utils.data.DataLoader` and set a seed for the random number generator. Additionally, create an `DataLoader` for the test set."
      ]
    },
    {
      "cell_type": "code",
      "execution_count": null,
      "metadata": {
        "id": "BlpOq8OX0jJs"
      },
      "outputs": [],
      "source": [
        "torch.manual_seed(42)\n",
        "train_batch_size = 64\n",
        "test_batch_size = 128\n",
        "\n",
        "train_loader = torch.utils.data.DataLoader(mnist_train,train_batch_size,shuffle=True)\n",
        "test_loader = torch.utils.data.DataLoader(mnist_test,test_batch_size,shuffle=True)"
      ]
    },
    {
      "cell_type": "markdown",
      "metadata": {
        "id": "An5kQHGL0jJs"
      },
      "source": [
        "Take a look at the data examples by iterating the `DataLoader` once over the training set. Save the batch (e.g. as `example`)."
      ]
    },
    {
      "cell_type": "code",
      "execution_count": null,
      "metadata": {
        "id": "kKYmfBEl0jJt",
        "outputId": "e364d59e-550d-4f72-d1ef-5da05f658984",
        "colab": {
          "base_uri": "https://localhost:8080/"
        }
      },
      "outputs": [
        {
          "output_type": "execute_result",
          "data": {
            "text/plain": [
              "(torch.Size([64, 1, 28, 28]), torch.Size([64]))"
            ]
          },
          "metadata": {},
          "execution_count": 13
        }
      ],
      "source": [
        "example_features, example_labels = next(iter(train_loader))\n",
        "example_features.shape, example_labels.shape"
      ]
    },
    {
      "cell_type": "code",
      "execution_count": null,
      "metadata": {
        "scrolled": false,
        "id": "LT5oUDww0jJt",
        "outputId": "c16f8cc8-954d-435e-de7a-c235c13bf982",
        "colab": {
          "base_uri": "https://localhost:8080/"
        }
      },
      "outputs": [
        {
          "output_type": "execute_result",
          "data": {
            "text/plain": [
              "(tensor([[[-0.4242, -0.4242, -0.4242, -0.4242, -0.4242, -0.4242, -0.4242,\n",
              "           -0.4242, -0.4242, -0.4242, -0.4242, -0.4242, -0.4242, -0.4242,\n",
              "           -0.4242, -0.4242, -0.4242, -0.4242, -0.4242, -0.4242, -0.4242,\n",
              "           -0.4242, -0.4242, -0.4242, -0.4242, -0.4242, -0.4242, -0.4242],\n",
              "          [-0.4242, -0.4242, -0.4242, -0.4242, -0.4242, -0.4242, -0.4242,\n",
              "           -0.4242, -0.4242, -0.4242, -0.4242, -0.4242, -0.4242, -0.4242,\n",
              "           -0.4242, -0.4242, -0.4242, -0.4242, -0.4242, -0.4242, -0.4242,\n",
              "           -0.4242, -0.4242, -0.4242, -0.4242, -0.4242, -0.4242, -0.4242],\n",
              "          [-0.4242, -0.4242, -0.4242, -0.4242, -0.4242, -0.4242, -0.4242,\n",
              "           -0.4242, -0.4242, -0.4242, -0.4242, -0.4242, -0.4242, -0.4242,\n",
              "           -0.4242, -0.4242, -0.4242, -0.4242, -0.4242, -0.4242, -0.4242,\n",
              "           -0.4242, -0.4242, -0.4242, -0.4242, -0.4242, -0.4242, -0.4242],\n",
              "          [-0.4242, -0.4242, -0.4242, -0.4242, -0.4242, -0.4242, -0.4242,\n",
              "           -0.4242, -0.4242, -0.4242, -0.4242, -0.4242, -0.4242, -0.4242,\n",
              "           -0.4242, -0.4242, -0.4242, -0.4242, -0.4242, -0.4242, -0.4242,\n",
              "           -0.4242, -0.4242, -0.4242, -0.4242, -0.4242, -0.4242, -0.4242],\n",
              "          [-0.4242, -0.4242, -0.4242, -0.4242, -0.4242, -0.4242, -0.4242,\n",
              "           -0.4242, -0.4242, -0.4242, -0.4242, -0.4242, -0.4242, -0.4242,\n",
              "           -0.4242, -0.4242, -0.4242, -0.4242, -0.4242, -0.4242, -0.4242,\n",
              "           -0.4242, -0.4242, -0.4242, -0.4242, -0.4242, -0.4242, -0.4242],\n",
              "          [-0.4242, -0.4242, -0.4242, -0.4242, -0.4242, -0.4242, -0.4242,\n",
              "           -0.4242, -0.4242, -0.4242, -0.4242, -0.4242, -0.4242, -0.4242,\n",
              "           -0.4242, -0.4242, -0.4242, -0.4242, -0.4242, -0.4242, -0.4242,\n",
              "           -0.4242, -0.4242, -0.4242, -0.4242, -0.4242, -0.4242, -0.4242],\n",
              "          [-0.4242, -0.4242, -0.4242, -0.4242, -0.4242, -0.4242, -0.4242,\n",
              "           -0.4242, -0.4242, -0.4242, -0.4242, -0.4242, -0.3860,  0.3649,\n",
              "            1.4468,  0.7468,  0.3904,  2.5669,  0.7213, -0.4242, -0.4242,\n",
              "           -0.4242, -0.4242, -0.4242, -0.4242, -0.4242, -0.4242, -0.4242],\n",
              "          [-0.4242, -0.4242, -0.4242, -0.4242, -0.4242, -0.4242, -0.4242,\n",
              "           -0.4242, -0.4242, -0.4242, -0.4242, -0.4242,  0.7977,  2.8088,\n",
              "            2.8088,  2.8088,  2.8088,  2.8088,  2.4651, -0.4242, -0.4242,\n",
              "           -0.4242, -0.4242, -0.4242, -0.4242, -0.4242, -0.4242, -0.4242],\n",
              "          [-0.4242, -0.4242, -0.4242, -0.4242, -0.4242, -0.4242, -0.4242,\n",
              "           -0.4242, -0.4242, -0.4242,  0.7468,  2.4142,  2.0196,  2.8088,\n",
              "            2.2614,  1.3577,  1.1541,  2.8088,  2.7706,  1.1032, -0.4242,\n",
              "           -0.4242, -0.4242, -0.4242, -0.4242, -0.4242, -0.4242, -0.4242],\n",
              "          [-0.4242, -0.4242, -0.4242, -0.4242, -0.4242, -0.4242, -0.4242,\n",
              "           -0.4242, -0.4242,  0.1358,  2.3251,  2.8088,  1.7141,  1.9687,\n",
              "           -0.1442, -0.1315,  1.9051,  2.8088,  2.8088,  1.9814, -0.4242,\n",
              "           -0.4242, -0.4242, -0.4242, -0.4242, -0.4242, -0.4242, -0.4242],\n",
              "          [-0.4242, -0.4242, -0.4242, -0.4242, -0.4242, -0.4242, -0.4242,\n",
              "           -0.4242, -0.4242,  2.4778,  2.8088,  1.9814, -0.3478, -0.4242,\n",
              "           -0.4242,  1.2305,  2.8088,  2.8088,  2.8088,  1.9814, -0.4242,\n",
              "           -0.4242, -0.4242, -0.4242, -0.4242, -0.4242, -0.4242, -0.4242],\n",
              "          [-0.4242, -0.4242, -0.4242, -0.4242, -0.4242, -0.4242, -0.4242,\n",
              "           -0.3988,  1.7778,  2.7833,  2.8088,  1.7014, -0.4242, -0.4242,\n",
              "            0.7850,  2.5669,  2.8088,  2.8088,  2.6687,  0.3140, -0.4242,\n",
              "           -0.4242, -0.4242, -0.4242, -0.4242, -0.4242, -0.4242, -0.4242],\n",
              "          [-0.4242, -0.4242, -0.4242, -0.4242, -0.4242, -0.4242, -0.4242,\n",
              "            0.1358,  2.8088,  2.8088,  2.1596,  0.8741, -0.1060,  0.8741,\n",
              "            2.5542,  2.8088,  2.8088,  2.8088,  2.6051, -0.0296, -0.4242,\n",
              "           -0.4242, -0.4242, -0.4242, -0.4242, -0.4242, -0.4242, -0.4242],\n",
              "          [-0.4242, -0.4242, -0.4242, -0.4242, -0.4242, -0.4242, -0.4242,\n",
              "            0.1358,  2.8088,  2.8088,  2.3505,  2.6433,  1.7650,  2.0451,\n",
              "            2.8088,  2.8088,  2.8088,  2.8088,  0.9377, -0.4242, -0.4242,\n",
              "           -0.4242, -0.4242, -0.4242, -0.4242, -0.4242, -0.4242, -0.4242],\n",
              "          [-0.4242, -0.4242, -0.4242, -0.4242, -0.4242, -0.4242, -0.4242,\n",
              "           -0.3733,  0.7341,  2.7960,  2.8088,  2.8088,  2.7960,  1.1414,\n",
              "            1.8160,  2.0323,  2.8088,  2.8088, -0.2969, -0.4242, -0.4242,\n",
              "           -0.4242, -0.4242, -0.4242, -0.4242, -0.4242, -0.4242, -0.4242],\n",
              "          [-0.4242, -0.4242, -0.4242, -0.4242, -0.4242, -0.4242, -0.4242,\n",
              "           -0.4242, -0.4242,  2.1851,  2.3887,  1.0650,  0.6704, -0.4242,\n",
              "           -0.4242,  1.2305,  2.8088,  2.8088, -0.2969, -0.4242, -0.4242,\n",
              "           -0.4242, -0.4242, -0.4242, -0.4242, -0.4242, -0.4242, -0.4242],\n",
              "          [-0.4242, -0.4242, -0.4242, -0.4242, -0.4242, -0.4242, -0.4242,\n",
              "           -0.4242, -0.4242, -0.0933, -0.1569, -0.4242, -0.4242, -0.4242,\n",
              "           -0.4242,  1.2305,  2.8088,  2.8088,  0.3013, -0.4242, -0.4242,\n",
              "           -0.4242, -0.4242, -0.4242, -0.4242, -0.4242, -0.4242, -0.4242],\n",
              "          [-0.4242, -0.4242, -0.4242, -0.4242, -0.4242, -0.4242, -0.4242,\n",
              "           -0.4242, -0.4242, -0.4242, -0.4242, -0.4242, -0.4242, -0.4242,\n",
              "           -0.4242,  2.5415,  2.8088,  2.8088, -0.2969, -0.4242, -0.4242,\n",
              "           -0.4242, -0.4242, -0.4242, -0.4242, -0.4242, -0.4242, -0.4242],\n",
              "          [-0.4242, -0.4242, -0.4242, -0.4242, -0.4242, -0.4242, -0.4242,\n",
              "           -0.4242, -0.4242, -0.4242, -0.4242, -0.4242, -0.4242, -0.4242,\n",
              "            0.3649,  2.7451,  2.8088,  2.8088, -0.2969, -0.4242, -0.4242,\n",
              "           -0.4242, -0.4242, -0.4242, -0.4242, -0.4242, -0.4242, -0.4242],\n",
              "          [-0.4242, -0.4242, -0.4242, -0.4242, -0.4242, -0.4242, -0.4242,\n",
              "           -0.4242, -0.4242, -0.4242, -0.4242, -0.4242, -0.4242, -0.4242,\n",
              "            1.2814,  2.8088,  2.8088,  2.8088, -0.2969, -0.4242, -0.4242,\n",
              "           -0.4242, -0.4242, -0.4242, -0.4242, -0.4242, -0.4242, -0.4242],\n",
              "          [-0.4242, -0.4242, -0.4242, -0.4242, -0.4242, -0.4242, -0.4242,\n",
              "           -0.4242, -0.4242, -0.4242, -0.4242, -0.4242, -0.4242, -0.4242,\n",
              "            2.1342,  2.8088,  2.8088,  1.6123, -0.4115, -0.4242, -0.4242,\n",
              "           -0.4242, -0.4242, -0.4242, -0.4242, -0.4242, -0.4242, -0.4242],\n",
              "          [-0.4242, -0.4242, -0.4242, -0.4242, -0.4242, -0.4242, -0.4242,\n",
              "           -0.4242, -0.4242, -0.4242, -0.4242, -0.4242, -0.4242, -0.4242,\n",
              "            2.1342,  2.8088,  2.8215,  1.5614, -0.4242, -0.4242, -0.4242,\n",
              "           -0.4242, -0.4242, -0.4242, -0.4242, -0.4242, -0.4242, -0.4242],\n",
              "          [-0.4242, -0.4242, -0.4242, -0.4242, -0.4242, -0.4242, -0.4242,\n",
              "           -0.4242, -0.4242, -0.4242, -0.4242, -0.4242, -0.4242, -0.4242,\n",
              "            2.1342,  2.8088,  2.8088,  1.0141, -0.4242, -0.4242, -0.4242,\n",
              "           -0.4242, -0.4242, -0.4242, -0.4242, -0.4242, -0.4242, -0.4242],\n",
              "          [-0.4242, -0.4242, -0.4242, -0.4242, -0.4242, -0.4242, -0.4242,\n",
              "           -0.4242, -0.4242, -0.4242, -0.4242, -0.4242, -0.4242, -0.4242,\n",
              "            2.1342,  2.8088,  2.8088,  0.1867, -0.4242, -0.4242, -0.4242,\n",
              "           -0.4242, -0.4242, -0.4242, -0.4242, -0.4242, -0.4242, -0.4242],\n",
              "          [-0.4242, -0.4242, -0.4242, -0.4242, -0.4242, -0.4242, -0.4242,\n",
              "           -0.4242, -0.4242, -0.4242, -0.4242, -0.4242, -0.4242, -0.4242,\n",
              "            2.1342,  2.8088,  2.6051,  0.0213, -0.4242, -0.4242, -0.4242,\n",
              "           -0.4242, -0.4242, -0.4242, -0.4242, -0.4242, -0.4242, -0.4242],\n",
              "          [-0.4242, -0.4242, -0.4242, -0.4242, -0.4242, -0.4242, -0.4242,\n",
              "           -0.4242, -0.4242, -0.4242, -0.4242, -0.4242, -0.4242, -0.4242,\n",
              "           -0.0424,  1.3450,  1.3196,  0.4413, -0.4242, -0.4242, -0.4242,\n",
              "           -0.4242, -0.4242, -0.4242, -0.4242, -0.4242, -0.4242, -0.4242],\n",
              "          [-0.4242, -0.4242, -0.4242, -0.4242, -0.4242, -0.4242, -0.4242,\n",
              "           -0.4242, -0.4242, -0.4242, -0.4242, -0.4242, -0.4242, -0.4242,\n",
              "           -0.4242, -0.4242, -0.4242, -0.4242, -0.4242, -0.4242, -0.4242,\n",
              "           -0.4242, -0.4242, -0.4242, -0.4242, -0.4242, -0.4242, -0.4242],\n",
              "          [-0.4242, -0.4242, -0.4242, -0.4242, -0.4242, -0.4242, -0.4242,\n",
              "           -0.4242, -0.4242, -0.4242, -0.4242, -0.4242, -0.4242, -0.4242,\n",
              "           -0.4242, -0.4242, -0.4242, -0.4242, -0.4242, -0.4242, -0.4242,\n",
              "           -0.4242, -0.4242, -0.4242, -0.4242, -0.4242, -0.4242, -0.4242]]]),\n",
              " tensor(9))"
            ]
          },
          "metadata": {},
          "execution_count": 19
        }
      ],
      "source": [
        "(example_features[0], example_labels[0])"
      ]
    },
    {
      "cell_type": "markdown",
      "metadata": {
        "id": "q3HqpH9r0jJu"
      },
      "source": [
        "**Digression:** Another helpful built-in function of Python is `enumerate`. Try looping over the following list using `enumerate`."
      ]
    },
    {
      "cell_type": "code",
      "execution_count": null,
      "metadata": {
        "id": "JTs-y2B70jJv"
      },
      "outputs": [],
      "source": [
        "list = ['Item 1', 'Item 2', 'Item 3']"
      ]
    },
    {
      "cell_type": "code",
      "execution_count": null,
      "metadata": {
        "id": "A0ZJ8Z8v0jJv",
        "outputId": "fed4da70-c2fc-4e2a-abad-235044b0302e",
        "colab": {
          "base_uri": "https://localhost:8080/"
        }
      },
      "outputs": [
        {
          "output_type": "stream",
          "name": "stdout",
          "text": [
            "0 Item 1\n",
            "1 Item 2\n",
            "2 Item 3\n"
          ]
        }
      ],
      "source": [
        "for counter, item in enumerate(list):\n",
        "    print(counter, item)"
      ]
    },
    {
      "cell_type": "markdown",
      "metadata": {
        "id": "2XRaOyGd0jJv"
      },
      "source": [
        "For our purposes, `enumerate` can be used on the `DataLoader`."
      ]
    },
    {
      "cell_type": "code",
      "execution_count": null,
      "metadata": {
        "id": "Vqc5qDdK0jJv"
      },
      "outputs": [],
      "source": [
        "examples = enumerate(train_loader)\n",
        "batch_idx, (example_features, example_labels) = next(examples)"
      ]
    },
    {
      "cell_type": "code",
      "execution_count": null,
      "metadata": {
        "id": "euCLt62p0jJw",
        "outputId": "cc1fe824-2ab0-4a5a-a251-db3c5ae949d5",
        "colab": {
          "base_uri": "https://localhost:8080/"
        }
      },
      "outputs": [
        {
          "output_type": "execute_result",
          "data": {
            "text/plain": [
              "0"
            ]
          },
          "metadata": {},
          "execution_count": 17
        }
      ],
      "source": [
        "batch_idx"
      ]
    },
    {
      "cell_type": "markdown",
      "metadata": {
        "id": "_CbSLXiD0jJw"
      },
      "source": [
        "The following code chunk displays the features as an image and the corresponding labels."
      ]
    },
    {
      "cell_type": "code",
      "execution_count": null,
      "metadata": {
        "id": "dHOrMMyx0jJx",
        "outputId": "d41c748f-8741-4189-afb8-75adedb5d8a5",
        "colab": {
          "base_uri": "https://localhost:8080/",
          "height": 184
        }
      },
      "outputs": [
        {
          "output_type": "display_data",
          "data": {
            "text/plain": [
              "<Figure size 640x480 with 4 Axes>"
            ],
            "image/png": "[encoded data removed]"
          },
          "metadata": {}
        }
      ],
      "source": [
        "%matplotlib inline\n",
        "import matplotlib.pyplot as plt\n",
        "\n",
        "fig = plt.figure()\n",
        "for i in range(4):\n",
        "    plt.subplot(1,4,i+1)\n",
        "    plt.tight_layout()\n",
        "    plt.imshow(example_features[i][0], cmap='gray', interpolation='none')\n",
        "    plt.title(\"Label: {}\".format(example_labels[i]))\n",
        "    plt.xticks([0,14,28])\n",
        "    plt.yticks([0,14,28])\n",
        "plt.show()"
      ]
    },
    {
      "cell_type": "markdown",
      "metadata": {
        "id": "yd0z2C2_0jJx"
      },
      "source": [
        "## Implementing a Neural Network"
      ]
    },
    {
      "cell_type": "markdown",
      "metadata": {
        "id": "Ke7pnN7G0jJy"
      },
      "source": [
        "Import the `torch.nn` and construct a sequential neural network (choose your own structure; maybe not too large) for classification. Starting with the `nn.Flatten` layer migth be very helpful."
      ]
    },
    {
      "cell_type": "code",
      "execution_count": null,
      "metadata": {
        "id": "zoE24DYR0jJy"
      },
      "outputs": [],
      "source": [
        "from torch import nn\n",
        "net = nn.Sequential(nn.Flatten(),\n",
        "                    nn.Linear(784, 100),\n",
        "                    nn.ReLU(),\n",
        "                    nn.Linear(100, 50),\n",
        "                    nn.ReLU(),\n",
        "                    nn.Linear(50, 10))"
      ]
    },
    {
      "cell_type": "markdown",
      "metadata": {
        "id": "DD6m1dnY0jJy"
      },
      "source": [
        "Use the `CrossEntropyLoss` (`reduction='sum'` might be helpful later) and `torch.optim.Adam`for optimization."
      ]
    },
    {
      "cell_type": "code",
      "execution_count": null,
      "metadata": {
        "id": "uFrDpmJT0jJz"
      },
      "outputs": [],
      "source": [
        "loss = nn.CrossEntropyLoss(reduction='sum')\n",
        "trainer = torch.optim.Adam(net.parameters(), lr=0.03)"
      ]
    },
    {
      "cell_type": "markdown",
      "metadata": {
        "id": "GnRA2sZm0jJz"
      },
      "source": [
        "Initialize all weights of your network from a normal distribution with standard deviation $0.01$."
      ]
    },
    {
      "cell_type": "code",
      "execution_count": null,
      "metadata": {
        "scrolled": false,
        "id": "zdvK38Rg0jJz",
        "outputId": "fac85d97-a11d-41b2-da04-995038c154af",
        "colab": {
          "base_uri": "https://localhost:8080/"
        }
      },
      "outputs": [
        {
          "output_type": "execute_result",
          "data": {
            "text/plain": [
              "Sequential(\n",
              "  (0): Flatten(start_dim=1, end_dim=-1)\n",
              "  (1): Linear(in_features=784, out_features=100, bias=True)\n",
              "  (2): ReLU()\n",
              "  (3): Linear(in_features=100, out_features=50, bias=True)\n",
              "  (4): ReLU()\n",
              "  (5): Linear(in_features=50, out_features=10, bias=True)\n",
              ")"
            ]
          },
          "metadata": {},
          "execution_count": 24
        }
      ],
      "source": [
        "def init_weights(m):\n",
        "    if type(m) == nn.Linear:\n",
        "        torch.nn.init.normal_(m.weight, std=0.01)\n",
        "\n",
        "torch.manual_seed(42) #set a seed for replicability\n",
        "net.apply(init_weights)"
      ]
    },
    {
      "cell_type": "markdown",
      "metadata": {
        "id": "H_a_PgaO0jJ0"
      },
      "source": [
        "Before we start training our network, use our `train_loader` and `test_loader` to evaluate the loss on our training and testing data (this might take a while)."
      ]
    },
    {
      "cell_type": "code",
      "execution_count": null,
      "metadata": {
        "id": "JNy5k88i0jJ0",
        "outputId": "e35c0071-f4a2-4f51-c562-277134f19a94",
        "colab": {
          "base_uri": "https://localhost:8080/"
        }
      },
      "outputs": [
        {
          "output_type": "execute_result",
          "data": {
            "text/plain": [
              "(tensor(2.3062), tensor(2.3062))"
            ]
          },
          "metadata": {},
          "execution_count": 25
        }
      ],
      "source": [
        "training_loss = 0\n",
        "test_loss = 0\n",
        "with torch.no_grad():\n",
        "    for batch_idx, (X, Y) in enumerate(train_loader):\n",
        "        training_loss += loss(net(X) ,Y)\n",
        "    for batch_idx, (X, Y) in enumerate(test_loader):\n",
        "        test_loss += loss(net(X) ,Y)\n",
        "training_loss/len(mnist_train),test_loss/len(mnist_test)"
      ]
    },
    {
      "cell_type": "markdown",
      "metadata": {
        "id": "bRh0Oixh0jJ1"
      },
      "source": [
        "Specify the number of epochs to $1$ and start training your network. Afterwards evaluate the loss."
      ]
    },
    {
      "cell_type": "code",
      "execution_count": null,
      "metadata": {
        "id": "_nfDM7iy0jJ1"
      },
      "outputs": [],
      "source": [
        "num_epochs = 1\n",
        "\n",
        "for epoch in range(num_epochs):\n",
        "    #train the network\n",
        "    net.train()\n",
        "    for batch_idx, (X, Y) in enumerate(train_loader):\n",
        "        training_loss = loss(net(X) ,Y)/len(X)\n",
        "        trainer.zero_grad() #reset the gradient to zero\n",
        "        training_loss.backward()\n",
        "        trainer.step()"
      ]
    },
    {
      "cell_type": "code",
      "execution_count": null,
      "metadata": {
        "id": "IQw_kZw50jJ1",
        "outputId": "1fc00397-144d-43c0-ca94-7ad74d6f8691",
        "colab": {
          "base_uri": "https://localhost:8080/"
        }
      },
      "outputs": [
        {
          "output_type": "execute_result",
          "data": {
            "text/plain": [
              "(tensor(0.3250), tensor(0.3396))"
            ]
          },
          "metadata": {},
          "execution_count": 27
        }
      ],
      "source": [
        "training_loss = 0\n",
        "test_loss = 0\n",
        "with torch.no_grad():\n",
        "    for batch_idx, (X, Y) in enumerate(train_loader):\n",
        "        training_loss += loss(net(X) ,Y)\n",
        "    for batch_idx, (X, Y) in enumerate(test_loader):\n",
        "        test_loss += loss(net(X) ,Y)\n",
        "training_loss/len(mnist_train),test_loss/len(mnist_test)"
      ]
    },
    {
      "cell_type": "markdown",
      "metadata": {
        "id": "VzxAXXss0jJ1"
      },
      "source": [
        "We would like to get more information printed during the training process. Increase the number of epochs to $5$ and every $50$ batches print the current epoch and loss on the batch (you can add the number of used observations in the epoch as well). Further add the end of each epoch evaluate the loss on the training set. Before starting reinitialize the weights randomly.\n"
      ]
    },
    {
      "cell_type": "code",
      "execution_count": null,
      "metadata": {
        "scrolled": false,
        "id": "URFMZhs50jJ2",
        "outputId": "9dee08ee-8dc9-4cc8-a2a0-fa69db037438",
        "colab": {
          "base_uri": "https://localhost:8080/"
        }
      },
      "outputs": [
        {
          "output_type": "stream",
          "name": "stdout",
          "text": [
            "Training: Epoch: 1 [0/60000 (0%)]\tLoss: 2.389790\n",
            "Training: Epoch: 1 [3200/60000 (5%)]\tLoss: 1.659772\n",
            "Training: Epoch: 1 [6400/60000 (11%)]\tLoss: 1.461385\n",
            "Training: Epoch: 1 [9600/60000 (16%)]\tLoss: 1.697690\n",
            "Training: Epoch: 1 [12800/60000 (21%)]\tLoss: 1.441416\n",
            "Training: Epoch: 1 [16000/60000 (27%)]\tLoss: 1.171854\n",
            "Training: Epoch: 1 [19200/60000 (32%)]\tLoss: 1.032149\n",
            "Training: Epoch: 1 [22400/60000 (37%)]\tLoss: 1.171602\n",
            "Training: Epoch: 1 [25600/60000 (43%)]\tLoss: 0.836310\n",
            "Training: Epoch: 1 [28800/60000 (48%)]\tLoss: 0.815901\n",
            "Training: Epoch: 1 [32000/60000 (53%)]\tLoss: 0.952529\n",
            "Training: Epoch: 1 [35200/60000 (59%)]\tLoss: 0.891289\n",
            "Training: Epoch: 1 [38400/60000 (64%)]\tLoss: 0.699421\n",
            "Training: Epoch: 1 [41600/60000 (69%)]\tLoss: 0.710233\n",
            "Training: Epoch: 1 [44800/60000 (75%)]\tLoss: 0.666376\n",
            "Training: Epoch: 1 [48000/60000 (80%)]\tLoss: 0.747662\n",
            "Training: Epoch: 1 [51200/60000 (85%)]\tLoss: 0.993905\n",
            "Training: Epoch: 1 [54400/60000 (91%)]\tLoss: 0.605313\n",
            "Training: Epoch: 1 [57600/60000 (96%)]\tLoss: 0.863472\n",
            "\n",
            "Testing: Avg. loss: 0.7474\n",
            "\n",
            "Training: Epoch: 2 [0/60000 (0%)]\tLoss: 0.631531\n",
            "Training: Epoch: 2 [3200/60000 (5%)]\tLoss: 1.114697\n",
            "Training: Epoch: 2 [6400/60000 (11%)]\tLoss: 0.706246\n",
            "Training: Epoch: 2 [9600/60000 (16%)]\tLoss: 0.724625\n",
            "Training: Epoch: 2 [12800/60000 (21%)]\tLoss: 1.015521\n",
            "Training: Epoch: 2 [16000/60000 (27%)]\tLoss: 0.804487\n",
            "Training: Epoch: 2 [19200/60000 (32%)]\tLoss: 0.609420\n",
            "Training: Epoch: 2 [22400/60000 (37%)]\tLoss: 0.698234\n",
            "Training: Epoch: 2 [25600/60000 (43%)]\tLoss: 0.894113\n",
            "Training: Epoch: 2 [28800/60000 (48%)]\tLoss: 0.757742\n",
            "Training: Epoch: 2 [32000/60000 (53%)]\tLoss: 0.781414\n",
            "Training: Epoch: 2 [35200/60000 (59%)]\tLoss: 1.060513\n",
            "Training: Epoch: 2 [38400/60000 (64%)]\tLoss: 0.646542\n",
            "Training: Epoch: 2 [41600/60000 (69%)]\tLoss: 0.667996\n",
            "Training: Epoch: 2 [44800/60000 (75%)]\tLoss: 0.570074\n",
            "Training: Epoch: 2 [48000/60000 (80%)]\tLoss: 0.497798\n",
            "Training: Epoch: 2 [51200/60000 (85%)]\tLoss: 0.816170\n",
            "Training: Epoch: 2 [54400/60000 (91%)]\tLoss: 0.742105\n",
            "Training: Epoch: 2 [57600/60000 (96%)]\tLoss: 0.801989\n",
            "\n",
            "Testing: Avg. loss: 0.7758\n",
            "\n",
            "Training: Epoch: 3 [0/60000 (0%)]\tLoss: 0.611061\n",
            "Training: Epoch: 3 [3200/60000 (5%)]\tLoss: 0.453694\n",
            "Training: Epoch: 3 [6400/60000 (11%)]\tLoss: 0.561683\n",
            "Training: Epoch: 3 [9600/60000 (16%)]\tLoss: 0.989484\n",
            "Training: Epoch: 3 [12800/60000 (21%)]\tLoss: 0.479373\n",
            "Training: Epoch: 3 [16000/60000 (27%)]\tLoss: 0.435527\n",
            "Training: Epoch: 3 [19200/60000 (32%)]\tLoss: 0.574376\n",
            "Training: Epoch: 3 [22400/60000 (37%)]\tLoss: 1.049851\n",
            "Training: Epoch: 3 [25600/60000 (43%)]\tLoss: 0.572519\n",
            "Training: Epoch: 3 [28800/60000 (48%)]\tLoss: 0.667546\n",
            "Training: Epoch: 3 [32000/60000 (53%)]\tLoss: 0.648655\n",
            "Training: Epoch: 3 [35200/60000 (59%)]\tLoss: 0.386150\n",
            "Training: Epoch: 3 [38400/60000 (64%)]\tLoss: 0.483979\n",
            "Training: Epoch: 3 [41600/60000 (69%)]\tLoss: 0.337116\n",
            "Training: Epoch: 3 [44800/60000 (75%)]\tLoss: 0.618072\n",
            "Training: Epoch: 3 [48000/60000 (80%)]\tLoss: 0.726794\n",
            "Training: Epoch: 3 [51200/60000 (85%)]\tLoss: 0.591521\n",
            "Training: Epoch: 3 [54400/60000 (91%)]\tLoss: 0.525393\n",
            "Training: Epoch: 3 [57600/60000 (96%)]\tLoss: 0.535968\n",
            "\n",
            "Testing: Avg. loss: 0.5827\n",
            "\n",
            "Training: Epoch: 4 [0/60000 (0%)]\tLoss: 0.384131\n",
            "Training: Epoch: 4 [3200/60000 (5%)]\tLoss: 0.796187\n",
            "Training: Epoch: 4 [6400/60000 (11%)]\tLoss: 0.666442\n",
            "Training: Epoch: 4 [9600/60000 (16%)]\tLoss: 0.767563\n",
            "Training: Epoch: 4 [12800/60000 (21%)]\tLoss: 0.726025\n",
            "Training: Epoch: 4 [16000/60000 (27%)]\tLoss: 0.511122\n",
            "Training: Epoch: 4 [19200/60000 (32%)]\tLoss: 0.428285\n",
            "Training: Epoch: 4 [22400/60000 (37%)]\tLoss: 0.426925\n",
            "Training: Epoch: 4 [25600/60000 (43%)]\tLoss: 0.512211\n",
            "Training: Epoch: 4 [28800/60000 (48%)]\tLoss: 0.459738\n",
            "Training: Epoch: 4 [32000/60000 (53%)]\tLoss: 0.572987\n",
            "Training: Epoch: 4 [35200/60000 (59%)]\tLoss: 0.638096\n",
            "Training: Epoch: 4 [38400/60000 (64%)]\tLoss: 0.837669\n",
            "Training: Epoch: 4 [41600/60000 (69%)]\tLoss: 0.585316\n",
            "Training: Epoch: 4 [44800/60000 (75%)]\tLoss: 0.661981\n",
            "Training: Epoch: 4 [48000/60000 (80%)]\tLoss: 0.568243\n",
            "Training: Epoch: 4 [51200/60000 (85%)]\tLoss: 0.732791\n",
            "Training: Epoch: 4 [54400/60000 (91%)]\tLoss: 0.633330\n",
            "Training: Epoch: 4 [57600/60000 (96%)]\tLoss: 0.517584\n",
            "\n",
            "Testing: Avg. loss: 0.8072\n",
            "\n",
            "Training: Epoch: 5 [0/60000 (0%)]\tLoss: 0.412038\n",
            "Training: Epoch: 5 [3200/60000 (5%)]\tLoss: 0.628127\n",
            "Training: Epoch: 5 [6400/60000 (11%)]\tLoss: 0.809135\n",
            "Training: Epoch: 5 [9600/60000 (16%)]\tLoss: 0.647330\n",
            "Training: Epoch: 5 [12800/60000 (21%)]\tLoss: 0.632844\n",
            "Training: Epoch: 5 [16000/60000 (27%)]\tLoss: 0.777545\n",
            "Training: Epoch: 5 [19200/60000 (32%)]\tLoss: 0.473241\n",
            "Training: Epoch: 5 [22400/60000 (37%)]\tLoss: 0.785755\n",
            "Training: Epoch: 5 [25600/60000 (43%)]\tLoss: 0.623775\n",
            "Training: Epoch: 5 [28800/60000 (48%)]\tLoss: 0.619852\n",
            "Training: Epoch: 5 [32000/60000 (53%)]\tLoss: 0.398145\n",
            "Training: Epoch: 5 [35200/60000 (59%)]\tLoss: 0.578103\n",
            "Training: Epoch: 5 [38400/60000 (64%)]\tLoss: 0.692520\n",
            "Training: Epoch: 5 [41600/60000 (69%)]\tLoss: 0.315887\n",
            "Training: Epoch: 5 [44800/60000 (75%)]\tLoss: 0.595051\n",
            "Training: Epoch: 5 [48000/60000 (80%)]\tLoss: 0.820149\n",
            "Training: Epoch: 5 [51200/60000 (85%)]\tLoss: 0.451736\n",
            "Training: Epoch: 5 [54400/60000 (91%)]\tLoss: 0.517637\n",
            "Training: Epoch: 5 [57600/60000 (96%)]\tLoss: 0.860978\n",
            "\n",
            "Testing: Avg. loss: 0.6491\n",
            "\n"
          ]
        }
      ],
      "source": [
        "num_epochs = 5\n",
        "log_interval = 50\n",
        "\n",
        "torch.manual_seed(42) #set a seed for replicability\n",
        "net.apply(init_weights)\n",
        "for epoch in range(num_epochs):\n",
        "    #train the network\n",
        "    net.train()\n",
        "    for batch_idx, (X, Y) in enumerate(train_loader):\n",
        "        training_loss = loss(net(X) ,Y)/len(X)\n",
        "        trainer.zero_grad() #reset the gradient to zero\n",
        "        training_loss.backward()\n",
        "        trainer.step()\n",
        "        if batch_idx % log_interval == 0:\n",
        "            print('Training: Epoch: {} [{}/{} ({:.0f}%)]\\tLoss: {:.6f}'.format(\n",
        "                epoch+1, batch_idx * len(X), len(train_loader.dataset),\n",
        "                100. * batch_idx / len(train_loader), training_loss))\n",
        "    #evaluate the test set\n",
        "    net.eval()\n",
        "    test_loss = 0\n",
        "    correct = 0\n",
        "    with torch.no_grad():\n",
        "        for X, Y in test_loader:\n",
        "            prediction = net(X)\n",
        "            test_loss += loss(prediction, Y)\n",
        "            max_prediction = prediction.data.max(1)[1]\n",
        "            correct += max_prediction.eq(Y).sum()\n",
        "        test_loss /= len(test_loader.dataset)\n",
        "        print('\\nTesting: Avg. loss: {:.4f}\\n'.format(test_loss))"
      ]
    },
    {
      "cell_type": "markdown",
      "metadata": {
        "id": "8GcExoYU0jJ2"
      },
      "source": [
        "Next, take a look at a specific predicition on your example batch from above and compare the predictions to the corresponding labels."
      ]
    },
    {
      "cell_type": "code",
      "execution_count": null,
      "metadata": {
        "id": "Zer2p7sk0jJ3",
        "outputId": "f9228894-4275-4316-a72a-5882e9312e00",
        "colab": {
          "base_uri": "https://localhost:8080/"
        }
      },
      "outputs": [
        {
          "output_type": "stream",
          "name": "stdout",
          "text": [
            "tensor([4]) tensor(4)\n"
          ]
        },
        {
          "output_type": "execute_result",
          "data": {
            "text/plain": [
              "tensor([True])"
            ]
          },
          "metadata": {},
          "execution_count": 39
        }
      ],
      "source": [
        "i = 63\n",
        "with torch.no_grad():\n",
        "    prediction = net(example_features[i])\n",
        "    max_prediction = prediction.data.max(1)[1]\n",
        "    print(max_prediction, example_labels[i])\n",
        "\n",
        "max_prediction.eq(example_labels[i])"
      ]
    },
    {
      "cell_type": "markdown",
      "metadata": {
        "id": "mn52DqYn0jJ3"
      },
      "source": [
        "Use this to evaluate the share of accuracy (share correctly predicted labels) on the test set at each epoch. Additionally, log all the printed losses. Again, before starting reinitialize the weights randomly."
      ]
    },
    {
      "cell_type": "code",
      "execution_count": null,
      "metadata": {
        "scrolled": false,
        "id": "KbTYW9fJ0jJ3",
        "outputId": "2957cd51-2bfc-4da2-82da-4859e0652b5e",
        "colab": {
          "base_uri": "https://localhost:8080/"
        }
      },
      "outputs": [
        {
          "output_type": "stream",
          "name": "stdout",
          "text": [
            "Training: Epoch: 1 [0/60000 (0%)]\tLoss: 4.476136\n",
            "Training: Epoch: 1 [3200/60000 (5%)]\tLoss: 2.031068\n",
            "Training: Epoch: 1 [6400/60000 (11%)]\tLoss: 1.887259\n",
            "Training: Epoch: 1 [9600/60000 (16%)]\tLoss: 1.834266\n",
            "Training: Epoch: 1 [12800/60000 (21%)]\tLoss: 1.859072\n",
            "Training: Epoch: 1 [16000/60000 (27%)]\tLoss: 1.720608\n",
            "Training: Epoch: 1 [19200/60000 (32%)]\tLoss: 1.874536\n",
            "Training: Epoch: 1 [22400/60000 (37%)]\tLoss: 1.717842\n",
            "Training: Epoch: 1 [25600/60000 (43%)]\tLoss: 1.563319\n",
            "Training: Epoch: 1 [28800/60000 (48%)]\tLoss: 1.599142\n",
            "Training: Epoch: 1 [32000/60000 (53%)]\tLoss: 1.789093\n",
            "Training: Epoch: 1 [35200/60000 (59%)]\tLoss: 1.574206\n",
            "Training: Epoch: 1 [38400/60000 (64%)]\tLoss: 1.770882\n",
            "Training: Epoch: 1 [41600/60000 (69%)]\tLoss: 1.715656\n",
            "Training: Epoch: 1 [44800/60000 (75%)]\tLoss: 1.943973\n",
            "Training: Epoch: 1 [48000/60000 (80%)]\tLoss: 1.624005\n",
            "Training: Epoch: 1 [51200/60000 (85%)]\tLoss: 1.726405\n",
            "Training: Epoch: 1 [54400/60000 (91%)]\tLoss: 1.702293\n",
            "Training: Epoch: 1 [57600/60000 (96%)]\tLoss: 1.529324\n",
            "\n",
            "Test Sample: Risk/Average Loss: 1.6809, Accuracy: 3442/10000 (34%)\n",
            "\n",
            "Training: Epoch: 2 [0/60000 (0%)]\tLoss: 1.800944\n",
            "Training: Epoch: 2 [3200/60000 (5%)]\tLoss: 1.725407\n",
            "Training: Epoch: 2 [6400/60000 (11%)]\tLoss: 1.662695\n",
            "Training: Epoch: 2 [9600/60000 (16%)]\tLoss: 1.498071\n",
            "Training: Epoch: 2 [12800/60000 (21%)]\tLoss: 1.624291\n",
            "Training: Epoch: 2 [16000/60000 (27%)]\tLoss: 1.653830\n",
            "Training: Epoch: 2 [19200/60000 (32%)]\tLoss: 1.638566\n",
            "Training: Epoch: 2 [22400/60000 (37%)]\tLoss: 1.853264\n",
            "Training: Epoch: 2 [25600/60000 (43%)]\tLoss: 1.691418\n",
            "Training: Epoch: 2 [28800/60000 (48%)]\tLoss: 1.753761\n",
            "Training: Epoch: 2 [32000/60000 (53%)]\tLoss: 1.743367\n",
            "Training: Epoch: 2 [35200/60000 (59%)]\tLoss: 1.595950\n",
            "Training: Epoch: 2 [38400/60000 (64%)]\tLoss: 1.677709\n",
            "Training: Epoch: 2 [41600/60000 (69%)]\tLoss: 1.622248\n",
            "Training: Epoch: 2 [44800/60000 (75%)]\tLoss: 1.723889\n",
            "Training: Epoch: 2 [48000/60000 (80%)]\tLoss: 1.712476\n",
            "Training: Epoch: 2 [51200/60000 (85%)]\tLoss: 1.789833\n",
            "Training: Epoch: 2 [54400/60000 (91%)]\tLoss: 1.797560\n",
            "Training: Epoch: 2 [57600/60000 (96%)]\tLoss: 1.837421\n",
            "\n",
            "Test Sample: Risk/Average Loss: 1.6368, Accuracy: 3456/10000 (35%)\n",
            "\n",
            "Training: Epoch: 3 [0/60000 (0%)]\tLoss: 1.685018\n",
            "Training: Epoch: 3 [3200/60000 (5%)]\tLoss: 1.525041\n",
            "Training: Epoch: 3 [6400/60000 (11%)]\tLoss: 1.755718\n",
            "Training: Epoch: 3 [9600/60000 (16%)]\tLoss: 1.761655\n",
            "Training: Epoch: 3 [12800/60000 (21%)]\tLoss: 1.677396\n",
            "Training: Epoch: 3 [16000/60000 (27%)]\tLoss: 1.559864\n",
            "Training: Epoch: 3 [19200/60000 (32%)]\tLoss: 1.526960\n",
            "Training: Epoch: 3 [22400/60000 (37%)]\tLoss: 1.637914\n",
            "Training: Epoch: 3 [25600/60000 (43%)]\tLoss: 1.638487\n",
            "Training: Epoch: 3 [28800/60000 (48%)]\tLoss: 1.641339\n",
            "Training: Epoch: 3 [32000/60000 (53%)]\tLoss: 1.697958\n",
            "Training: Epoch: 3 [35200/60000 (59%)]\tLoss: 1.546187\n",
            "Training: Epoch: 3 [38400/60000 (64%)]\tLoss: 1.602524\n",
            "Training: Epoch: 3 [41600/60000 (69%)]\tLoss: 1.647154\n",
            "Training: Epoch: 3 [44800/60000 (75%)]\tLoss: 1.610408\n",
            "Training: Epoch: 3 [48000/60000 (80%)]\tLoss: 1.578705\n",
            "Training: Epoch: 3 [51200/60000 (85%)]\tLoss: 1.898817\n",
            "Training: Epoch: 3 [54400/60000 (91%)]\tLoss: 1.664253\n",
            "Training: Epoch: 3 [57600/60000 (96%)]\tLoss: 1.505180\n",
            "\n",
            "Test Sample: Risk/Average Loss: 1.5998, Accuracy: 3701/10000 (37%)\n",
            "\n",
            "Training: Epoch: 4 [0/60000 (0%)]\tLoss: 1.855046\n",
            "Training: Epoch: 4 [3200/60000 (5%)]\tLoss: 1.733612\n",
            "Training: Epoch: 4 [6400/60000 (11%)]\tLoss: 1.674060\n",
            "Training: Epoch: 4 [9600/60000 (16%)]\tLoss: 1.577571\n",
            "Training: Epoch: 4 [12800/60000 (21%)]\tLoss: 1.758604\n",
            "Training: Epoch: 4 [16000/60000 (27%)]\tLoss: 1.830889\n",
            "Training: Epoch: 4 [19200/60000 (32%)]\tLoss: 1.750338\n",
            "Training: Epoch: 4 [22400/60000 (37%)]\tLoss: 1.693257\n",
            "Training: Epoch: 4 [25600/60000 (43%)]\tLoss: 1.646162\n",
            "Training: Epoch: 4 [28800/60000 (48%)]\tLoss: 1.531738\n",
            "Training: Epoch: 4 [32000/60000 (53%)]\tLoss: 1.717496\n",
            "Training: Epoch: 4 [35200/60000 (59%)]\tLoss: 1.616364\n",
            "Training: Epoch: 4 [38400/60000 (64%)]\tLoss: 1.573940\n",
            "Training: Epoch: 4 [41600/60000 (69%)]\tLoss: 1.726143\n",
            "Training: Epoch: 4 [44800/60000 (75%)]\tLoss: 1.778782\n",
            "Training: Epoch: 4 [48000/60000 (80%)]\tLoss: 1.574489\n",
            "Training: Epoch: 4 [51200/60000 (85%)]\tLoss: 1.768840\n",
            "Training: Epoch: 4 [54400/60000 (91%)]\tLoss: 1.447789\n",
            "Training: Epoch: 4 [57600/60000 (96%)]\tLoss: 1.570539\n",
            "\n",
            "Test Sample: Risk/Average Loss: 1.6769, Accuracy: 3558/10000 (36%)\n",
            "\n",
            "Training: Epoch: 5 [0/60000 (0%)]\tLoss: 1.562804\n",
            "Training: Epoch: 5 [3200/60000 (5%)]\tLoss: 1.742637\n",
            "Training: Epoch: 5 [6400/60000 (11%)]\tLoss: 1.666261\n",
            "Training: Epoch: 5 [9600/60000 (16%)]\tLoss: 1.655690\n",
            "Training: Epoch: 5 [12800/60000 (21%)]\tLoss: 1.771277\n",
            "Training: Epoch: 5 [16000/60000 (27%)]\tLoss: 1.672454\n",
            "Training: Epoch: 5 [19200/60000 (32%)]\tLoss: 1.725280\n",
            "Training: Epoch: 5 [22400/60000 (37%)]\tLoss: 1.631250\n",
            "Training: Epoch: 5 [25600/60000 (43%)]\tLoss: 1.822798\n",
            "Training: Epoch: 5 [28800/60000 (48%)]\tLoss: 1.611575\n",
            "Training: Epoch: 5 [32000/60000 (53%)]\tLoss: 1.571962\n",
            "Training: Epoch: 5 [35200/60000 (59%)]\tLoss: 1.810919\n",
            "Training: Epoch: 5 [38400/60000 (64%)]\tLoss: 1.689233\n",
            "Training: Epoch: 5 [41600/60000 (69%)]\tLoss: 1.560972\n",
            "Training: Epoch: 5 [44800/60000 (75%)]\tLoss: 1.730065\n",
            "Training: Epoch: 5 [48000/60000 (80%)]\tLoss: 1.655648\n",
            "Training: Epoch: 5 [51200/60000 (85%)]\tLoss: 1.486806\n",
            "Training: Epoch: 5 [54400/60000 (91%)]\tLoss: 1.495730\n",
            "Training: Epoch: 5 [57600/60000 (96%)]\tLoss: 1.745072\n",
            "\n",
            "Test Sample: Risk/Average Loss: 1.6128, Accuracy: 3702/10000 (37%)\n",
            "\n"
          ]
        }
      ],
      "source": [
        "num_epochs = 5\n",
        "log_interval = 50\n",
        "\n",
        "train_losses = []\n",
        "test_losses = []\n",
        "\n",
        "torch.manual_seed(42) #set a seed for replicability\n",
        "net.apply(init_weights)\n",
        "\n",
        "#evaluate test loss\n",
        "test_loss = 0\n",
        "with torch.no_grad():\n",
        "    for batch_idx, (X, Y) in enumerate(test_loader):\n",
        "        test_loss += loss(net(X) ,Y)\n",
        "test_losses.append(test_loss/len(mnist_test))\n",
        "\n",
        "\n",
        "for epoch in range(num_epochs):\n",
        "    #train the network\n",
        "    net.train()\n",
        "    for batch_idx, (X, Y) in enumerate(train_loader):\n",
        "        training_loss = loss(net(X) ,Y)/len(X)\n",
        "        trainer.zero_grad() #reset the gradient to zero\n",
        "        training_loss.backward()\n",
        "        trainer.step()\n",
        "        if batch_idx % log_interval == 0:\n",
        "            print('Training: Epoch: {} [{}/{} ({:.0f}%)]\\tLoss: {:.6f}'.format(\n",
        "                epoch+1, batch_idx * len(X), len(train_loader.dataset),\n",
        "                100. * batch_idx / len(train_loader), training_loss))\n",
        "            train_losses.append(training_loss.detach())\n",
        "    #evaluate the test set\n",
        "    net.eval()\n",
        "    test_loss = 0\n",
        "    correct = 0\n",
        "    with torch.no_grad():\n",
        "        for X, Y in test_loader:\n",
        "            prediction = net(X)\n",
        "            test_loss += loss(prediction, Y)\n",
        "            max_prediction = prediction.data.max(1)[1]\n",
        "            correct += max_prediction.eq(Y).sum()\n",
        "        test_loss /= len(test_loader.dataset)\n",
        "        print('\\nTest Sample: Risk/Average Loss: {:.4f}, Accuracy: {}/{} ({:.0f}%)\\n'.format(test_loss, correct, len(test_loader.dataset),\n",
        "                                                                              100. * correct / len(test_loader.dataset)))\n",
        "        test_losses.append(test_loss)"
      ]
    },
    {
      "cell_type": "markdown",
      "metadata": {
        "id": "dChSYGOR0jJ4"
      },
      "source": [
        "Plot the logged losses in a suitable plot."
      ]
    },
    {
      "cell_type": "code",
      "execution_count": null,
      "metadata": {
        "id": "oP2dD1W40jJ4",
        "outputId": "fa5ebfdd-7aa9-44cc-e334-8a9d6bd409c4",
        "colab": {
          "base_uri": "https://localhost:8080/",
          "height": 388
        }
      },
      "outputs": [
        {
          "output_type": "display_data",
          "data": {
            "text/plain": [
              "<Figure size 500x400 with 1 Axes>"
            ],
            "image/png": "[encoded data removed]"
          },
          "metadata": {}
        }
      ],
      "source": [
        "import matplotlib.pyplot as plt\n",
        "import numpy as np\n",
        "\n",
        "fig = plt.figure(figsize=(5,4))\n",
        "plt.plot(torch.arange(len(train_losses),dtype = float)/len(train_loader)*log_interval,train_losses, label='Training Set')\n",
        "plt.scatter(torch.arange(len(test_losses),dtype = float),torch.stack(test_losses), label='Testing Set', color = \"red\")\n",
        "plt.ylabel('Loss');plt.xlabel('Epoch');plt.xticks(np.arange(0, num_epochs, step=1))\n",
        "plt.legend()\n",
        "plt.show()"
      ]
    },
    {
      "cell_type": "markdown",
      "metadata": {
        "id": "1SjfOEY80jJ4"
      },
      "source": [
        "Neural network modules as well as optimizers have the ability to save and load their internal state using `.state_dict()`.\n",
        "`load_state_dict(state_dict)`. See [here](https://pytorch.org/tutorials/beginner/saving_loading_models.html) for saving and loading models. What does the dictionary save?"
      ]
    },
    {
      "cell_type": "markdown",
      "metadata": {
        "id": "A-U4aaz80jJ4"
      },
      "source": [
        "### GPUs\n",
        "Use GPUs for training your model."
      ]
    },
    {
      "cell_type": "code",
      "execution_count": null,
      "metadata": {
        "id": "P-PUSZQw0jJ5",
        "outputId": "0c49a0cd-6fe4-4a63-df23-1a134e88cf20",
        "colab": {
          "base_uri": "https://localhost:8080/"
        }
      },
      "outputs": [
        {
          "output_type": "execute_result",
          "data": {
            "text/plain": [
              "device(type='cpu')"
            ]
          },
          "metadata": {},
          "execution_count": 23
        }
      ],
      "source": [
        "device = torch.device(\"cuda:0\" if torch.cuda.is_available() else \"cpu\")\n",
        "device"
      ]
    },
    {
      "cell_type": "code",
      "execution_count": null,
      "metadata": {
        "id": "GO4KDL6b0jJ5"
      },
      "outputs": [],
      "source": [
        "#loss = nn.NLLLoss()\n",
        "loss = nn.CrossEntropyLoss(reduction='sum')\n",
        "#trainer = torch.optim.SGD(deep_net.parameters(), lr=0.03) #a modified version of SDG\n",
        "trainer = torch.optim.Adam(net.parameters(), lr=0.03)"
      ]
    },
    {
      "cell_type": "code",
      "execution_count": null,
      "metadata": {
        "scrolled": false,
        "id": "vRqNCXSP0jJ5",
        "outputId": "acfeb75d-f370-41cd-e898-fc53c286cb9d",
        "colab": {
          "base_uri": "https://localhost:8080/"
        }
      },
      "outputs": [
        {
          "output_type": "stream",
          "name": "stdout",
          "text": [
            "Training: Epoch: 1 [0/60000 (0%)]\tLoss: 3.902964\n",
            "Training: Epoch: 1 [3200/60000 (5%)]\tLoss: 0.940670\n",
            "Training: Epoch: 1 [6400/60000 (11%)]\tLoss: 0.734700\n",
            "Training: Epoch: 1 [9600/60000 (16%)]\tLoss: 0.436788\n",
            "Training: Epoch: 1 [12800/60000 (21%)]\tLoss: 0.424541\n",
            "Training: Epoch: 1 [16000/60000 (27%)]\tLoss: 0.491588\n",
            "Training: Epoch: 1 [19200/60000 (32%)]\tLoss: 0.476664\n",
            "Training: Epoch: 1 [22400/60000 (37%)]\tLoss: 0.403872\n",
            "Training: Epoch: 1 [25600/60000 (43%)]\tLoss: 0.190499\n",
            "Training: Epoch: 1 [28800/60000 (48%)]\tLoss: 0.681419\n",
            "Training: Epoch: 1 [32000/60000 (53%)]\tLoss: 0.314819\n",
            "Training: Epoch: 1 [35200/60000 (59%)]\tLoss: 0.395495\n",
            "Training: Epoch: 1 [38400/60000 (64%)]\tLoss: 0.215445\n",
            "Training: Epoch: 1 [41600/60000 (69%)]\tLoss: 0.340821\n",
            "Training: Epoch: 1 [44800/60000 (75%)]\tLoss: 0.519284\n",
            "Training: Epoch: 1 [48000/60000 (80%)]\tLoss: 0.355163\n",
            "Training: Epoch: 1 [51200/60000 (85%)]\tLoss: 0.619193\n",
            "Training: Epoch: 1 [54400/60000 (91%)]\tLoss: 0.390683\n",
            "Training: Epoch: 1 [57600/60000 (96%)]\tLoss: 0.444694\n",
            "\n",
            "Test Sample: Risk/Average Loss: 0.4004, Accuracy: 8949/10000 (89%)\n",
            "\n",
            "Training: Epoch: 2 [0/60000 (0%)]\tLoss: 0.557978\n",
            "Training: Epoch: 2 [3200/60000 (5%)]\tLoss: 0.326687\n",
            "Training: Epoch: 2 [6400/60000 (11%)]\tLoss: 0.129158\n",
            "Training: Epoch: 2 [9600/60000 (16%)]\tLoss: 0.189886\n",
            "Training: Epoch: 2 [12800/60000 (21%)]\tLoss: 0.726222\n",
            "Training: Epoch: 2 [16000/60000 (27%)]\tLoss: 0.398236\n",
            "Training: Epoch: 2 [19200/60000 (32%)]\tLoss: 0.841866\n",
            "Training: Epoch: 2 [22400/60000 (37%)]\tLoss: 0.633249\n",
            "Training: Epoch: 2 [25600/60000 (43%)]\tLoss: 0.493183\n",
            "Training: Epoch: 2 [28800/60000 (48%)]\tLoss: 0.459003\n",
            "Training: Epoch: 2 [32000/60000 (53%)]\tLoss: 1.145393\n",
            "Training: Epoch: 2 [35200/60000 (59%)]\tLoss: 0.309498\n",
            "Training: Epoch: 2 [38400/60000 (64%)]\tLoss: 0.338505\n",
            "Training: Epoch: 2 [41600/60000 (69%)]\tLoss: 0.589855\n",
            "Training: Epoch: 2 [44800/60000 (75%)]\tLoss: 0.373800\n",
            "Training: Epoch: 2 [48000/60000 (80%)]\tLoss: 0.374368\n",
            "Training: Epoch: 2 [51200/60000 (85%)]\tLoss: 0.712577\n",
            "Training: Epoch: 2 [54400/60000 (91%)]\tLoss: 0.897378\n",
            "Training: Epoch: 2 [57600/60000 (96%)]\tLoss: 0.650785\n",
            "\n",
            "Test Sample: Risk/Average Loss: 0.3698, Accuracy: 9059/10000 (91%)\n",
            "\n",
            "Training: Epoch: 3 [0/60000 (0%)]\tLoss: 0.516347\n",
            "Training: Epoch: 3 [3200/60000 (5%)]\tLoss: 0.251841\n",
            "Training: Epoch: 3 [6400/60000 (11%)]\tLoss: 0.247946\n",
            "Training: Epoch: 3 [9600/60000 (16%)]\tLoss: 0.314264\n",
            "Training: Epoch: 3 [12800/60000 (21%)]\tLoss: 0.253320\n",
            "Training: Epoch: 3 [16000/60000 (27%)]\tLoss: 0.278499\n",
            "Training: Epoch: 3 [19200/60000 (32%)]\tLoss: 0.185249\n",
            "Training: Epoch: 3 [22400/60000 (37%)]\tLoss: 0.363429\n",
            "Training: Epoch: 3 [25600/60000 (43%)]\tLoss: 0.348579\n",
            "Training: Epoch: 3 [28800/60000 (48%)]\tLoss: 0.512018\n",
            "Training: Epoch: 3 [32000/60000 (53%)]\tLoss: 0.428723\n",
            "Training: Epoch: 3 [35200/60000 (59%)]\tLoss: 0.293405\n",
            "Training: Epoch: 3 [38400/60000 (64%)]\tLoss: 0.264565\n",
            "Training: Epoch: 3 [41600/60000 (69%)]\tLoss: 0.579574\n",
            "Training: Epoch: 3 [44800/60000 (75%)]\tLoss: 0.209624\n",
            "Training: Epoch: 3 [48000/60000 (80%)]\tLoss: 0.793821\n",
            "Training: Epoch: 3 [51200/60000 (85%)]\tLoss: 0.667636\n",
            "Training: Epoch: 3 [54400/60000 (91%)]\tLoss: 0.528284\n",
            "Training: Epoch: 3 [57600/60000 (96%)]\tLoss: 0.347215\n",
            "\n",
            "Test Sample: Risk/Average Loss: 0.3513, Accuracy: 9102/10000 (91%)\n",
            "\n",
            "Training: Epoch: 4 [0/60000 (0%)]\tLoss: 0.454049\n",
            "Training: Epoch: 4 [3200/60000 (5%)]\tLoss: 0.414937\n",
            "Training: Epoch: 4 [6400/60000 (11%)]\tLoss: 0.704930\n",
            "Training: Epoch: 4 [9600/60000 (16%)]\tLoss: 0.097324\n",
            "Training: Epoch: 4 [12800/60000 (21%)]\tLoss: 0.231277\n",
            "Training: Epoch: 4 [16000/60000 (27%)]\tLoss: 0.486762\n",
            "Training: Epoch: 4 [19200/60000 (32%)]\tLoss: 0.420901\n",
            "Training: Epoch: 4 [22400/60000 (37%)]\tLoss: 0.517441\n",
            "Training: Epoch: 4 [25600/60000 (43%)]\tLoss: 0.628654\n",
            "Training: Epoch: 4 [28800/60000 (48%)]\tLoss: 0.190442\n",
            "Training: Epoch: 4 [32000/60000 (53%)]\tLoss: 0.338772\n",
            "Training: Epoch: 4 [35200/60000 (59%)]\tLoss: 0.674181\n",
            "Training: Epoch: 4 [38400/60000 (64%)]\tLoss: 0.497717\n",
            "Training: Epoch: 4 [41600/60000 (69%)]\tLoss: 0.849500\n",
            "Training: Epoch: 4 [44800/60000 (75%)]\tLoss: 0.377133\n",
            "Training: Epoch: 4 [48000/60000 (80%)]\tLoss: 0.587644\n",
            "Training: Epoch: 4 [51200/60000 (85%)]\tLoss: 0.464583\n",
            "Training: Epoch: 4 [54400/60000 (91%)]\tLoss: 0.442893\n",
            "Training: Epoch: 4 [57600/60000 (96%)]\tLoss: 0.266032\n",
            "\n",
            "Test Sample: Risk/Average Loss: 0.3283, Accuracy: 9149/10000 (91%)\n",
            "\n",
            "Training: Epoch: 5 [0/60000 (0%)]\tLoss: 0.134537\n",
            "Training: Epoch: 5 [3200/60000 (5%)]\tLoss: 0.211438\n",
            "Training: Epoch: 5 [6400/60000 (11%)]\tLoss: 0.360275\n",
            "Training: Epoch: 5 [9600/60000 (16%)]\tLoss: 0.559424\n",
            "Training: Epoch: 5 [12800/60000 (21%)]\tLoss: 0.243918\n",
            "Training: Epoch: 5 [16000/60000 (27%)]\tLoss: 0.100669\n",
            "Training: Epoch: 5 [19200/60000 (32%)]\tLoss: 0.299403\n",
            "Training: Epoch: 5 [22400/60000 (37%)]\tLoss: 0.912164\n",
            "Training: Epoch: 5 [25600/60000 (43%)]\tLoss: 0.565020\n",
            "Training: Epoch: 5 [28800/60000 (48%)]\tLoss: 0.283847\n",
            "Training: Epoch: 5 [32000/60000 (53%)]\tLoss: 0.439194\n",
            "Training: Epoch: 5 [35200/60000 (59%)]\tLoss: 0.545508\n",
            "Training: Epoch: 5 [38400/60000 (64%)]\tLoss: 0.696308\n",
            "Training: Epoch: 5 [41600/60000 (69%)]\tLoss: 0.319039\n",
            "Training: Epoch: 5 [44800/60000 (75%)]\tLoss: 0.555008\n",
            "Training: Epoch: 5 [48000/60000 (80%)]\tLoss: 0.403790\n",
            "Training: Epoch: 5 [51200/60000 (85%)]\tLoss: 0.254823\n",
            "Training: Epoch: 5 [54400/60000 (91%)]\tLoss: 0.413965\n",
            "Training: Epoch: 5 [57600/60000 (96%)]\tLoss: 0.714207\n",
            "\n",
            "Test Sample: Risk/Average Loss: 0.4164, Accuracy: 8951/10000 (90%)\n",
            "\n"
          ]
        }
      ],
      "source": [
        "num_epochs = 5\n",
        "log_interval = 50\n",
        "\n",
        "train_losses = []\n",
        "test_losses = []\n",
        "\n",
        "torch.manual_seed(42) #set a seed for replicability\n",
        "net.apply(init_weights)\n",
        "net.to(device)\n",
        "\n",
        "#evaluate test loss\n",
        "test_loss = 0\n",
        "with torch.no_grad():\n",
        "    for data in test_loader:\n",
        "        X,Y = data[0].to(device),data[1].to(device)\n",
        "        test_loss += loss(net(X) ,Y)\n",
        "test_losses.append(test_loss.to(\"cpu\")/len(mnist_test))\n",
        "\n",
        "\n",
        "for epoch in range(num_epochs):\n",
        "    #train the network\n",
        "    net.train()\n",
        "    for batch_idx, data in enumerate(train_loader):\n",
        "        X,Y = data[0].to(device),data[1].to(device)\n",
        "        training_loss = loss(net(X) ,Y)/len(X)\n",
        "        trainer.zero_grad() #reset the gradient to zero\n",
        "        training_loss.backward()\n",
        "        trainer.step()\n",
        "        if batch_idx % log_interval == 0:\n",
        "            print('Training: Epoch: {} [{}/{} ({:.0f}%)]\\tLoss: {:.6f}'.format(\n",
        "                epoch+1, batch_idx * len(X), len(train_loader.dataset),\n",
        "                100. * batch_idx / len(train_loader), training_loss))\n",
        "            train_losses.append(training_loss.to(\"cpu\").detach())\n",
        "    #evaluate the test set\n",
        "    net.eval()\n",
        "    test_loss = 0\n",
        "    correct = 0\n",
        "    with torch.no_grad():\n",
        "        for data in test_loader:\n",
        "            X,Y = data[0].to(device),data[1].to(device)\n",
        "            prediction = net(X)\n",
        "            test_loss += loss(prediction, Y)\n",
        "            max_prediction = prediction.data.max(1,keepdim=True)[1]\n",
        "            correct += max_prediction.eq(Y.data.reshape(-1,1)).sum()\n",
        "        test_loss /= len(test_loader.dataset)\n",
        "        print('\\nTest Sample: Risk/Average Loss: {:.4f}, Accuracy: {}/{} ({:.0f}%)\\n'.format(test_loss, correct, len(test_loader.dataset),\n",
        "                                                                              100. * correct / len(test_loader.dataset)))\n",
        "        test_losses.append(test_loss.to(\"cpu\"))\n"
      ]
    },
    {
      "cell_type": "code",
      "execution_count": null,
      "metadata": {
        "id": "5qPwpaXw0jJ6",
        "outputId": "1b1cbac6-e287-4afa-f6fa-a343f63278e8",
        "colab": {
          "base_uri": "https://localhost:8080/"
        }
      },
      "outputs": [
        {
          "output_type": "display_data",
          "data": {
            "text/plain": [
              "<Figure size 360x288 with 1 Axes>"
            ],
            "image/png": "[encoded data removed]"
          },
          "metadata": {
            "needs_background": "light"
          }
        }
      ],
      "source": [
        "import matplotlib.pyplot as plt\n",
        "import numpy as np\n",
        "\n",
        "fig = plt.figure(figsize=(5,4))\n",
        "plt.plot(torch.arange(len(train_losses),dtype = float)/len(train_loader)*log_interval,train_losses, label='Training Set')\n",
        "plt.scatter(torch.arange(len(test_losses),dtype = float),torch.stack(test_losses), label='Testing Set', color = \"red\")\n",
        "plt.ylabel('Loss');plt.xlabel('Epoch');plt.xticks(np.arange(0, num_epochs, step=1))\n",
        "plt.legend()\n",
        "plt.show()"
      ]
    }
  ],
  "metadata": {
    "kernelspec": {
      "display_name": "Python 3",
      "language": "python",
      "name": "python3"
    },
    "language_info": {
      "codemirror_mode": {
        "name": "ipython",
        "version": 3
      },
      "file_extension": ".py",
      "mimetype": "text/x-python",
      "name": "python",
      "nbconvert_exporter": "python",
      "pygments_lexer": "ipython3",
      "version": "3.7.9"
    },
    "colab": {
      "provenance": []
    }
  },
  "nbformat": 4,
  "nbformat_minor": 0
}