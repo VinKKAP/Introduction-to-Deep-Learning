{
  "cells": [
    {
      "cell_type": "markdown",
      "metadata": {
        "id": "nFJV_pZtVtfE"
      },
      "source": [
        "# Tutorial 2\n",
        "\n",
        "With this tutorial, we will jump into the `pytorch` Autograd functionality and further implement the Softmax Regression.\n",
        "\n",
        "## 1. Autograd\n",
        "\n",
        "Let\n",
        "\n",
        "$$\\begin{align}\n",
        "f:\\mathbb{R} &\\to\\mathbb{R}\\\\\n",
        "x&\\mapsto 0.7x^4+4\\sin(x)-0.5x^3\n",
        "\\end{align}.$$\n",
        "\n",
        "a) Plot $f(x)$ for $x \\in [- 2.5,2.5]$.\n",
        "\n",
        "b) Use the `pytorch` package to calculate the gradient of $f$ in $x = 2.5$. (Hint: `.backward()`)\n",
        "\n",
        "c) Use gradient descent (with a stepsize of $0.1$ and $20$ steps) to find the minimum.\n",
        "\n",
        "d) Modify your code of c) to log the values after each step and plot points for each step of gradient descent (Hint: `pyplot.scatter`, see [documentation](https://matplotlib.org/3.1.1/api/_as_gen/matplotlib.pyplot.scatter.html))."
      ]
    },
    {
      "cell_type": "code",
      "execution_count": null,
      "metadata": {
        "id": "iPh-pw49Yz6V"
      },
      "outputs": [],
      "source": [
        "import torch\n",
        "import matplotlib.pyplot as plt\n",
        "\n",
        "x = torch.arange(-2.5, 2.51, step=0.01)\n",
        "f_x = 0.7 * torch.pow(x, 4) + 4 * torch.sin(x) - 0.5 * torch.pow(x, 3)"
      ]
    },
    {
      "cell_type": "code",
      "source": [
        "plt.plot(x, f_x)\n",
        "plt.xlabel(\"$x$\")\n",
        "plt.ylabel(\"$f(x) = 0.7x^4+4\\sin(x)-0.5x^3$\")\n",
        "plt.title(\"f(x)\")"
      ],
      "metadata": {
        "colab": {
          "base_uri": "https://localhost:8080/",
          "height": 490
        },
        "id": "UmNcixH4S5bO",
        "outputId": "ce1096d0-4e1e-4bfa-89d1-d0f411e37bef"
      },
      "execution_count": null,
      "outputs": [
        {
          "output_type": "execute_result",
          "data": {
            "text/plain": [
              "Text(0.5, 1.0, 'f(x)')"
            ]
          },
          "metadata": {},
          "execution_count": 17
        },
        {
          "output_type": "display_data",
          "data": {
            "text/plain": [
              "<Figure size 640x480 with 1 Axes>"
            ],
            "image/png": "[encoded data removed]"
          },
          "metadata": {}
        }
      ]
    },
    {
      "cell_type": "markdown",
      "source": [
        "## b)"
      ],
      "metadata": {
        "id": "uznO57NATjvo"
      }
    },
    {
      "cell_type": "code",
      "source": [
        "x0 = torch.tensor([2.5], requires_grad=True)\n",
        "f_x0 = 0.7 * torch.pow(x0, 4) + 4 * torch.sin(x0) - 0.5 * torch.pow(x0, 3)"
      ],
      "metadata": {
        "id": "gkjStX0JTGte"
      },
      "execution_count": null,
      "outputs": []
    },
    {
      "cell_type": "code",
      "source": [
        "f_x0"
      ],
      "metadata": {
        "colab": {
          "base_uri": "https://localhost:8080/"
        },
        "id": "UCL-Vy3cW3uW",
        "outputId": "e762a3f8-6054-4ce0-b66a-d4ac02a093db"
      },
      "execution_count": null,
      "outputs": [
        {
          "output_type": "execute_result",
          "data": {
            "text/plain": [
              "tensor([21.9251], grad_fn=<SubBackward0>)"
            ]
          },
          "metadata": {},
          "execution_count": 19
        }
      ]
    },
    {
      "cell_type": "code",
      "source": [
        "f_x0.backward()"
      ],
      "metadata": {
        "id": "HF-pML5fTGiv"
      },
      "execution_count": null,
      "outputs": []
    },
    {
      "cell_type": "code",
      "source": [
        "x0.grad"
      ],
      "metadata": {
        "colab": {
          "base_uri": "https://localhost:8080/"
        },
        "id": "wK8QqtxPUo9_",
        "outputId": "99950224-dcc6-4453-d7e0-416537bb1dd5"
      },
      "execution_count": null,
      "outputs": [
        {
          "output_type": "execute_result",
          "data": {
            "text/plain": [
              "tensor([31.1704])"
            ]
          },
          "metadata": {},
          "execution_count": 21
        }
      ]
    },
    {
      "cell_type": "code",
      "source": [
        "x0.grad.zero_()\n",
        "x0.grad"
      ],
      "metadata": {
        "colab": {
          "base_uri": "https://localhost:8080/"
        },
        "id": "L3jPPFowU3i8",
        "outputId": "b3dd2085-c4cd-49bf-fbde-3e5ad4ce4265"
      },
      "execution_count": null,
      "outputs": [
        {
          "output_type": "execute_result",
          "data": {
            "text/plain": [
              "tensor([0.])"
            ]
          },
          "metadata": {},
          "execution_count": 22
        }
      ]
    },
    {
      "cell_type": "code",
      "source": [
        "f_x0"
      ],
      "metadata": {
        "colab": {
          "base_uri": "https://localhost:8080/"
        },
        "id": "kqbYTjU9W0gs",
        "outputId": "752ef4a8-3d2b-478f-869f-b088f973f856"
      },
      "execution_count": null,
      "outputs": [
        {
          "output_type": "execute_result",
          "data": {
            "text/plain": [
              "tensor([21.9251], grad_fn=<SubBackward0>)"
            ]
          },
          "metadata": {},
          "execution_count": 23
        }
      ]
    },
    {
      "cell_type": "code",
      "source": [
        "f_x0"
      ],
      "metadata": {
        "colab": {
          "base_uri": "https://localhost:8080/"
        },
        "id": "EoJMxaN7XCPT",
        "outputId": "984bb0f4-7d91-4b0f-e748-5d8296e07abd"
      },
      "execution_count": null,
      "outputs": [
        {
          "output_type": "execute_result",
          "data": {
            "text/plain": [
              "tensor([21.9251], grad_fn=<SubBackward0>)"
            ]
          },
          "metadata": {},
          "execution_count": 24
        }
      ]
    },
    {
      "cell_type": "code",
      "source": [
        "torch.manual_seed(42)\n",
        "x_0 = torch.tensor([2.5], requires_grad=True)\n",
        "lr = 0.05\n",
        "\n",
        "x_steps = torch.tensor([2.5])\n",
        "f_x_steps = 0.7 * torch.pow(x_0, 4) + 4 * torch.sin(x_0) - 0.5 * torch.pow(x_0, 3)\n",
        "\n",
        "for i in range(20):\n",
        "  f_x0_loop = 0.7 * torch.pow(x_0, 4) + 4 * torch.sin(x_0) - 0.5 * torch.pow(x_0, 3)\n",
        "  f_x0_loop.backward()\n",
        "  with torch.no_grad():\n",
        "    x_0 -=  lr * x_0.grad\n",
        "    # x_0 = x_0 - lr * x_0.grad funktioniert nicht.\n",
        "    x_steps = torch.cat((x_steps, x_0))\n",
        "    f_x_steps = torch.cat((f_x_steps, 0.7 * torch.pow(x_0, 4) + 4 * torch.sin(x_0) - 0.5 * torch.pow(x_0, 3)))\n",
        "  x_0.grad.zero_()\n",
        "\n",
        "print(x_0)"
      ],
      "metadata": {
        "colab": {
          "base_uri": "https://localhost:8080/"
        },
        "id": "0Sj170-8VIMk",
        "outputId": "046ab423-7bf9-4619-be4e-59408f7c5c4e"
      },
      "execution_count": null,
      "outputs": [
        {
          "output_type": "stream",
          "name": "stdout",
          "text": [
            "tensor([-0.8357], requires_grad=True)\n"
          ]
        }
      ]
    },
    {
      "cell_type": "code",
      "source": [
        "plt.plot(x, f_x, label=\"Function\")\n",
        "plt.scatter(x_steps, f_x_steps, label=\"Steps to Minimum\", color=\"red\")\n",
        "plt.xlabel(\"$x$\")\n",
        "plt.ylabel(\"$f(x) = 0.7x^4+4\\sin(x)-0.5x^3$\")\n",
        "plt.legend()\n",
        "plt.title(\"f(x)\")"
      ],
      "metadata": {
        "colab": {
          "base_uri": "https://localhost:8080/",
          "height": 490
        },
        "id": "ebn5tQkmZQv4",
        "outputId": "80fa1b24-9b55-4afc-e420-cedcb11ec5a8"
      },
      "execution_count": null,
      "outputs": [
        {
          "output_type": "execute_result",
          "data": {
            "text/plain": [
              "Text(0.5, 1.0, 'f(x)')"
            ]
          },
          "metadata": {},
          "execution_count": 26
        },
        {
          "output_type": "display_data",
          "data": {
            "text/plain": [
              "<Figure size 640x480 with 1 Axes>"
            ],
            "image/png": "[encoded data removed]"
          },
          "metadata": {}
        }
      ]
    },
    {
      "cell_type": "code",
      "source": [],
      "metadata": {
        "id": "mxvKjC7gZ5Bb"
      },
      "execution_count": null,
      "outputs": []
    },
    {
      "cell_type": "markdown",
      "metadata": {
        "id": "a58sWI-hVtfH"
      },
      "source": [
        "\n",
        "\n",
        "```\n",
        "# Als Code formatiert\n",
        "```\n",
        "\n",
        "## 2. Softmax Regression\n",
        "\n",
        "### Dataset\n",
        "\n",
        "At first load the [breast-cancer-dataset](https://scikit-learn.org/stable/datasets/toy_dataset.html#breast-cancer-wisconsin-diagnostic-dataset) from [Scikit-learn](https://scikit-learn.org/stable/index.html) and split it into training and testing set."
      ]
    },
    {
      "cell_type": "code",
      "execution_count": null,
      "metadata": {
        "id": "hVzMFNorVtfI"
      },
      "outputs": [],
      "source": [
        "from sklearn.model_selection import train_test_split\n",
        "from sklearn.datasets import load_breast_cancer\n",
        "import torch"
      ]
    },
    {
      "cell_type": "code",
      "execution_count": null,
      "metadata": {
        "id": "RMW83BrVVtfR",
        "scrolled": true
      },
      "outputs": [],
      "source": [
        "features, labels = load_breast_cancer(return_X_y=True)\n",
        "X_train, X_test, Y_train, Y_test = train_test_split(features, labels, test_size=0.25, random_state=42)\n",
        "\n",
        "X_train= torch.tensor(X_train, dtype = torch.float)\n",
        "Y_train= torch.tensor(Y_train, dtype = torch.long)\n",
        "X_test= torch.tensor(X_test, dtype = torch.float)\n",
        "Y_test= torch.tensor(Y_test, dtype = torch.long)"
      ]
    },
    {
      "cell_type": "markdown",
      "metadata": {
        "id": "d9sAeUcKVtfW"
      },
      "source": [
        "Take a look at the [documentation](https://scikit-learn.org/stable/datasets/toy_dataset.html#breast-cancer-wisconsin-diagnostic-dataset) of the dataset. How many observations and features are included? What are the features? How many different classes exist? etc."
      ]
    },
    {
      "cell_type": "markdown",
      "metadata": {
        "id": "l2eb0PCfVtfX"
      },
      "source": [
        "* How is the benign class encoded?"
      ]
    },
    {
      "cell_type": "code",
      "source": [
        "labels.sum()\n",
        "features.shape\n",
        "\n",
        "# -> 1 = Gutartig, 2 = Bösartig"
      ],
      "metadata": {
        "colab": {
          "base_uri": "https://localhost:8080/"
        },
        "id": "UfHcB2aVbH6K",
        "outputId": "3c8fc2b7-b2f8-4f5c-cf5f-7abb9dbc899b"
      },
      "execution_count": null,
      "outputs": [
        {
          "output_type": "execute_result",
          "data": {
            "text/plain": [
              "(569, 30)"
            ]
          },
          "metadata": {},
          "execution_count": 29
        }
      ]
    },
    {
      "cell_type": "markdown",
      "metadata": {
        "id": "F314-a-PVtfZ"
      },
      "source": [
        "### Softmax Regression from Scratch\n",
        "\n",
        "In a classification problem with $K$ classes, we can represent the outcome space as $\\mathcal{Y}:=\\{1,\\dots,K\\}$ (or $\\{0,\\dots,K-1\\}$).<br>\n",
        "The softmax regression model assumes that the conditional probablilty\n",
        "$$ P(Y=j|X=x)= \\frac{\\exp(w_j^Tx+b_j)}{\\sum_\\limits{k=1}^{K}\\exp(w_k^Tx+b_k)}$$\n",
        "for all $j=\\{1,\\dots,K\\}$. This is a combination of $K$ linear functions and the softmax function (normalized exponential function)\n",
        "$$\\begin{align}\n",
        "\\text{softmax}:\\mathbb{R}^K&\\to [0,1]^K\\\\\n",
        "\\begin{pmatrix}x_1\\\\ \\vdots \\\\ x_K\\end{pmatrix}&\\mapsto\\left(\\frac{\\exp(x_1)}{\\sum_\\limits{k=1}^{K}\\exp(x_k)},\\dots,\\frac{\\exp(x_K)}{\\sum_\\limits{k=1}^{K}\\exp(x_k)}\\right)^T.\n",
        "\\end{align}$$"
      ]
    },
    {
      "cell_type": "markdown",
      "metadata": {
        "id": "P_O7r_6wVtfa"
      },
      "source": [
        "* First, start by initializing the weights as in the lecture (use the seed $42$). How many weights do we need?\n",
        "* Next, define a sofmax function, which takes in a $m\\times p$ dimensional tensor and applies the softmax function for each row (the broadcasting mechanism can simplify your solutions). The result should be an $m\\times p$ dimensional tensor of probabilities, which sum up to $1$.\n",
        "* Use the weights and the softmax-function to define a softmax regression function, which returns the estimated conditional probablities for each class. Try the model on the first three observations of your training set.\n",
        "* What would your final prediction look like, according to these probabilities (for implementation `torch.max`, see [documentation](https://pytorch.org/docs/stable/generated/torch.max.html), might be helpful)? How do the true labels look like (to compare both use `torch.eq`)?\n",
        "* Evaluate the random model on your training and test set by evaluating the accuarcy (share of correct predictions).\n",
        "\n",
        "For training, we will need another loss function (why?)."
      ]
    },
    {
      "cell_type": "code",
      "source": [
        "# K (= 2) * dim(X) (= 30) = 60\n",
        "\n",
        "torch.manual_seed(420)\n",
        "weights = torch.normal(0, 0.01, size=(30, 2), requires_grad=True)\n",
        "weights"
      ],
      "metadata": {
        "colab": {
          "base_uri": "https://localhost:8080/"
        },
        "id": "6YRGV6kWRuoB",
        "outputId": "636b4df3-1f3a-4147-e481-b05da008e049"
      },
      "execution_count": null,
      "outputs": [
        {
          "output_type": "execute_result",
          "data": {
            "text/plain": [
              "tensor([[-7.0426e-05,  5.0445e-03],\n",
              "        [ 6.7037e-03, -3.8286e-03],\n",
              "        [ 3.0239e-04,  3.8263e-03],\n",
              "        [-5.1312e-03,  7.1042e-03],\n",
              "        [ 1.8092e-02,  4.3523e-03],\n",
              "        [ 2.6453e-02,  2.6535e-03],\n",
              "        [ 9.2350e-03, -4.3756e-03],\n",
              "        [ 2.0182e-02,  1.3498e-02],\n",
              "        [-2.5230e-03, -3.5503e-04],\n",
              "        [-6.4552e-04, -5.9176e-03],\n",
              "        [ 9.3828e-04, -2.0492e-02],\n",
              "        [ 1.0550e-02, -6.2219e-03],\n",
              "        [-8.8593e-03,  1.4945e-03],\n",
              "        [ 7.6840e-03,  4.0664e-03],\n",
              "        [ 1.3646e-02, -7.3723e-03],\n",
              "        [-7.0839e-03, -2.8423e-03],\n",
              "        [ 1.6243e-02, -3.2217e-03],\n",
              "        [ 2.2995e-03, -9.6751e-03],\n",
              "        [-6.3356e-03,  7.5658e-03],\n",
              "        [ 3.5237e-03,  6.1256e-03],\n",
              "        [ 7.7488e-03, -1.7884e-03],\n",
              "        [-4.1555e-03, -4.4766e-03],\n",
              "        [ 1.9852e-02, -1.0167e-02],\n",
              "        [ 4.8575e-03,  5.4278e-03],\n",
              "        [ 1.1482e-03, -6.6702e-03],\n",
              "        [ 6.0057e-03,  6.7183e-03],\n",
              "        [ 8.8420e-03, -2.4602e-03],\n",
              "        [-1.1771e-02,  1.9242e-02],\n",
              "        [ 3.9360e-03, -1.2349e-02],\n",
              "        [ 4.8043e-03, -2.4358e-02]], requires_grad=True)"
            ]
          },
          "metadata": {},
          "execution_count": 45
        }
      ]
    },
    {
      "cell_type": "code",
      "source": [
        "bias = torch.zeros(2, requires_grad=True)\n",
        "bias"
      ],
      "metadata": {
        "colab": {
          "base_uri": "https://localhost:8080/"
        },
        "id": "ap02eqKNTzis",
        "outputId": "17e89b8b-cb15-4883-8666-2469862ad32b"
      },
      "execution_count": null,
      "outputs": [
        {
          "output_type": "execute_result",
          "data": {
            "text/plain": [
              "tensor([0., 0.], requires_grad=True)"
            ]
          },
          "metadata": {},
          "execution_count": 46
        }
      ]
    },
    {
      "cell_type": "code",
      "source": [
        "def softmax(X):\n",
        "  X_exp = torch.exp(X)\n",
        "  X_exp_sum = X_exp.sum(1, keepdim=True)\n",
        "  return X_exp / X_exp_sum"
      ],
      "metadata": {
        "id": "eYLTPoD4UZqP"
      },
      "execution_count": null,
      "outputs": []
    },
    {
      "cell_type": "code",
      "source": [
        "def model(X, weights, bias):\n",
        "  lin_input = torch.matmul(X, weights) + bias\n",
        "  return softmax(lin_input)"
      ],
      "metadata": {
        "id": "KKVvy141UZm1"
      },
      "execution_count": null,
      "outputs": []
    },
    {
      "cell_type": "code",
      "source": [
        "output_test = model(X_train, weights, bias)"
      ],
      "metadata": {
        "id": "kvPIW-5XUZkf"
      },
      "execution_count": null,
      "outputs": []
    },
    {
      "cell_type": "code",
      "source": [
        "pred_labels = torch.max(output_test.data, 1).indices"
      ],
      "metadata": {
        "id": "4misHTTiV6pE"
      },
      "execution_count": null,
      "outputs": []
    },
    {
      "cell_type": "code",
      "source": [
        "pred_labels"
      ],
      "metadata": {
        "colab": {
          "base_uri": "https://localhost:8080/"
        },
        "id": "n5pX8Y-JW1u1",
        "outputId": "8eb39514-9116-4ec0-eb3d-2df7b456ddae"
      },
      "execution_count": null,
      "outputs": [
        {
          "output_type": "execute_result",
          "data": {
            "text/plain": [
              "tensor([1, 1, 1, 1, 1, 1, 1, 1, 1, 1, 1, 1, 1, 1, 1, 1, 1, 1, 1, 1, 1, 1, 1, 1,\n",
              "        1, 1, 1, 1, 1, 1, 1, 1, 1, 1, 1, 1, 1, 1, 1, 1, 1, 1, 1, 1, 1, 1, 1, 1,\n",
              "        1, 1, 1, 1, 1, 1, 1, 1, 1, 1, 1, 1, 1, 1, 1, 1, 1, 1, 1, 1, 1, 1, 1, 1,\n",
              "        1, 1, 1, 1, 1, 1, 1, 1, 1, 1, 1, 1, 1, 1, 1, 1, 1, 1, 1, 1, 1, 1, 1, 1,\n",
              "        1, 1, 1, 1, 1, 1, 1, 1, 1, 1, 1, 1, 1, 1, 1, 1, 1, 1, 1, 1, 1, 1, 1, 1,\n",
              "        1, 1, 1, 1, 1, 1, 1, 1, 1, 1, 1, 1, 1, 1, 1, 1, 1, 1, 1, 1, 1, 1, 1, 1,\n",
              "        1, 1, 1, 1, 1, 1, 1, 1, 1, 1, 1, 1, 1, 1, 1, 1, 1, 1, 1, 1, 1, 1, 1, 1,\n",
              "        1, 1, 1, 1, 1, 1, 1, 1, 1, 1, 1, 1, 1, 1, 1, 1, 1, 1, 1, 1, 1, 1, 1, 1,\n",
              "        1, 1, 1, 1, 1, 1, 1, 1, 1, 1, 1, 1, 1, 1, 1, 1, 1, 1, 1, 1, 1, 1, 1, 1,\n",
              "        1, 1, 1, 1, 1, 1, 1, 1, 1, 1, 1, 1, 1, 1, 1, 1, 1, 1, 1, 1, 1, 1, 1, 1,\n",
              "        1, 1, 1, 1, 1, 1, 1, 1, 1, 1, 1, 1, 1, 1, 1, 1, 1, 1, 1, 1, 1, 1, 1, 1,\n",
              "        1, 1, 1, 1, 1, 1, 1, 1, 1, 1, 1, 1, 1, 1, 1, 1, 1, 1, 1, 1, 1, 1, 1, 1,\n",
              "        1, 1, 1, 1, 1, 1, 1, 1, 1, 1, 1, 1, 1, 1, 1, 1, 1, 1, 1, 1, 1, 1, 1, 1,\n",
              "        1, 1, 1, 1, 1, 1, 1, 1, 1, 1, 1, 1, 1, 1, 1, 1, 1, 1, 1, 1, 1, 1, 1, 1,\n",
              "        1, 1, 1, 1, 1, 1, 1, 1, 1, 1, 1, 1, 1, 1, 1, 1, 1, 1, 1, 1, 1, 1, 1, 1,\n",
              "        1, 1, 1, 1, 1, 1, 1, 1, 1, 1, 1, 1, 1, 1, 1, 1, 1, 1, 1, 1, 1, 1, 1, 1,\n",
              "        1, 1, 1, 1, 1, 1, 1, 1, 1, 1, 1, 1, 1, 1, 1, 1, 1, 1, 1, 1, 1, 1, 1, 1,\n",
              "        1, 1, 1, 1, 1, 1, 1, 1, 1, 1, 1, 1, 1, 1, 1, 1, 1, 1])"
            ]
          },
          "metadata": {},
          "execution_count": 65
        }
      ]
    },
    {
      "cell_type": "code",
      "source": [
        "torch.eq(pred_labels, Y_train)"
      ],
      "metadata": {
        "colab": {
          "base_uri": "https://localhost:8080/"
        },
        "id": "AdW5G_WqWqqg",
        "outputId": "7adab644-3123-4627-ed4b-3776e4014907"
      },
      "execution_count": null,
      "outputs": [
        {
          "output_type": "execute_result",
          "data": {
            "text/plain": [
              "tensor([ True, False,  True, False, False, False,  True, False,  True,  True,\n",
              "         True,  True, False, False,  True,  True,  True,  True,  True,  True,\n",
              "         True, False,  True,  True,  True,  True, False,  True,  True,  True,\n",
              "         True,  True,  True, False,  True,  True,  True,  True,  True,  True,\n",
              "        False, False, False,  True,  True, False,  True, False,  True,  True,\n",
              "         True,  True, False,  True,  True, False,  True,  True,  True, False,\n",
              "         True, False, False,  True,  True,  True, False,  True,  True,  True,\n",
              "         True, False,  True,  True,  True,  True,  True, False,  True, False,\n",
              "        False,  True,  True, False,  True,  True,  True,  True,  True,  True,\n",
              "         True, False, False, False,  True,  True, False,  True,  True, False,\n",
              "         True, False,  True, False,  True, False,  True,  True, False,  True,\n",
              "         True,  True, False,  True, False,  True, False,  True, False,  True,\n",
              "         True, False,  True,  True,  True,  True, False,  True,  True,  True,\n",
              "        False,  True,  True, False,  True,  True, False,  True,  True,  True,\n",
              "         True,  True,  True,  True, False,  True,  True,  True, False,  True,\n",
              "        False,  True,  True,  True, False,  True, False, False,  True,  True,\n",
              "        False,  True, False, False, False,  True,  True,  True, False,  True,\n",
              "         True, False,  True, False,  True,  True,  True, False,  True, False,\n",
              "         True,  True, False, False,  True,  True, False,  True, False, False,\n",
              "         True, False, False,  True,  True, False, False, False,  True,  True,\n",
              "         True,  True, False,  True, False, False, False, False,  True,  True,\n",
              "         True,  True,  True,  True,  True,  True, False, False,  True,  True,\n",
              "        False,  True,  True,  True,  True,  True, False,  True,  True, False,\n",
              "        False,  True, False,  True, False,  True,  True,  True,  True,  True,\n",
              "         True, False,  True,  True, False,  True,  True,  True,  True,  True,\n",
              "         True, False,  True,  True, False,  True, False, False, False,  True,\n",
              "        False,  True,  True, False, False, False,  True,  True,  True,  True,\n",
              "         True,  True,  True, False,  True,  True,  True, False,  True,  True,\n",
              "        False, False,  True, False,  True, False, False,  True,  True, False,\n",
              "         True, False, False,  True, False, False,  True,  True, False,  True,\n",
              "        False,  True,  True, False,  True,  True, False, False, False,  True,\n",
              "         True,  True, False, False,  True, False, False,  True,  True,  True,\n",
              "        False,  True, False, False, False, False,  True,  True, False,  True,\n",
              "         True, False, False, False, False, False, False,  True,  True,  True,\n",
              "         True,  True,  True,  True, False, False, False, False,  True,  True,\n",
              "         True,  True, False,  True, False,  True,  True,  True,  True,  True,\n",
              "        False, False, False,  True,  True, False,  True,  True, False, False,\n",
              "        False, False,  True,  True, False, False,  True,  True,  True, False,\n",
              "        False, False,  True,  True, False,  True,  True,  True,  True, False,\n",
              "         True,  True,  True,  True,  True,  True,  True,  True,  True, False,\n",
              "         True,  True,  True,  True,  True,  True, False,  True,  True, False,\n",
              "         True,  True, False, False, False,  True, False, False,  True, False,\n",
              "         True,  True,  True,  True, False,  True])"
            ]
          },
          "metadata": {},
          "execution_count": 66
        }
      ]
    },
    {
      "cell_type": "code",
      "source": [
        "torch.eq(pred_labels, Y_train).sum() / len(pred_labels)"
      ],
      "metadata": {
        "colab": {
          "base_uri": "https://localhost:8080/"
        },
        "id": "quxHFC6cW00l",
        "outputId": "01e00b09-7cd7-477a-ce3b-03d1f98fda0f"
      },
      "execution_count": null,
      "outputs": [
        {
          "output_type": "execute_result",
          "data": {
            "text/plain": [
              "tensor(0.6291)"
            ]
          },
          "metadata": {},
          "execution_count": 69
        }
      ]
    },
    {
      "cell_type": "markdown",
      "metadata": {
        "id": "aMntbtZ5Vtfc"
      },
      "source": [
        "### Cross-Entropy\n",
        "\n",
        "At first try the cross entropy loss\n",
        "\n",
        "$$\\begin{align}\n",
        "l:&\\mathcal{Y}_K\\times[0,1]^K\\to \\mathbb{R}^+ \\\\\n",
        "&(y_1,y_2)\\mapsto -\\sum_{j=1}^K y_{1,j} \\log(y_{2,j}). \\end{align}$$\n",
        "\n",
        "Remark that the outcome is not encoded in one-hot-encoding (as in the formula). This might be helpful to implement the loss concisely. Hint:"
      ]
    },
    {
      "cell_type": "code",
      "execution_count": null,
      "metadata": {
        "id": "sQpQ3eZ1Vtfd",
        "outputId": "93c21942-b98a-4a76-d408-06b8d32881fb",
        "colab": {
          "base_uri": "https://localhost:8080/"
        }
      },
      "outputs": [
        {
          "output_type": "execute_result",
          "data": {
            "text/plain": [
              "tensor([0.3000, 0.5000, 0.3000])"
            ]
          },
          "metadata": {},
          "execution_count": 70
        }
      ],
      "source": [
        "y = torch.tensor([0, 1, 0]) # three samples with corresponding classes 0,1 and 0\n",
        "y_hat = torch.tensor([[0.3, 0.7], [0.5, 0.5],[0.8, 0.2]])# three predictions with corresponding probablities\n",
        "y_hat[[0, 1, 0], y]"
      ]
    },
    {
      "cell_type": "code",
      "source": [
        "def cross_entropy(y_true, y_hat):\n",
        "  return - torch.log(y_hat[range(len(y_hat)), y_true])"
      ],
      "metadata": {
        "id": "_e4mZSnzZsma"
      },
      "execution_count": null,
      "outputs": []
    },
    {
      "cell_type": "code",
      "source": [
        "y_hat"
      ],
      "metadata": {
        "colab": {
          "base_uri": "https://localhost:8080/"
        },
        "id": "6zB0vDChabgT",
        "outputId": "9cd7e693-d2be-4dc4-da06-5bae66d1165c"
      },
      "execution_count": null,
      "outputs": [
        {
          "output_type": "execute_result",
          "data": {
            "text/plain": [
              "tensor([[0.3000, 0.7000],\n",
              "        [0.5000, 0.5000],\n",
              "        [0.8000, 0.2000]])"
            ]
          },
          "metadata": {},
          "execution_count": 74
        }
      ]
    },
    {
      "cell_type": "code",
      "source": [
        "cross_entropy(y_true=y, y_hat=y_hat)"
      ],
      "metadata": {
        "colab": {
          "base_uri": "https://localhost:8080/"
        },
        "id": "iJXZQfi6aVzJ",
        "outputId": "33231418-416f-4739-a75e-9794870a05f7"
      },
      "execution_count": null,
      "outputs": [
        {
          "output_type": "execute_result",
          "data": {
            "text/plain": [
              "tensor([1.2040, 0.6931, 0.2231])"
            ]
          },
          "metadata": {},
          "execution_count": 72
        }
      ]
    },
    {
      "cell_type": "code",
      "source": [
        "cross_entropy(y_true=Y_train, y_hat=output_test.data).mean()"
      ],
      "metadata": {
        "colab": {
          "base_uri": "https://localhost:8080/"
        },
        "id": "X9NvOoLqap4V",
        "outputId": "24395254-b911-48d2-b690-f8f7a8f687aa"
      },
      "execution_count": null,
      "outputs": [
        {
          "output_type": "execute_result",
          "data": {
            "text/plain": [
              "tensor(3.1335)"
            ]
          },
          "metadata": {},
          "execution_count": 76
        }
      ]
    },
    {
      "cell_type": "code",
      "source": [
        "avg_train_loss = cross_entropy(y_true=Y_train, y_hat=model(X_train, weights, bias)).mean()"
      ],
      "metadata": {
        "id": "Dw5CHmYHbDJe"
      },
      "execution_count": null,
      "outputs": []
    },
    {
      "cell_type": "code",
      "source": [
        "avg_train_loss.backward()"
      ],
      "metadata": {
        "id": "KVimWH0Pba3S"
      },
      "execution_count": null,
      "outputs": []
    },
    {
      "cell_type": "code",
      "source": [
        "lr = 0.01\n",
        "with torch.no_grad():\n",
        "  weights -= lr * weights.grad\n",
        "  bias -= lr * bias.grad\n",
        "  weights.grad.zero_()\n",
        "  bias.grad.zero_()"
      ],
      "metadata": {
        "id": "ot6OU0AqbfMv"
      },
      "execution_count": null,
      "outputs": []
    },
    {
      "cell_type": "code",
      "source": [],
      "metadata": {
        "id": "urmOuhDtchr7"
      },
      "execution_count": null,
      "outputs": []
    },
    {
      "cell_type": "code",
      "source": [
        "model(X_train, weights, bias)[:3]"
      ],
      "metadata": {
        "colab": {
          "base_uri": "https://localhost:8080/"
        },
        "id": "DINIa79Ob1BW",
        "outputId": "1ce3ba4a-3015-43fb-bdc8-ec10c1634047"
      },
      "execution_count": null,
      "outputs": [
        {
          "output_type": "execute_result",
          "data": {
            "text/plain": [
              "tensor([[nan, 0.],\n",
              "        [nan, 0.],\n",
              "        [nan, 0.]], grad_fn=<SliceBackward0>)"
            ]
          },
          "metadata": {},
          "execution_count": 81
        }
      ]
    },
    {
      "cell_type": "markdown",
      "source": [
        "It holds:\n",
        "$$\\begin{align}\n",
        "\\text{crossentropy}(\\text{softmax}(x),y)&=\\text{crossentropy}\\left(\\left(\\frac{\\exp(x_1)}{\\sum_\\limits{k=1}^{K}\\exp(x_k)},\\dots,\\frac{\\exp(x_K)}{\\sum_\\limits{k=1}^{K}\\exp(x_k)}\\right)^T,y\\right)\\\\\n",
        "&=-\\log\\left(\\frac{\\exp(x_j)}{\\sum_\\limits{k=1}^{K}\\exp(x_k)}\\right)\\\\\n",
        "&=\\log\\left(\\sum\\limits_{k=1}^{K}\\exp(x_k)\\right)-x_j\\\\\n",
        "&\\approx\\max_k x_k-x_j\n",
        "\\end{align}$$\n",
        "\n",
        "This helps to prevent over- and and underflow. (Overflow since $exp(x)$ might be very large and therefore result in `inf` or underflow since $log(x)$ might result in `-inf`.)"
      ],
      "metadata": {
        "id": "OiECEhoYc4u6"
      }
    },
    {
      "cell_type": "markdown",
      "source": [],
      "metadata": {
        "id": "CejhxWGdc4oK"
      }
    },
    {
      "cell_type": "code",
      "source": [
        "torch.manual_seed(420)\n",
        "weights = torch.normal(0, 0.01, size=(30, 2), requires_grad=True)\n",
        "bias = torch.zeros(2, requires_grad=True)\n",
        "\n",
        "def model_2(X, weights, bias):\n",
        "  return torch.matmul(X, weights) + bias"
      ],
      "metadata": {
        "id": "fKNOf2Egcy-D"
      },
      "execution_count": null,
      "outputs": []
    },
    {
      "cell_type": "code",
      "source": [
        "def loss(y_true, y_hat):\n",
        "  return torch.max(y_hat, dim=1)[0] - y_hat[range(len(y_hat)), y_true]"
      ],
      "metadata": {
        "id": "Hc3Gnn_Tda29"
      },
      "execution_count": null,
      "outputs": []
    },
    {
      "cell_type": "code",
      "source": [
        "predictions_2 = model_2(X_train, weights, bias)"
      ],
      "metadata": {
        "id": "k9wWtIqBeXRC"
      },
      "execution_count": null,
      "outputs": []
    },
    {
      "cell_type": "code",
      "source": [
        "avg_train_loss_2 = loss(y_true=Y_train, y_hat=predictions_2).mean()"
      ],
      "metadata": {
        "id": "aEasr42jeiad"
      },
      "execution_count": null,
      "outputs": []
    },
    {
      "cell_type": "code",
      "source": [
        "avg_train_loss_2.backward()"
      ],
      "metadata": {
        "id": "EC3eiZ5neiYF"
      },
      "execution_count": null,
      "outputs": []
    },
    {
      "cell_type": "code",
      "source": [
        "lr = 0.01\n",
        "with torch.no_grad():\n",
        "  weights -= lr * weights.grad\n",
        "  bias -= lr * bias.grad\n",
        "  weights.grad.zero_()\n",
        "  bias.grad.zero_()"
      ],
      "metadata": {
        "id": "YQpDHWjzeiVj"
      },
      "execution_count": null,
      "outputs": []
    },
    {
      "cell_type": "code",
      "source": [
        "torch.max(model_2(X_train, weights, bias), dim=1).indices"
      ],
      "metadata": {
        "colab": {
          "base_uri": "https://localhost:8080/"
        },
        "id": "kuqqjslDeq7L",
        "outputId": "b2c542fb-9651-42a1-e226-1cb4487612aa"
      },
      "execution_count": null,
      "outputs": [
        {
          "output_type": "execute_result",
          "data": {
            "text/plain": [
              "tensor([0, 0, 0, 0, 0, 0, 0, 0, 0, 0, 0, 0, 0, 0, 0, 0, 0, 0, 0, 0, 0, 0, 0, 0,\n",
              "        0, 0, 0, 0, 0, 0, 0, 0, 0, 0, 0, 0, 0, 0, 0, 0, 0, 0, 0, 0, 0, 0, 0, 0,\n",
              "        0, 0, 0, 0, 0, 0, 0, 0, 0, 0, 0, 0, 0, 0, 0, 0, 0, 0, 0, 0, 0, 0, 0, 0,\n",
              "        0, 0, 0, 0, 0, 0, 0, 0, 0, 0, 0, 0, 0, 0, 0, 0, 0, 0, 0, 0, 0, 0, 0, 0,\n",
              "        0, 0, 0, 0, 0, 0, 0, 0, 0, 0, 0, 0, 0, 0, 0, 0, 0, 0, 0, 0, 0, 0, 0, 0,\n",
              "        0, 0, 0, 0, 0, 0, 0, 0, 0, 0, 0, 0, 0, 0, 0, 0, 0, 0, 0, 0, 0, 0, 0, 0,\n",
              "        0, 0, 0, 0, 0, 0, 0, 0, 0, 0, 0, 0, 0, 0, 0, 0, 0, 0, 0, 0, 0, 0, 0, 0,\n",
              "        0, 0, 0, 0, 0, 0, 0, 0, 0, 0, 0, 0, 0, 0, 0, 0, 0, 0, 0, 0, 0, 0, 0, 0,\n",
              "        0, 0, 0, 0, 0, 0, 0, 0, 0, 0, 0, 0, 0, 0, 0, 0, 0, 0, 0, 0, 0, 0, 0, 0,\n",
              "        0, 0, 0, 0, 0, 0, 0, 0, 0, 0, 0, 0, 0, 0, 0, 0, 0, 0, 0, 0, 0, 0, 0, 0,\n",
              "        0, 0, 0, 0, 0, 0, 0, 0, 0, 0, 0, 0, 0, 0, 0, 0, 0, 0, 0, 0, 0, 0, 0, 0,\n",
              "        0, 0, 0, 0, 0, 0, 0, 0, 0, 0, 0, 0, 0, 0, 0, 0, 0, 0, 0, 0, 0, 0, 0, 0,\n",
              "        0, 0, 0, 0, 0, 0, 0, 0, 0, 0, 0, 0, 0, 0, 0, 0, 0, 0, 0, 0, 0, 0, 0, 0,\n",
              "        0, 0, 0, 0, 0, 0, 0, 0, 0, 0, 0, 0, 0, 0, 0, 0, 0, 0, 0, 0, 0, 0, 0, 0,\n",
              "        0, 0, 0, 0, 0, 0, 0, 0, 0, 0, 0, 0, 0, 0, 0, 0, 0, 0, 0, 0, 0, 0, 0, 0,\n",
              "        0, 0, 0, 0, 0, 0, 0, 0, 0, 0, 0, 0, 0, 0, 0, 0, 0, 0, 0, 0, 0, 0, 0, 0,\n",
              "        0, 0, 0, 0, 0, 0, 0, 0, 0, 0, 0, 0, 0, 0, 0, 0, 0, 0, 0, 0, 0, 0, 0, 0,\n",
              "        0, 0, 0, 0, 0, 0, 0, 0, 0, 0, 0, 0, 0, 0, 0, 0, 0, 0])"
            ]
          },
          "metadata": {},
          "execution_count": 94
        }
      ]
    },
    {
      "cell_type": "code",
      "source": [],
      "metadata": {
        "id": "47f0w53deq4r"
      },
      "execution_count": null,
      "outputs": []
    },
    {
      "cell_type": "code",
      "source": [],
      "metadata": {
        "id": "AW0oYgU5eq2D"
      },
      "execution_count": null,
      "outputs": []
    },
    {
      "cell_type": "markdown",
      "metadata": {
        "id": "fjUp3VgoVtfk"
      },
      "source": [
        "* Next, try to calculate the average loss on the training sample.\n",
        "* Calculate the gradient to obtain the gradient of the weights and update the weights with learning rate $0.01$. Here we dont need to use stochastic gradient descent, since the sample is quite small.\n",
        "* Try to predict new probabilities $\\hat{y}$ for the training observations. What does go wrong? (depends on the initialization).\n",
        "* What happens if you combine the softmax function and the cross entropy function (try to calculate the solution analytically, assuming that the true outcome is the $j$-th class)?<br> Use the the [\"LogSumExp trick\"](https://en.wikipedia.org/wiki/LogSumExp): $\\log\\left(\\sum_j \\exp(x_j)\\right)\\approx\\max_j x_j$.\n",
        "* Now try to reinitialize the weights and use the results from the previous exercise to train your regression model. (Define a function which specifies $loss(x,y)= \\max_k x_k-x_j$).\n",
        "* Next, evaluate the accuracy on your trained model. Do you really need to apply the `softmax` function to determine which is the most probable class?\n",
        "* Is it always a good idea to return the most likely label? Especially in this example?"
      ]
    },
    {
      "cell_type": "markdown",
      "metadata": {
        "id": "qDstLZ4rVtfl"
      },
      "source": [
        "### Concise Implementation of Softmax Regression\n",
        "\n",
        "In this exercise, we will implement the training using SGD."
      ]
    },
    {
      "cell_type": "markdown",
      "metadata": {
        "id": "vyM77a7wVtfm"
      },
      "source": [
        "\\* Next, construct a `DataLoader` (to apply SGD) for the training set by using `torch.utils.data.DataLoader` and set a seed for the random number generator. Additionally, create an `DataLoader` for the test set.\n",
        "* Read through the [documentation](https://pytorch.org/docs/stable/generated/torch.nn.CrossEntropyLoss.html) of `nn.CrossEntropyLoss` to create the loss. Furhter use `nn.Sequential` and `nn.Linear` to create the model.\n",
        "* Initialize the weights of your model and try to evaluate the accuracy using the `DataLoader`.\n",
        "* Now train your model and save the loss and accuracy in each epoch (on the training and on the test set). Here, `reduction = 'sum' ` might be helpful for the loss.\n",
        "* Try to create two plots displaying the accuracy and the losses."
      ]
    },
    {
      "cell_type": "code",
      "source": [
        "from torch.utils import data\n",
        "\n",
        "def construct_dataloader(dataset, batch_size, shuffle):\n",
        "  torch_dataset = data.TensorDataset(*dataset)\n",
        "  return data.DataLoader(torch_dataset, batch_size, shuffle)"
      ],
      "metadata": {
        "id": "WW3miJTVfqVy"
      },
      "execution_count": null,
      "outputs": []
    },
    {
      "cell_type": "code",
      "source": [
        "batch_size = 4\n",
        "\n",
        "train_loader = construct_dataloader((X_train, Y_train), batch_size, shuffle=True)\n",
        "test_loader = construct_dataloader((X_test, Y_test), batch_size, shuffle=False)"
      ],
      "metadata": {
        "id": "SbOIYHZMgh_L"
      },
      "execution_count": null,
      "outputs": []
    },
    {
      "cell_type": "code",
      "source": [
        "from torch import nn\n",
        "\n",
        "reg = nn.Sequential(nn.Linear(30, 2))\n",
        "loss = nn.CrossEntropyLoss(reduction=\"sum\")"
      ],
      "metadata": {
        "id": "tDdrD6Hpg1EH"
      },
      "execution_count": null,
      "outputs": []
    },
    {
      "cell_type": "code",
      "source": [
        "def init_weights(m):\n",
        "  if type(m) == nn.Linear:\n",
        "    torch.nn.init.normal_(m.weight, std=0.01)"
      ],
      "metadata": {
        "id": "cIaCiyJahJVf"
      },
      "execution_count": null,
      "outputs": []
    },
    {
      "cell_type": "code",
      "source": [
        "reg.apply(init_weights)"
      ],
      "metadata": {
        "colab": {
          "base_uri": "https://localhost:8080/"
        },
        "id": "ERUzZxSXhkvk",
        "outputId": "405fafd0-99e9-4095-8264-6a1c914c872c"
      },
      "execution_count": null,
      "outputs": [
        {
          "output_type": "execute_result",
          "data": {
            "text/plain": [
              "Sequential(\n",
              "  (0): Linear(in_features=30, out_features=2, bias=True)\n",
              ")"
            ]
          },
          "metadata": {},
          "execution_count": 108
        }
      ]
    },
    {
      "cell_type": "code",
      "source": [
        "reg[0].weight"
      ],
      "metadata": {
        "colab": {
          "base_uri": "https://localhost:8080/"
        },
        "id": "K5uSI5aIhvjw",
        "outputId": "b5211f16-f15f-4eea-8c5e-751b88f7c239"
      },
      "execution_count": null,
      "outputs": [
        {
          "output_type": "execute_result",
          "data": {
            "text/plain": [
              "Parameter containing:\n",
              "tensor([[-0.0080, -0.0147,  0.0272,  0.0019,  0.0113,  0.0030, -0.0003, -0.0071,\n",
              "         -0.0040,  0.0139,  0.0033, -0.0043,  0.0004, -0.0114,  0.0014, -0.0043,\n",
              "          0.0115,  0.0157, -0.0063, -0.0067, -0.0153, -0.0042,  0.0071,  0.0117,\n",
              "          0.0028,  0.0143,  0.0061, -0.0222, -0.0006, -0.0087],\n",
              "        [-0.0023, -0.0183,  0.0099,  0.0124,  0.0092, -0.0141,  0.0049, -0.0016,\n",
              "         -0.0074, -0.0029,  0.0034, -0.0124, -0.0080, -0.0162,  0.0107,  0.0155,\n",
              "         -0.0219,  0.0096, -0.0024,  0.0109,  0.0076,  0.0072,  0.0005, -0.0134,\n",
              "         -0.0052,  0.0060, -0.0026,  0.0063,  0.0171,  0.0239]],\n",
              "       requires_grad=True)"
            ]
          },
          "metadata": {},
          "execution_count": 110
        }
      ]
    },
    {
      "cell_type": "code",
      "source": [
        "correct_train = 0\n",
        "correct_test = 0\n",
        "\n",
        "with torch.no_grad():\n",
        "  for X, Y in train_loader:\n",
        "    predictions = reg(X).data.max(1)[1]\n",
        "    correct_train += predictions.eq(Y).sum()\n",
        "  for X, Y in test_loader:\n",
        "    predictions = reg(X).data.max(1)[1]\n",
        "    correct_test += predictions.eq(Y).sum()\n",
        "\n",
        "print(\"Accuracy for train set: \", correct_train / len(Y_train))\n",
        "print(\"Accuracy for test set: \", correct_test / len(Y_test))"
      ],
      "metadata": {
        "colab": {
          "base_uri": "https://localhost:8080/"
        },
        "id": "DyLzeOwTiARR",
        "outputId": "5f63cf0c-95a5-4376-cc1c-610a729c9592"
      },
      "execution_count": null,
      "outputs": [
        {
          "output_type": "stream",
          "name": "stdout",
          "text": [
            "Accuracy for train set:  tensor(0.3709)\n",
            "Accuracy for test set:  tensor(0.3776)\n"
          ]
        }
      ]
    },
    {
      "cell_type": "code",
      "source": [
        "trainer = torch.optim.SGD(reg.parameters(), lr=0.00001)"
      ],
      "metadata": {
        "id": "wgADHd5QiyoI"
      },
      "execution_count": null,
      "outputs": []
    },
    {
      "cell_type": "code",
      "source": [
        "train_acc = []\n",
        "test_acc = []\n",
        "train_loss = []\n",
        "test_loss = []\n",
        "\n",
        "correct_train = 0\n",
        "loss_train = 0\n",
        "correct_test = 0\n",
        "loss_test = 0\n",
        "\n",
        "num_epoch = 50\n",
        "\n",
        "for epoch in range(num_epoch):\n",
        "  correct_train = 0\n",
        "  loss_train = 0\n",
        "  for X, Y in train_loader:\n",
        "    predictions = reg(X).data.max(1)[1]\n",
        "    correct_train += predictions.eq(Y).sum()\n"
      ],
      "metadata": {
        "id": "BImkuZrbi8q5"
      },
      "execution_count": null,
      "outputs": []
    },
    {
      "cell_type": "code",
      "source": [],
      "metadata": {
        "id": "NqAjBS8Ti8of"
      },
      "execution_count": null,
      "outputs": []
    },
    {
      "cell_type": "code",
      "source": [],
      "metadata": {
        "id": "Spb3hyMDi8ja"
      },
      "execution_count": null,
      "outputs": []
    },
    {
      "cell_type": "code",
      "source": [],
      "metadata": {
        "id": "h7ipGI1Ri8gy"
      },
      "execution_count": null,
      "outputs": []
    },
    {
      "cell_type": "markdown",
      "source": [],
      "metadata": {
        "id": "LQrcvYMhgfPL"
      }
    }
  ],
  "metadata": {
    "colab": {
      "provenance": []
    },
    "kernelspec": {
      "display_name": "Python 3",
      "language": "python",
      "name": "python3"
    },
    "language_info": {
      "codemirror_mode": {
        "name": "ipython",
        "version": 3
      },
      "file_extension": ".py",
      "mimetype": "text/x-python",
      "name": "python",
      "nbconvert_exporter": "python",
      "pygments_lexer": "ipython3",
      "version": "3.6.12"
    }
  },
  "nbformat": 4,
  "nbformat_minor": 0
}