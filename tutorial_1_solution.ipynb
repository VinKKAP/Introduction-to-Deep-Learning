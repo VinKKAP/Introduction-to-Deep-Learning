{
  "cells": [
    {
      "cell_type": "markdown",
      "metadata": {
        "id": "iaeEBXrzjgQG"
      },
      "source": [
        "# Tutorial 1\n",
        "\n",
        "We start by taking a look at Colab. Take a look at the introduction to [Colab](https://colab.research.google.com/github/tensorflow/examples/blob/master/courses/udacity_intro_to_tensorflow_for_deep_learning/l01c01_introduction_to_colab_and_python.ipynb#scrollTo=Eq10uEbw0E4l).(We will go through the most basic features of the notebooks in the tutorial)."
      ]
    },
    {
      "cell_type": "markdown",
      "metadata": {
        "id": "w7Uevf4VjgQQ"
      },
      "source": [
        "## 1. Basic Introduction to Python\n",
        "\n",
        "Traditionally, the first programm you write in a new language is called 'Hello World!'. Use the *print* statement to display Hello World! on the screen.\n",
        "\n",
        "Hint: help(print)"
      ]
    },
    {
      "cell_type": "code",
      "execution_count": null,
      "metadata": {
        "colab": {
          "base_uri": "https://localhost:8080/"
        },
        "id": "u966Q88vjgQT",
        "outputId": "67c157e8-f8af-4c2a-8fba-3688e594ca51",
        "scrolled": true
      },
      "outputs": [
        {
          "output_type": "stream",
          "name": "stdout",
          "text": [
            "hello world\n"
          ]
        }
      ],
      "source": [
        "print(\"hello world\")"
      ]
    },
    {
      "cell_type": "markdown",
      "metadata": {
        "id": "9I9YI_MOjgQX"
      },
      "source": [
        "* Of what type are the following variables?"
      ]
    },
    {
      "cell_type": "code",
      "execution_count": null,
      "metadata": {
        "id": "gLcC0PfGjgQY"
      },
      "outputs": [],
      "source": [
        "a='Hello World'\n",
        "b= 2\n",
        "c= 2."
      ]
    },
    {
      "cell_type": "code",
      "execution_count": null,
      "metadata": {
        "colab": {
          "base_uri": "https://localhost:8080/"
        },
        "id": "CokZXkjBjgQa",
        "outputId": "f2d6f0d1-a532-403e-b5e9-d192097e0c77",
        "scrolled": false
      },
      "outputs": [
        {
          "output_type": "execute_result",
          "data": {
            "text/plain": [
              "(str, int, float)"
            ]
          },
          "metadata": {},
          "execution_count": 3
        }
      ],
      "source": [
        "type(a),type(b),type(c)"
      ]
    },
    {
      "cell_type": "markdown",
      "metadata": {
        "id": "UWX4kqyojgQc"
      },
      "source": [
        "* Try to figure out the functions of `\\n`, `\\t` inside of print:"
      ]
    },
    {
      "cell_type": "code",
      "execution_count": null,
      "metadata": {
        "colab": {
          "base_uri": "https://localhost:8080/"
        },
        "id": "g0a3sGVmjgQd",
        "outputId": "4ab0557e-19a2-4a3d-eb62-e61c65529928"
      },
      "outputs": [
        {
          "output_type": "stream",
          "name": "stdout",
          "text": [
            " hello\n",
            " world\n"
          ]
        }
      ],
      "source": [
        "print(\" hello\\n world\")"
      ]
    },
    {
      "cell_type": "code",
      "execution_count": null,
      "metadata": {
        "colab": {
          "base_uri": "https://localhost:8080/"
        },
        "id": "i7jurLprjgQg",
        "outputId": "af2641ae-a8d3-4e85-df11-2f4224dad80e"
      },
      "outputs": [
        {
          "output_type": "stream",
          "name": "stdout",
          "text": [
            " hello\t world\n"
          ]
        }
      ],
      "source": [
        "print(\" hello\\t world\")"
      ]
    },
    {
      "cell_type": "markdown",
      "metadata": {
        "id": "88Dz7EKwjgQi"
      },
      "source": [
        "* Try to figure out the positional formating and simple conversions."
      ]
    },
    {
      "cell_type": "code",
      "execution_count": null,
      "metadata": {
        "colab": {
          "base_uri": "https://localhost:8080/"
        },
        "id": "U1b-hiM1jgQk",
        "outputId": "1bfeb63d-815f-4e49-b9ce-b13f9067a6da"
      },
      "outputs": [
        {
          "output_type": "stream",
          "name": "stdout",
          "text": [
            "Hello, Hello World\n"
          ]
        }
      ],
      "source": [
        "print('Hello, {}'.format(a))"
      ]
    },
    {
      "cell_type": "code",
      "execution_count": null,
      "metadata": {
        "colab": {
          "base_uri": "https://localhost:8080/"
        },
        "id": "f3Y8lW4CjgQl",
        "outputId": "a9b96d2d-9ed3-4cbd-c237-8a962ed3d5b9"
      },
      "outputs": [
        {
          "output_type": "stream",
          "name": "stdout",
          "text": [
            "Hello, 2\n"
          ]
        }
      ],
      "source": [
        "print('Hello, {}'.format(b))"
      ]
    },
    {
      "cell_type": "code",
      "execution_count": null,
      "metadata": {
        "colab": {
          "base_uri": "https://localhost:8080/"
        },
        "id": "yFgiJ19UjgQm",
        "outputId": "f8121d28-12f5-496e-a863-7e0f4dd79140"
      },
      "outputs": [
        {
          "output_type": "stream",
          "name": "stdout",
          "text": [
            "Hello, 2.0000\n"
          ]
        }
      ],
      "source": [
        "print('Hello, {:.4f}'.format(c))"
      ]
    },
    {
      "cell_type": "code",
      "execution_count": null,
      "metadata": {
        "colab": {
          "base_uri": "https://localhost:8080/"
        },
        "id": "DhULAyY7jgQn",
        "outputId": "f5fc86b9-02af-4b2d-c4a3-67e63d5eb56d"
      },
      "outputs": [
        {
          "output_type": "stream",
          "name": "stdout",
          "text": [
            "Hello, 2.0000\n"
          ]
        }
      ],
      "source": [
        "print('Hello, {:.4f}'.format(b))"
      ]
    },
    {
      "cell_type": "code",
      "execution_count": null,
      "metadata": {
        "colab": {
          "base_uri": "https://localhost:8080/"
        },
        "id": "vK4uc6i3jgQo",
        "outputId": "2d4083cf-7fcb-47ad-f327-1a8ce9e852c5"
      },
      "outputs": [
        {
          "output_type": "stream",
          "name": "stdout",
          "text": [
            "Hello, 2.0000\n"
          ]
        }
      ],
      "source": [
        "print(f'Hello, {b:.4f}')"
      ]
    },
    {
      "cell_type": "markdown",
      "metadata": {
        "id": "PlnSnNt3jgQp"
      },
      "source": [
        "### Math\n",
        "\n",
        "Import the `math` module by"
      ]
    },
    {
      "cell_type": "code",
      "execution_count": null,
      "metadata": {
        "id": "RwvySZXnjgQq"
      },
      "outputs": [],
      "source": [
        "import math"
      ]
    },
    {
      "cell_type": "markdown",
      "metadata": {
        "id": "3GV-mjHfjgQr"
      },
      "source": [
        "Use Python as you would a calculator to find the numeric answers and the corresponding type\n",
        "\n",
        "1. $1+2(3+4)$\n",
        "2. $4^3+3^{2+1}$\n",
        "3. $\\frac{1+2}{3+4}$\n",
        "4. $\\sqrt{(4+3)(2+1)}$\n",
        "5. $\\sin(\\pi)+\\cos(\\pi)$\n",
        "6. $\\exp(0) \\log(2)$\n",
        "7. If you run a 10 kilometer race in 43 minutes 30 seconds, what is your average time per mile? What is your average speed in miles per hour?\n",
        "\n",
        "Hint: There are 1.61 kilometers in a mile."
      ]
    },
    {
      "cell_type": "code",
      "execution_count": null,
      "metadata": {
        "colab": {
          "base_uri": "https://localhost:8080/"
        },
        "id": "lK0QBJKRjgQr",
        "outputId": "3341a64f-08f8-4c8b-c29c-43fec820e378"
      },
      "outputs": [
        {
          "output_type": "execute_result",
          "data": {
            "text/plain": [
              "(15, int)"
            ]
          },
          "metadata": {},
          "execution_count": 12
        }
      ],
      "source": [
        "result = 1+2*(3+4)\n",
        "result, type(result)"
      ]
    },
    {
      "cell_type": "code",
      "execution_count": null,
      "metadata": {
        "colab": {
          "base_uri": "https://localhost:8080/"
        },
        "id": "XvDE5ohnjgQt",
        "outputId": "33528aad-a338-4dde-ff13-32dd981b4161"
      },
      "outputs": [
        {
          "output_type": "execute_result",
          "data": {
            "text/plain": [
              "(91, int)"
            ]
          },
          "metadata": {},
          "execution_count": 13
        }
      ],
      "source": [
        "result = 4**3+3**(2+1)\n",
        "result, type(result)"
      ]
    },
    {
      "cell_type": "code",
      "execution_count": null,
      "metadata": {
        "colab": {
          "base_uri": "https://localhost:8080/"
        },
        "id": "tr_Iz6kujgQt",
        "outputId": "257f29af-ef9f-4bbd-f98e-3c43b1f2b105"
      },
      "outputs": [
        {
          "output_type": "execute_result",
          "data": {
            "text/plain": [
              "(0.42857142857142855, float)"
            ]
          },
          "metadata": {},
          "execution_count": 14
        }
      ],
      "source": [
        "result = (1+2)/(3+4)\n",
        "result, type(result)"
      ]
    },
    {
      "cell_type": "code",
      "execution_count": null,
      "metadata": {
        "colab": {
          "base_uri": "https://localhost:8080/"
        },
        "id": "egwIcWT2jgQu",
        "outputId": "2baccdc7-ea4f-487d-f02e-44bd6d596caf"
      },
      "outputs": [
        {
          "output_type": "execute_result",
          "data": {
            "text/plain": [
              "(4.58257569495584, float)"
            ]
          },
          "metadata": {},
          "execution_count": 15
        }
      ],
      "source": [
        "result = math.sqrt((4+3)*(2+1))\n",
        "result, type(result)"
      ]
    },
    {
      "cell_type": "code",
      "execution_count": null,
      "metadata": {
        "colab": {
          "base_uri": "https://localhost:8080/"
        },
        "id": "g-puRR4gjgQv",
        "outputId": "da8b3298-472e-44dd-ef20-4ae300246ebf"
      },
      "outputs": [
        {
          "output_type": "execute_result",
          "data": {
            "text/plain": [
              "(-0.9999999999999999, float)"
            ]
          },
          "metadata": {},
          "execution_count": 16
        }
      ],
      "source": [
        "result = math.sin(math.pi)+math.cos(math.pi)\n",
        "result, type(result)"
      ]
    },
    {
      "cell_type": "code",
      "execution_count": null,
      "metadata": {
        "colab": {
          "base_uri": "https://localhost:8080/"
        },
        "id": "6eNlez6YjgQw",
        "outputId": "84fcf64a-5cd9-4b73-91e6-3feffc8d678d"
      },
      "outputs": [
        {
          "output_type": "execute_result",
          "data": {
            "text/plain": [
              "(0.6931471805599453, float)"
            ]
          },
          "metadata": {},
          "execution_count": 17
        }
      ],
      "source": [
        "result = math.exp(0)*math.log(2)\n",
        "result, type(result)"
      ]
    },
    {
      "cell_type": "code",
      "execution_count": null,
      "metadata": {
        "colab": {
          "base_uri": "https://localhost:8080/"
        },
        "id": "4QZlupiZjgQx",
        "outputId": "9199161e-6cec-4a83-d5a1-53c5ca4e0f41"
      },
      "outputs": [
        {
          "output_type": "execute_result",
          "data": {
            "text/plain": [
              "(7.0035, float)"
            ]
          },
          "metadata": {},
          "execution_count": 18
        }
      ],
      "source": [
        "result = (43.5/10)*1.61\n",
        "result, type(result)"
      ]
    },
    {
      "cell_type": "code",
      "execution_count": null,
      "metadata": {
        "colab": {
          "base_uri": "https://localhost:8080/"
        },
        "id": "_gge3-oIjgQx",
        "outputId": "59871294-46b2-4b05-fcc1-a3a68a2aa8f6"
      },
      "outputs": [
        {
          "output_type": "execute_result",
          "data": {
            "text/plain": [
              "(8.567144998929106, float)"
            ]
          },
          "metadata": {},
          "execution_count": 19
        }
      ],
      "source": [
        "result = (10/1.61)/(43.5/60)\n",
        "result, type(result)"
      ]
    },
    {
      "cell_type": "markdown",
      "metadata": {
        "id": "p9GbhFiXjgQy"
      },
      "source": [
        "### Lists\n",
        "\n",
        "A list is a sequence of values.The values in a list are called elements or items.<br>\n",
        "In Python list are easily created by enclosing the items is brackets: $[item_1,\\dots,item_n]$."
      ]
    },
    {
      "cell_type": "code",
      "execution_count": null,
      "metadata": {
        "colab": {
          "base_uri": "https://localhost:8080/"
        },
        "id": "RPYOmh53jgQz",
        "outputId": "7bbf6d2d-7a77-43b1-b3d2-bef6ac72fd2b"
      },
      "outputs": [
        {
          "output_type": "execute_result",
          "data": {
            "text/plain": [
              "list"
            ]
          },
          "metadata": {},
          "execution_count": 20
        }
      ],
      "source": [
        "example_list = ['a', b, c, 5.2]\n",
        "type(example_list)"
      ]
    },
    {
      "cell_type": "markdown",
      "metadata": {
        "id": "6vYpBLL1jgQz"
      },
      "source": [
        "Specific items of a list can be accessed in the following way."
      ]
    },
    {
      "cell_type": "code",
      "execution_count": null,
      "metadata": {
        "colab": {
          "base_uri": "https://localhost:8080/",
          "height": 36
        },
        "id": "vMNhZRqfjgQ0",
        "outputId": "16014028-8e0f-49eb-a76b-1daf3e314d1a",
        "scrolled": true
      },
      "outputs": [
        {
          "output_type": "execute_result",
          "data": {
            "text/plain": [
              "'a'"
            ],
            "application/vnd.google.colaboratory.intrinsic+json": {
              "type": "string"
            }
          },
          "metadata": {},
          "execution_count": 21
        }
      ],
      "source": [
        "example_list[0]"
      ]
    },
    {
      "cell_type": "markdown",
      "metadata": {
        "id": "LJkKbYyxjgQ0"
      },
      "source": [
        "* Create a list of two items, with each item beeing the `example_list` from above. How can you access the item $5.2$ of the first list?"
      ]
    },
    {
      "cell_type": "code",
      "execution_count": null,
      "metadata": {
        "id": "b96HvVDOjgQ1"
      },
      "outputs": [],
      "source": [
        "nested_list = [example_list,example_list]"
      ]
    },
    {
      "cell_type": "code",
      "execution_count": null,
      "metadata": {
        "colab": {
          "base_uri": "https://localhost:8080/"
        },
        "id": "Ruq7w8D7jgQ2",
        "outputId": "8790836c-fbfa-46d1-f163-1b10304436eb"
      },
      "outputs": [
        {
          "output_type": "execute_result",
          "data": {
            "text/plain": [
              "5.2"
            ]
          },
          "metadata": {},
          "execution_count": 23
        }
      ],
      "source": [
        "nested_list[0][3]"
      ]
    },
    {
      "cell_type": "markdown",
      "metadata": {
        "id": "qU8950LJjgQ2"
      },
      "source": [
        "###  Functions and Loops\n",
        "\n",
        "* Write a function `module` that display if an integer is even or odd.\n",
        "\n",
        "Hint: The % (modulo) operator yields the remainder from the division of the first argument by the second.\n",
        "Example:"
      ]
    },
    {
      "cell_type": "code",
      "execution_count": null,
      "metadata": {
        "colab": {
          "base_uri": "https://localhost:8080/"
        },
        "id": "W7m4osL3jgQ3",
        "outputId": "2eca80c9-4e9e-425c-ddc4-9460be7e7fe9"
      },
      "outputs": [
        {
          "output_type": "execute_result",
          "data": {
            "text/plain": [
              "2"
            ]
          },
          "metadata": {},
          "execution_count": 24
        }
      ],
      "source": [
        "8%3"
      ]
    },
    {
      "cell_type": "code",
      "execution_count": null,
      "metadata": {
        "colab": {
          "base_uri": "https://localhost:8080/"
        },
        "id": "w7b5bChvjgQ3",
        "outputId": "17cb3c68-d827-4e00-8ebd-f9c8df75d872"
      },
      "outputs": [
        {
          "output_type": "stream",
          "name": "stdout",
          "text": [
            "3 is odd\n"
          ]
        }
      ],
      "source": [
        "def module(x):\n",
        "    if x%2== 0:\n",
        "        print(\"{} is even\".format(x))\n",
        "    else:\n",
        "        print(\"{} is odd\".format(x))\n",
        "module(3)"
      ]
    },
    {
      "cell_type": "markdown",
      "metadata": {
        "id": "VTsllTy-jgQ4"
      },
      "source": [
        "* Write a function `compare` that returns $1$ if $x>y$, $0$ if $x=y$ and $-1$ if $x<y$.\n",
        "\n",
        "* Write a function `is_between` that returns `True` if $x\\le y\\le z$ or `False` otherwise."
      ]
    },
    {
      "cell_type": "code",
      "execution_count": null,
      "metadata": {
        "id": "xB-HwvvwjgQ5"
      },
      "outputs": [],
      "source": [
        "def compare(x,y):\n",
        "    if x>y:\n",
        "        return 1\n",
        "    elif x==y:\n",
        "        return 0\n",
        "    else:\n",
        "        return -1"
      ]
    },
    {
      "cell_type": "code",
      "execution_count": null,
      "metadata": {
        "id": "Tbg69rAIjgQ5"
      },
      "outputs": [],
      "source": [
        "def is_between(x,y,z):\n",
        "    if x<=y and z>=y:\n",
        "        return True\n",
        "    else:\n",
        "        return False"
      ]
    },
    {
      "cell_type": "markdown",
      "metadata": {
        "id": "7hQJF5WMjgQ6"
      },
      "source": [
        "The following program counts the number of times the letter $a$ appears in a string:"
      ]
    },
    {
      "cell_type": "code",
      "execution_count": null,
      "metadata": {
        "colab": {
          "base_uri": "https://localhost:8080/"
        },
        "id": "vVVnBDAPjgQ6",
        "outputId": "e93a5cca-4ad2-4b65-d353-7eb1bd3df417"
      },
      "outputs": [
        {
          "output_type": "stream",
          "name": "stdout",
          "text": [
            "3\n"
          ]
        }
      ],
      "source": [
        "word=\"banana\"\n",
        "count=0\n",
        "for letter in word:\n",
        "    if letter == \"a\":\n",
        "        count += 1\n",
        "print(count)"
      ]
    },
    {
      "cell_type": "markdown",
      "metadata": {
        "id": "R6J9_vZCjgQ6"
      },
      "source": [
        "* Encapsulate this code in a function named `count(w,l,s)` that counts the number of times a letter $l$ appears in a word $w$. Additionally, $s$ gives the index in $w$ where it should start looking.\n"
      ]
    },
    {
      "cell_type": "code",
      "execution_count": null,
      "metadata": {
        "colab": {
          "base_uri": "https://localhost:8080/"
        },
        "id": "PY0xsIEejgQ7",
        "outputId": "c91f6e75-ad8d-480d-970e-cfbbafae88c7"
      },
      "outputs": [
        {
          "output_type": "execute_result",
          "data": {
            "text/plain": [
              "2"
            ]
          },
          "metadata": {},
          "execution_count": 29
        }
      ],
      "source": [
        "def count(w,l,s):\n",
        "    count=0\n",
        "    for letter in w[(s):len(w)]:\n",
        "        if letter == l:\n",
        "            count+=1\n",
        "    return(count)\n",
        "\n",
        "\n",
        " # Example\n",
        "count('pythonprogramming', 'p', 0)"
      ]
    },
    {
      "cell_type": "markdown",
      "metadata": {
        "id": "CwJVHLAgjgQ8"
      },
      "source": [
        "## 2. Tensors\n",
        "\n",
        "Make sure you have imported `torch`. As mentioned in the lecture tensors are similar to `ndarray` from NumPy (the most widely-used scientific computing package in Python). [Here](https://numpy.org/doc/stable/user/quickstart.html) you can find a documentation on NumPy."
      ]
    },
    {
      "cell_type": "code",
      "execution_count": null,
      "metadata": {
        "id": "OyGWYuBojgQ8"
      },
      "outputs": [],
      "source": [
        "import torch"
      ]
    },
    {
      "cell_type": "markdown",
      "metadata": {
        "id": "WgyaS6X7jgQ9"
      },
      "source": [
        "* Create the following tensor\n",
        "\n",
        "$$X=\\begin{bmatrix}2&3&4\\\\9&33&5\\\\3&12&35\\\\23&16&2\\end{bmatrix}.$$\n",
        "* What is the shape of your tensor?"
      ]
    },
    {
      "cell_type": "code",
      "execution_count": null,
      "metadata": {
        "colab": {
          "base_uri": "https://localhost:8080/"
        },
        "id": "MgikrJN7jgQ9",
        "outputId": "6e39a2be-a3ee-4565-b6a3-4e47bda6d75c",
        "scrolled": true
      },
      "outputs": [
        {
          "output_type": "execute_result",
          "data": {
            "text/plain": [
              "(tensor([[ 2,  3,  4],\n",
              "         [ 9, 33,  5],\n",
              "         [ 3, 12, 35],\n",
              "         [23, 16,  2]]),\n",
              " torch.Size([4, 3]))"
            ]
          },
          "metadata": {},
          "execution_count": 31
        }
      ],
      "source": [
        "X = torch.tensor([[2,3,4],[9,33,5],[3,12,35],[23,16,2]])\n",
        "X,X.shape"
      ]
    },
    {
      "cell_type": "markdown",
      "metadata": {
        "id": "BUv4t669jgQ9"
      },
      "source": [
        "See [here](https://pytorch.org/docs/stable/tensors.html) to check out what data types of tensors exist. What data type is $X$ (use `torch.dtype`)? Create change the data type to float (`torch.float()`)."
      ]
    },
    {
      "cell_type": "code",
      "execution_count": null,
      "metadata": {
        "colab": {
          "base_uri": "https://localhost:8080/"
        },
        "id": "0ikYxalJjgQ-",
        "outputId": "d6748336-1b83-4277-af34-2ea5bd8b0131",
        "scrolled": true
      },
      "outputs": [
        {
          "output_type": "execute_result",
          "data": {
            "text/plain": [
              "torch.int64"
            ]
          },
          "metadata": {},
          "execution_count": 32
        }
      ],
      "source": [
        "X.dtype"
      ]
    },
    {
      "cell_type": "code",
      "execution_count": null,
      "metadata": {
        "id": "1kneUi8TjgQ_"
      },
      "outputs": [],
      "source": [
        "X=X.float()"
      ]
    },
    {
      "cell_type": "code",
      "execution_count": null,
      "metadata": {
        "colab": {
          "base_uri": "https://localhost:8080/"
        },
        "id": "bD-4GeKFjgQ_",
        "outputId": "5e92450a-fe35-4940-88a0-b893798c5630"
      },
      "outputs": [
        {
          "output_type": "execute_result",
          "data": {
            "text/plain": [
              "torch.float32"
            ]
          },
          "metadata": {},
          "execution_count": 34
        }
      ],
      "source": [
        "X.dtype"
      ]
    },
    {
      "cell_type": "code",
      "execution_count": null,
      "metadata": {
        "colab": {
          "base_uri": "https://localhost:8080/"
        },
        "id": "HtS-_O0kjgRA",
        "outputId": "d8815c53-776e-4df8-9c20-66ba6d10b953"
      },
      "outputs": [
        {
          "output_type": "execute_result",
          "data": {
            "text/plain": [
              "tensor([[1., 1., 1., 1.],\n",
              "        [1., 1., 1., 1.]])"
            ]
          },
          "metadata": {},
          "execution_count": 35
        }
      ],
      "source": [
        "torch.ones([2,4], dtype=torch.float32) #specifying the data type"
      ]
    },
    {
      "cell_type": "markdown",
      "metadata": {
        "id": "vNW5x_kCjgRA"
      },
      "source": [
        "Use `torch.sum` to calculate the sum over all elements of $X$. Take a look at the [documentation](https://pytorch.org/docs/stable/generated/torch.sum.html) and try to calculate the sum over each column. Additionally, what does `keepdim` do?"
      ]
    },
    {
      "cell_type": "code",
      "execution_count": null,
      "metadata": {
        "colab": {
          "base_uri": "https://localhost:8080/"
        },
        "id": "AHYrF_eljgRA",
        "outputId": "0957de78-04b9-456b-99d9-c02c977284c4"
      },
      "outputs": [
        {
          "output_type": "execute_result",
          "data": {
            "text/plain": [
              "tensor(147.)"
            ]
          },
          "metadata": {},
          "execution_count": 36
        }
      ],
      "source": [
        "torch.sum(X)"
      ]
    },
    {
      "cell_type": "code",
      "execution_count": null,
      "metadata": {
        "colab": {
          "base_uri": "https://localhost:8080/"
        },
        "id": "NBGnq__hjgRB",
        "outputId": "40b6a48d-4763-496e-9461-3478d3e4f7a3"
      },
      "outputs": [
        {
          "output_type": "execute_result",
          "data": {
            "text/plain": [
              "tensor([[37., 64., 46.]])"
            ]
          },
          "metadata": {},
          "execution_count": 37
        }
      ],
      "source": [
        "torch.sum(X, 0,  keepdim = True)"
      ]
    },
    {
      "cell_type": "code",
      "execution_count": null,
      "metadata": {
        "colab": {
          "base_uri": "https://localhost:8080/"
        },
        "id": "Cz2DEVGtjgRB",
        "outputId": "2e7a2cd2-f8c2-46b0-ba8b-a556d7be2038"
      },
      "outputs": [
        {
          "output_type": "execute_result",
          "data": {
            "text/plain": [
              "tensor([[37., 64., 46.]])"
            ]
          },
          "metadata": {},
          "execution_count": 38
        }
      ],
      "source": [
        "X.sum(0, keepdim = True)"
      ]
    },
    {
      "cell_type": "code",
      "execution_count": null,
      "metadata": {
        "colab": {
          "base_uri": "https://localhost:8080/"
        },
        "id": "Ace9RyoGjgRB",
        "outputId": "bf1d2bb1-6522-444f-fabe-bca51f5089ac"
      },
      "outputs": [
        {
          "output_type": "execute_result",
          "data": {
            "text/plain": [
              "torch.Size([1, 3])"
            ]
          },
          "metadata": {},
          "execution_count": 39
        }
      ],
      "source": [
        "X.sum(0, keepdim = True).shape"
      ]
    },
    {
      "cell_type": "code",
      "execution_count": null,
      "metadata": {
        "colab": {
          "base_uri": "https://localhost:8080/"
        },
        "id": "3M7gaZ2TjgRC",
        "outputId": "d16829b1-2abb-49d6-c724-d54b85b07ab2"
      },
      "outputs": [
        {
          "output_type": "execute_result",
          "data": {
            "text/plain": [
              "torch.Size([3])"
            ]
          },
          "metadata": {},
          "execution_count": 40
        }
      ],
      "source": [
        "X.sum(0).shape"
      ]
    },
    {
      "cell_type": "markdown",
      "metadata": {
        "id": "Sp0bapAOjgRC"
      },
      "source": [
        "Calculate the mean of each row."
      ]
    },
    {
      "cell_type": "code",
      "execution_count": null,
      "metadata": {
        "colab": {
          "base_uri": "https://localhost:8080/"
        },
        "id": "UiBfdegpjgRD",
        "outputId": "3b24144e-a7db-458e-86c0-3a67c9f85288"
      },
      "outputs": [
        {
          "output_type": "execute_result",
          "data": {
            "text/plain": [
              "tensor([ 3.0000, 15.6667, 16.6667, 13.6667])"
            ]
          },
          "metadata": {},
          "execution_count": 41
        }
      ],
      "source": [
        "X.mean(1)"
      ]
    },
    {
      "cell_type": "markdown",
      "metadata": {
        "id": "hd_v40STjgRD"
      },
      "source": [
        "Enter the follwing arrays in  as tensors Python (matrices and vectors):\n",
        "\n",
        "$A = \\begin{bmatrix}\n",
        "0 & 1 & 2\\\\\n",
        "3 & 4 & 5\\\\\n",
        "6 & 7 & 8\n",
        "\\end{bmatrix}$\n",
        "\n",
        "$x = \\begin{bmatrix}\n",
        "1&\n",
        "3&\n",
        "4\n",
        "\\end{bmatrix}$\n",
        "\n",
        "$B = \\begin{bmatrix}\n",
        "-0.1 & -0.2 & -0.3\\\\\n",
        "3 & 10 & 2\\\\\n",
        "4 & 2 & 0.5\n",
        "\\end{bmatrix} $\n",
        "\n",
        "a) Check the corresponding data types.\n",
        "\n",
        "b) Obtain the following entries of $A$:\n",
        "\n",
        "$$a_{1,1},a_{\\bullet,2}, \\begin{bmatrix}a_{2,2}& a_{2,3}\\\\a_{3,2}& a_{3,3}\\end{bmatrix}.$$\n",
        "\n",
        "Perform the following operations:\n",
        "\n",
        "c) $A \\bullet x$\n",
        "\n",
        "d) $A \\bullet B$ (matrix multiplication)\n",
        "\n",
        "e) $A \\circ B$ (element-wise multiplication)\n",
        "\n",
        "f) Use the broadcasting mechanic to multiplicate element in the $j$-th column of $A$ with the corresponding $j$-th element of $x$.\n",
        "\n",
        "g) Add the $j$-th element of $x$ to each elment in the $j$-th row of $A$."
      ]
    },
    {
      "cell_type": "code",
      "execution_count": null,
      "metadata": {
        "id": "tAwgEqTmjgRE"
      },
      "outputs": [],
      "source": [
        "A = torch.arange(9).reshape(3,-1)\n",
        "x = torch.tensor([1,3,4.])\n",
        "B = torch.tensor([[-.1,.2,.3],[3,10,2],[4,2,.5]])"
      ]
    },
    {
      "cell_type": "code",
      "execution_count": null,
      "metadata": {
        "colab": {
          "base_uri": "https://localhost:8080/"
        },
        "id": "1RQ0yC3sjgRE",
        "outputId": "7c0471e6-e14a-47eb-abef-3385201de162"
      },
      "outputs": [
        {
          "output_type": "execute_result",
          "data": {
            "text/plain": [
              "(torch.int64, torch.float32, torch.float32)"
            ]
          },
          "metadata": {},
          "execution_count": 43
        }
      ],
      "source": [
        "A.dtype, x.dtype, B.dtype"
      ]
    },
    {
      "cell_type": "code",
      "execution_count": null,
      "metadata": {
        "colab": {
          "base_uri": "https://localhost:8080/"
        },
        "id": "pDwta-byjgRF",
        "outputId": "5aa12fbf-0721-475c-f7b5-38c505d9416f"
      },
      "outputs": [
        {
          "data": {
            "text/plain": [
              "tensor(0)"
            ]
          },
          "execution_count": 44,
          "metadata": {},
          "output_type": "execute_result"
        }
      ],
      "source": [
        "A[0,0]"
      ]
    },
    {
      "cell_type": "code",
      "execution_count": null,
      "metadata": {
        "colab": {
          "base_uri": "https://localhost:8080/"
        },
        "id": "jXvISQlHjgRF",
        "outputId": "c444aad4-cc2d-4f90-d2ad-6840b1303271"
      },
      "outputs": [
        {
          "data": {
            "text/plain": [
              "tensor([0, 3, 6])"
            ]
          },
          "execution_count": 45,
          "metadata": {},
          "output_type": "execute_result"
        }
      ],
      "source": [
        "A[:,0]"
      ]
    },
    {
      "cell_type": "code",
      "execution_count": null,
      "metadata": {
        "colab": {
          "base_uri": "https://localhost:8080/"
        },
        "id": "VEoEhG50jgRG",
        "outputId": "ec89b0e6-5fc7-4763-da29-fc7f88dbbd27"
      },
      "outputs": [
        {
          "data": {
            "text/plain": [
              "tensor([[4, 5],\n",
              "        [7, 8]])"
            ]
          },
          "execution_count": 46,
          "metadata": {},
          "output_type": "execute_result"
        }
      ],
      "source": [
        "A[1:3,1:3]"
      ]
    },
    {
      "cell_type": "code",
      "execution_count": null,
      "metadata": {
        "colab": {
          "base_uri": "https://localhost:8080/",
          "height": 145
        },
        "id": "8kJlH_cWjgRH",
        "outputId": "cfe30fcc-bbe6-4f62-af48-af8c8ce31b2f"
      },
      "outputs": [
        {
          "ename": "RuntimeError",
          "evalue": "expected scalar type Long but found Float",
          "output_type": "error",
          "traceback": [
            "\u001b[0;31m---------------------------------------------------------------------------\u001b[0m",
            "\u001b[0;31mRuntimeError\u001b[0m                              Traceback (most recent call last)",
            "\u001b[0;32m<ipython-input-49-575525a0e253>\u001b[0m in \u001b[0;36m<cell line: 1>\u001b[0;34m()\u001b[0m\n\u001b[0;32m----> 1\u001b[0;31m \u001b[0mtorch\u001b[0m\u001b[0;34m.\u001b[0m\u001b[0mmv\u001b[0m\u001b[0;34m(\u001b[0m\u001b[0mA\u001b[0m\u001b[0;34m,\u001b[0m\u001b[0mx\u001b[0m\u001b[0;34m)\u001b[0m\u001b[0;34m\u001b[0m\u001b[0;34m\u001b[0m\u001b[0m\n\u001b[0m",
            "\u001b[0;31mRuntimeError\u001b[0m: expected scalar type Long but found Float"
          ]
        }
      ],
      "source": [
        "torch.mv(A,x)"
      ]
    },
    {
      "cell_type": "code",
      "execution_count": null,
      "metadata": {
        "id": "CACq04xGO0c2"
      },
      "outputs": [],
      "source": [
        "A = A.float()"
      ]
    },
    {
      "cell_type": "code",
      "execution_count": null,
      "metadata": {
        "colab": {
          "base_uri": "https://localhost:8080/"
        },
        "id": "FGW_IzwLOui9",
        "outputId": "034f0a4e-32cb-4d3c-91c0-70aced299a9d"
      },
      "outputs": [
        {
          "data": {
            "text/plain": [
              "tensor([11., 35., 59.])"
            ]
          },
          "execution_count": 51,
          "metadata": {},
          "output_type": "execute_result"
        }
      ],
      "source": [
        "torch.mv(A,x)"
      ]
    },
    {
      "cell_type": "code",
      "execution_count": null,
      "metadata": {
        "colab": {
          "base_uri": "https://localhost:8080/"
        },
        "id": "fFf3yEaJjgRH",
        "outputId": "e08053b0-175e-45d7-fe2d-166a7b6a9da6",
        "scrolled": true
      },
      "outputs": [
        {
          "data": {
            "text/plain": [
              "tensor([[11.0000, 14.0000,  3.0000],\n",
              "        [31.7000, 50.6000, 11.4000],\n",
              "        [52.4000, 87.2000, 19.8000]])"
            ]
          },
          "execution_count": 52,
          "metadata": {},
          "output_type": "execute_result"
        }
      ],
      "source": [
        "torch.mm(A,B)"
      ]
    },
    {
      "cell_type": "code",
      "execution_count": null,
      "metadata": {
        "id": "V6QijswijgRI"
      },
      "outputs": [],
      "source": [
        "A = A.float()"
      ]
    },
    {
      "cell_type": "code",
      "execution_count": null,
      "metadata": {
        "colab": {
          "base_uri": "https://localhost:8080/"
        },
        "id": "ixy92vetjgRI",
        "outputId": "1c135980-20f6-4a9e-c226-acbd87aa4715"
      },
      "outputs": [
        {
          "data": {
            "text/plain": [
              "tensor([[11.0000, 14.0000,  3.0000],\n",
              "        [31.7000, 50.6000, 11.4000],\n",
              "        [52.4000, 87.2000, 19.8000]])"
            ]
          },
          "execution_count": 54,
          "metadata": {},
          "output_type": "execute_result"
        }
      ],
      "source": [
        "torch.mm(A,B)"
      ]
    },
    {
      "cell_type": "code",
      "execution_count": null,
      "metadata": {
        "colab": {
          "base_uri": "https://localhost:8080/"
        },
        "id": "7qQ-WYucjgRJ",
        "outputId": "12af40b9-ddff-4023-dc08-cd3f1630fd1a",
        "scrolled": true
      },
      "outputs": [
        {
          "data": {
            "text/plain": [
              "tensor([[-0.0000,  0.2000,  0.6000],\n",
              "        [ 9.0000, 40.0000, 10.0000],\n",
              "        [24.0000, 14.0000,  4.0000]])"
            ]
          },
          "execution_count": 55,
          "metadata": {},
          "output_type": "execute_result"
        }
      ],
      "source": [
        "A*B"
      ]
    },
    {
      "cell_type": "code",
      "execution_count": null,
      "metadata": {
        "colab": {
          "base_uri": "https://localhost:8080/"
        },
        "id": "xRXxqHCcjgRJ",
        "outputId": "eaa5db19-d0ad-4317-82f5-2ebefc432663"
      },
      "outputs": [
        {
          "data": {
            "text/plain": [
              "tensor([[ 0.,  3.,  8.],\n",
              "        [ 3., 12., 20.],\n",
              "        [ 6., 21., 32.]])"
            ]
          },
          "execution_count": 56,
          "metadata": {},
          "output_type": "execute_result"
        }
      ],
      "source": [
        "A*x"
      ]
    },
    {
      "cell_type": "code",
      "execution_count": null,
      "metadata": {
        "colab": {
          "base_uri": "https://localhost:8080/"
        },
        "id": "noJLSKGpjgRK",
        "outputId": "b2e34aec-7536-46a4-d64a-b4329ce2a8a4"
      },
      "outputs": [
        {
          "data": {
            "text/plain": [
              "tensor([[ 1.,  2.,  3.],\n",
              "        [ 6.,  7.,  8.],\n",
              "        [10., 11., 12.]])"
            ]
          },
          "execution_count": 57,
          "metadata": {},
          "output_type": "execute_result"
        }
      ],
      "source": [
        "x.reshape(-1,1)+A"
      ]
    },
    {
      "cell_type": "markdown",
      "metadata": {
        "id": "DS6MVeTkjgRK"
      },
      "source": [
        "### Plotting\n",
        "\n",
        "Import the `matplotlib.pyplot` module for plotting (see [here](https://matplotlib.org/api/pyplot_api.html)). Generate a tensor\n",
        "\n",
        "$$x =\\begin{bmatrix}0&0.1&0.2&\\dots &9.9&10\\end{bmatrix}.$$\n",
        "\n",
        "Calculate $f_1(x)=\\exp(x)$ and create a plot (add a labels and a title) ."
      ]
    },
    {
      "cell_type": "code",
      "execution_count": null,
      "metadata": {
        "id": "T6jrx4ohjgRK"
      },
      "outputs": [],
      "source": [
        "import matplotlib.pyplot as plt"
      ]
    },
    {
      "cell_type": "code",
      "execution_count": null,
      "metadata": {
        "colab": {
          "base_uri": "https://localhost:8080/"
        },
        "id": "oDlrLlaZjgRL",
        "outputId": "4d59f56c-ad7a-482a-8889-4a2ef743199f"
      },
      "outputs": [
        {
          "name": "stdout",
          "output_type": "stream",
          "text": [
            "tensor([ 0.0000,  0.1000,  0.2000,  0.3000,  0.4000,  0.5000,  0.6000,  0.7000,\n",
            "         0.8000,  0.9000,  1.0000,  1.1000,  1.2000,  1.3000,  1.4000,  1.5000,\n",
            "         1.6000,  1.7000,  1.8000,  1.9000,  2.0000,  2.1000,  2.2000,  2.3000,\n",
            "         2.4000,  2.5000,  2.6000,  2.7000,  2.8000,  2.9000,  3.0000,  3.1000,\n",
            "         3.2000,  3.3000,  3.4000,  3.5000,  3.6000,  3.7000,  3.8000,  3.9000,\n",
            "         4.0000,  4.1000,  4.2000,  4.3000,  4.4000,  4.5000,  4.6000,  4.7000,\n",
            "         4.8000,  4.9000,  5.0000,  5.1000,  5.2000,  5.3000,  5.4000,  5.5000,\n",
            "         5.6000,  5.7000,  5.8000,  5.9000,  6.0000,  6.1000,  6.2000,  6.3000,\n",
            "         6.4000,  6.5000,  6.6000,  6.7000,  6.8000,  6.9000,  7.0000,  7.1000,\n",
            "         7.2000,  7.3000,  7.4000,  7.5000,  7.6000,  7.7000,  7.8000,  7.9000,\n",
            "         8.0000,  8.1000,  8.2000,  8.3000,  8.4000,  8.5000,  8.6000,  8.7000,\n",
            "         8.8000,  8.9000,  9.0000,  9.1000,  9.2000,  9.3000,  9.4000,  9.5000,\n",
            "         9.6000,  9.7000,  9.8000,  9.9000, 10.0000], dtype=torch.float64)\n"
          ]
        }
      ],
      "source": [
        "x = torch.arange(101, dtype = float)/10\n",
        "print(x)"
      ]
    },
    {
      "cell_type": "code",
      "execution_count": null,
      "metadata": {
        "id": "bDbxCUK8jgRL"
      },
      "outputs": [],
      "source": [
        "f_1 = torch.exp(x)"
      ]
    },
    {
      "cell_type": "code",
      "execution_count": null,
      "metadata": {
        "colab": {
          "base_uri": "https://localhost:8080/",
          "height": 388
        },
        "id": "oACxr5hWjgRL",
        "outputId": "6fba21d6-c100-4631-a653-50a409ecd870",
        "scrolled": true
      },
      "outputs": [
        {
          "data": {
            "image/png": "[encoded data removed]",
            "text/plain": [
              "<Figure size 1500x500 with 1 Axes>"
            ]
          },
          "metadata": {},
          "output_type": "display_data"
        }
      ],
      "source": [
        "fig = plt.figure(figsize=(15,5))\n",
        "plt.plot(x,f_1, label='Exponential Function')\n",
        "plt.xlabel(\"x\")\n",
        "plt.ylabel(\"f(x)\")\n",
        "plt.legend()\n",
        "plt.show()"
      ]
    },
    {
      "cell_type": "markdown",
      "metadata": {
        "id": "bP8JLos-jgRM"
      },
      "source": [
        "Try to add a second funtion $f_2(x)=x^4$ to the plot."
      ]
    },
    {
      "cell_type": "code",
      "execution_count": null,
      "metadata": {
        "id": "u9IhGzRajgRM"
      },
      "outputs": [],
      "source": [
        "f_2 = x**4"
      ]
    },
    {
      "cell_type": "code",
      "execution_count": null,
      "metadata": {
        "colab": {
          "base_uri": "https://localhost:8080/",
          "height": 407
        },
        "id": "GIznQi74jgRN",
        "outputId": "910dc133-b9ac-4bd4-cb9f-329a14bbd968"
      },
      "outputs": [
        {
          "data": {
            "image/png": "[encoded data removed]",
            "text/plain": [
              "<Figure size 1500x500 with 1 Axes>"
            ]
          },
          "metadata": {},
          "output_type": "display_data"
        }
      ],
      "source": [
        "fig = plt.figure(figsize=(15,5))\n",
        "plt.plot(x,f_1, label='Exponential Function')\n",
        "plt.plot(x,f_2, label='Quadratic Function')\n",
        "plt.xlabel(\"x\")\n",
        "plt.ylabel(\"f(x)\")\n",
        "plt.legend()\n",
        "plt.title(\"Unnecessary Title\")\n",
        "plt.show()"
      ]
    },
    {
      "cell_type": "markdown",
      "metadata": {
        "id": "LpI3Hh1KjgRN"
      },
      "source": [
        "Try to plot both functions in a seperate subplots."
      ]
    },
    {
      "cell_type": "code",
      "execution_count": null,
      "metadata": {
        "colab": {
          "base_uri": "https://localhost:8080/",
          "height": 407
        },
        "id": "cPSvp12WjgRN",
        "outputId": "699e6956-c0e4-49df-87d6-f1d0f8a2de6c"
      },
      "outputs": [
        {
          "data": {
            "image/png": "[encoded data removed]",
            "text/plain": [
              "<Figure size 1500x500 with 2 Axes>"
            ]
          },
          "metadata": {},
          "output_type": "display_data"
        }
      ],
      "source": [
        "fig = plt.figure(figsize=(15,5))\n",
        "plt.subplot(1, 2, 1)\n",
        "plt.plot(x,f_1, label='Exponential Function')\n",
        "plt.xlabel(\"x\")\n",
        "plt.ylabel(\"f(x)\")\n",
        "plt.legend()\n",
        "plt.title(\"Unnecessary Title\")\n",
        "\n",
        "plt.subplot(1, 2, 2)\n",
        "plt.plot(x,f_2,color='orange', label='Quadratic Function')\n",
        "plt.xlabel(\"x\")\n",
        "plt.ylabel(\"f(x)\")\n",
        "plt.legend()\n",
        "plt.title(\"Unnecessary Title\")\n",
        "plt.show()"
      ]
    },
    {
      "cell_type": "markdown",
      "metadata": {
        "id": "2mH9OX8ljgRO"
      },
      "source": [
        " ### Speedtest of Vectorization\n",
        "\n",
        " Import the `time` module."
      ]
    },
    {
      "cell_type": "code",
      "execution_count": null,
      "metadata": {
        "id": "ZTikv7kIjgRO"
      },
      "outputs": [],
      "source": [
        "import time\n",
        "tic = time.time()"
      ]
    },
    {
      "cell_type": "code",
      "execution_count": null,
      "metadata": {
        "colab": {
          "base_uri": "https://localhost:8080/"
        },
        "id": "ofD6vw6xjgRP",
        "outputId": "225a30d9-5fa6-4ede-e774-83fa4833ed5a"
      },
      "outputs": [
        {
          "name": "stdout",
          "output_type": "stream",
          "text": [
            "0.2916896343231201 seconds have passed.\n"
          ]
        }
      ],
      "source": [
        "toc = time.time()\n",
        "print(toc-tic, \"seconds have passed.\")"
      ]
    },
    {
      "cell_type": "markdown",
      "metadata": {
        "id": "vbKpqliLjgRP"
      },
      "source": [
        "Construct two matrices $A$ and $B$ with Gaussian random entries of size $2048 \\times 2048$.\n",
        "\n",
        "a) Compute C = AB using `for` loops and `torch.dot` for each element $c_{i,j}$ and report the time.\n",
        "\n",
        "b) Compute C = AB using `torch.mm`and report the time."
      ]
    },
    {
      "cell_type": "code",
      "execution_count": null,
      "metadata": {
        "id": "hw8JpBygjgRP"
      },
      "outputs": [],
      "source": [
        "A = torch.randn(2048,2048)\n",
        "B = torch.randn(2048,2048)"
      ]
    },
    {
      "cell_type": "code",
      "execution_count": null,
      "metadata": {
        "colab": {
          "base_uri": "https://localhost:8080/"
        },
        "id": "udae73C0jgRQ",
        "outputId": "e88fe66d-7d0f-4ff6-d745-c36f4c9b2b2b"
      },
      "outputs": [
        {
          "name": "stdout",
          "output_type": "stream",
          "text": [
            "0.2867152690887451 seconds have passed.\n"
          ]
        }
      ],
      "source": [
        "tic = time.time()\n",
        "torch.mm(A,B)\n",
        "toc = time.time()\n",
        "print(toc-tic, \"seconds have passed.\")"
      ]
    },
    {
      "cell_type": "code",
      "execution_count": null,
      "metadata": {
        "colab": {
          "base_uri": "https://localhost:8080/"
        },
        "id": "O5gx2uZWgiMD",
        "outputId": "38b0ef1e-570c-4419-c3f6-b117da38e807"
      },
      "outputs": [
        {
          "name": "stdout",
          "output_type": "stream",
          "text": [
            "CPU times: user 261 ms, sys: 10 ms, total: 271 ms\n",
            "Wall time: 267 ms\n"
          ]
        },
        {
          "data": {
            "text/plain": [
              "tensor([[  64.6000,  -11.4385,  -27.7920,  ...,  -27.5997,   75.5171,\n",
              "          -62.9711],\n",
              "        [ -17.0526,  -37.2547,    3.3334,  ...,   15.8526,   98.1730,\n",
              "          -47.1152],\n",
              "        [   5.4569,  -30.0804,  -15.6498,  ...,   12.5815,  -30.1422,\n",
              "           84.7395],\n",
              "        ...,\n",
              "        [  14.8797,  -10.1907,   75.7863,  ...,   -0.4132,  -47.1691,\n",
              "          102.6397],\n",
              "        [ -41.1464, -106.8928,   44.8248,  ...,   -8.9310,   44.0400,\n",
              "           40.4529],\n",
              "        [ -60.9899,  -14.6496,   38.0621,  ...,  -38.9431,  -33.7198,\n",
              "           33.6339]])"
            ]
          },
          "execution_count": 69,
          "metadata": {},
          "output_type": "execute_result"
        }
      ],
      "source": [
        "%%time\n",
        "\n",
        "torch.mm(A,B)"
      ]
    },
    {
      "cell_type": "code",
      "execution_count": null,
      "metadata": {
        "colab": {
          "base_uri": "https://localhost:8080/",
          "height": 217
        },
        "id": "CDiU37n4jgRQ",
        "outputId": "9002679e-2689-4daa-c619-a25bd3d9adc4"
      },
      "outputs": [
        {
          "ename": "KeyboardInterrupt",
          "evalue": "",
          "output_type": "error",
          "traceback": [
            "\u001b[0;31m---------------------------------------------------------------------------\u001b[0m",
            "\u001b[0;31mKeyboardInterrupt\u001b[0m                         Traceback (most recent call last)",
            "\u001b[0;32m<ipython-input-70-6f5d34abdc6e>\u001b[0m in \u001b[0;36m<cell line: 3>\u001b[0;34m()\u001b[0m\n\u001b[1;32m      3\u001b[0m \u001b[0;32mfor\u001b[0m \u001b[0mi\u001b[0m \u001b[0;32min\u001b[0m \u001b[0mrange\u001b[0m\u001b[0;34m(\u001b[0m\u001b[0;36m2048\u001b[0m\u001b[0;34m)\u001b[0m\u001b[0;34m:\u001b[0m\u001b[0;34m\u001b[0m\u001b[0;34m\u001b[0m\u001b[0m\n\u001b[1;32m      4\u001b[0m     \u001b[0;32mfor\u001b[0m \u001b[0mj\u001b[0m \u001b[0;32min\u001b[0m \u001b[0mrange\u001b[0m\u001b[0;34m(\u001b[0m\u001b[0;36m2048\u001b[0m\u001b[0;34m)\u001b[0m\u001b[0;34m:\u001b[0m\u001b[0;34m\u001b[0m\u001b[0;34m\u001b[0m\u001b[0m\n\u001b[0;32m----> 5\u001b[0;31m         \u001b[0mC\u001b[0m\u001b[0;34m[\u001b[0m\u001b[0mi\u001b[0m\u001b[0;34m,\u001b[0m\u001b[0mj\u001b[0m\u001b[0;34m]\u001b[0m \u001b[0;34m=\u001b[0m \u001b[0mtorch\u001b[0m\u001b[0;34m.\u001b[0m\u001b[0mdot\u001b[0m\u001b[0;34m(\u001b[0m\u001b[0mA\u001b[0m\u001b[0;34m[\u001b[0m\u001b[0mi\u001b[0m\u001b[0;34m,\u001b[0m \u001b[0;34m:\u001b[0m\u001b[0;34m]\u001b[0m\u001b[0;34m,\u001b[0m \u001b[0mB\u001b[0m\u001b[0;34m[\u001b[0m\u001b[0;34m:\u001b[0m\u001b[0;34m,\u001b[0m \u001b[0mj\u001b[0m\u001b[0;34m]\u001b[0m\u001b[0;34m)\u001b[0m\u001b[0;34m\u001b[0m\u001b[0;34m\u001b[0m\u001b[0m\n\u001b[0m\u001b[1;32m      6\u001b[0m \u001b[0;34m\u001b[0m\u001b[0m\n\u001b[1;32m      7\u001b[0m \u001b[0mtoc\u001b[0m \u001b[0;34m=\u001b[0m \u001b[0mtime\u001b[0m\u001b[0;34m.\u001b[0m\u001b[0mtime\u001b[0m\u001b[0;34m(\u001b[0m\u001b[0;34m)\u001b[0m\u001b[0;34m\u001b[0m\u001b[0;34m\u001b[0m\u001b[0m\n",
            "\u001b[0;31mKeyboardInterrupt\u001b[0m: "
          ]
        }
      ],
      "source": [
        "C = torch.empty((2048, 2048))\n",
        "tic = time.time()\n",
        "for i in range(2048):\n",
        "    for j in range(2048):\n",
        "        C[i,j] = torch.dot(A[i, :], B[:, j])\n",
        "\n",
        "toc = time.time()\n",
        "print(toc-tic, \"seconds have passed.\")"
      ]
    },
    {
      "cell_type": "code",
      "execution_count": null,
      "metadata": {
        "colab": {
          "background_save": true
        },
        "id": "PHslFDBihC_j",
        "outputId": "1d270e54-c94d-48ae-9d12-9a6cac4fbc18"
      },
      "outputs": [
        {
          "name": "stdout",
          "output_type": "stream",
          "text": [
            "CPU times: user 3min 44s, sys: 391 ms, total: 3min 44s\n",
            "Wall time: 3min 46s\n"
          ]
        }
      ],
      "source": [
        "%%time\n",
        "\n",
        "for i in range(2048):\n",
        "    for j in range(2048):\n",
        "        C[i,j] = torch.dot(A[i, :], B[:, j])"
      ]
    }
  ],
  "metadata": {
    "colab": {
      "provenance": []
    },
    "kernelspec": {
      "display_name": "Python 3 (ipykernel)",
      "language": "python",
      "name": "python3"
    },
    "language_info": {
      "codemirror_mode": {
        "name": "ipython",
        "version": 3
      },
      "file_extension": ".py",
      "mimetype": "text/x-python",
      "name": "python",
      "nbconvert_exporter": "python",
      "pygments_lexer": "ipython3",
      "version": "3.9.7"
    }
  },
  "nbformat": 4,
  "nbformat_minor": 0
}