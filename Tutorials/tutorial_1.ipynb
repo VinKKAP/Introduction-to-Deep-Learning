{
 "cells": [
  {
   "cell_type": "markdown",
   "metadata": {
    "id": "BxzIiZx5Qg1V"
   },
   "source": [
    "# Tutorials to Deep Learning - an Introduction\n",
    "\n",
    "In the six tutorial notebooks, we are going to get to know ``python`` and apply it to solve simple Deep Learning tasks. Please have a look at the tasks before coming to the tutorials. You may use the help of UHH-GPT or the integrated Colab AI assistent to generate the code, but please make sure to understand what the code is doing."
   ]
  },
  {
   "cell_type": "markdown",
   "metadata": {
    "id": "gmd1RA6K9AZ8"
   },
   "source": [
    "# Tutorial 1\n",
    "\n",
    "We start by taking a look at Colab. Take a look at the introduction to [Colab](https://colab.research.google.com/github/tensorflow/examples/blob/master/courses/udacity_intro_to_tensorflow_for_deep_learning/l01c01_introduction_to_colab_and_python.ipynb#scrollTo=Eq10uEbw0E4l).(We will go through the most basic features of the notebooks in the tutorial)."
   ]
  },
  {
   "cell_type": "markdown",
   "metadata": {
    "id": "Bng9rk0y9AZ_"
   },
   "source": [
    "## 1. Basic Introduction to Python\n",
    "\n",
    "Traditionally, the first programm you write in a new language is called 'Hello World!'. Use the `print` statement to display Hello World! on the screen.\n",
    "\n",
    "Hint: ``help(print)``"
   ]
  },
  {
   "cell_type": "code",
   "execution_count": 1,
   "metadata": {
    "id": "4CGWErA_Z-ME"
   },
   "outputs": [
    {
     "name": "stdout",
     "output_type": "stream",
     "text": [
      "Hello World!\n"
     ]
    }
   ],
   "source": [
    "print (\"Hello World!\")"
   ]
  },
  {
   "cell_type": "markdown",
   "metadata": {
    "id": "m17TYS4f9AZ_"
   },
   "source": [
    "*  Of what type are the following variables (Hint: `type()`)?"
   ]
  },
  {
   "cell_type": "code",
   "execution_count": 27,
   "metadata": {
    "id": "KP0gqwAe9AaA"
   },
   "outputs": [
    {
     "data": {
      "text/plain": [
       "int"
      ]
     },
     "execution_count": 27,
     "metadata": {},
     "output_type": "execute_result"
    }
   ],
   "source": [
    "type(\"Hello World\")\n",
    "type(1.3)\n",
    "type(1)"
   ]
  },
  {
   "cell_type": "markdown",
   "metadata": {
    "id": "lfFunBHN9AaB"
   },
   "source": [
    "*  Try to figure out the functions of `\\n`, `\\t` inside of print:\n",
    "*  Try to figure out the positional formating and simple conversions."
   ]
  },
  {
   "cell_type": "code",
   "execution_count": 29,
   "metadata": {
    "id": "VOz9pJ_2bc6n"
   },
   "outputs": [
    {
     "name": "stdout",
     "output_type": "stream",
     "text": [
      "Hello, my name is Vincent and im 26 years old. My height is 183.4 cm\n",
      "Hello\n",
      "World\n",
      "Hello\tWorld\n"
     ]
    }
   ],
   "source": [
    "print(\"Hello, my name is {} and im {} years old. My height is {:.1f} cm\".format(\"Vincent\",\"26\", 183.42))\n",
    "print(\"Hello\\nWorld\")\n",
    "print(\"Hello\\tWorld\")"
   ]
  },
  {
   "cell_type": "code",
   "execution_count": null,
   "metadata": {},
   "outputs": [],
   "source": []
  },
  {
   "cell_type": "markdown",
   "metadata": {
    "id": "tSWZNf_z9AaC"
   },
   "source": [
    "### Math\n",
    "\n",
    "Import the `math` module by"
   ]
  },
  {
   "cell_type": "code",
   "execution_count": 4,
   "metadata": {
    "id": "qMX6_e_w9AaC"
   },
   "outputs": [],
   "source": [
    "import math"
   ]
  },
  {
   "cell_type": "markdown",
   "metadata": {
    "id": "7d0DCG3z9AaC"
   },
   "source": [
    "Use Python as you would a calculator to find the numeric answers and the corresponding type\n",
    "\n",
    "1. $1+2(3+4)$\n",
    "2. $4^3+3^{2+1}$\n",
    "3. $\\frac{1+2}{3+4}$\n",
    "4. $\\sqrt{(4+3)(2+1)}$\n",
    "5. $\\sin(\\pi)+\\cos(\\pi)$\n",
    "6. $\\exp(0) \\log(2)$\n",
    "7. If you run a 10 kilometer race in 43 minutes 30 seconds, what is your average time per mile? What is your average speed in miles per hour?\n",
    "\n",
    "Hint: There are 1.61 kilometers in a mile."
   ]
  },
  {
   "cell_type": "code",
   "execution_count": 7,
   "metadata": {
    "id": "nRTMJrWUbOtl"
   },
   "outputs": [
    {
     "data": {
      "text/plain": [
       "15"
      ]
     },
     "execution_count": 7,
     "metadata": {},
     "output_type": "execute_result"
    }
   ],
   "source": [
    "x_1 = 1+2*(3+4)\n",
    "x_1"
   ]
  },
  {
   "cell_type": "code",
   "execution_count": 8,
   "metadata": {},
   "outputs": [
    {
     "data": {
      "text/plain": [
       "43"
      ]
     },
     "execution_count": 8,
     "metadata": {},
     "output_type": "execute_result"
    }
   ],
   "source": [
    "x_2 = 4**2 + 3**(2+1)\n",
    "x_2"
   ]
  },
  {
   "cell_type": "code",
   "execution_count": 9,
   "metadata": {},
   "outputs": [
    {
     "data": {
      "text/plain": [
       "0.42857142857142855"
      ]
     },
     "execution_count": 9,
     "metadata": {},
     "output_type": "execute_result"
    }
   ],
   "source": [
    "x_3 = (1+2)/(3+4)\n",
    "x_3"
   ]
  },
  {
   "cell_type": "code",
   "execution_count": 13,
   "metadata": {},
   "outputs": [
    {
     "data": {
      "text/plain": [
       "4.58257569495584"
      ]
     },
     "execution_count": 13,
     "metadata": {},
     "output_type": "execute_result"
    }
   ],
   "source": [
    "x_4 = math.sqrt((4+3) * (2+1))\n",
    "x_4"
   ]
  },
  {
   "cell_type": "code",
   "execution_count": 14,
   "metadata": {},
   "outputs": [
    {
     "data": {
      "text/plain": [
       "-0.9999999999999999"
      ]
     },
     "execution_count": 14,
     "metadata": {},
     "output_type": "execute_result"
    }
   ],
   "source": [
    "x_5 = math.sin(math.pi)+math.cos(math.pi)\n",
    "x_5 "
   ]
  },
  {
   "cell_type": "code",
   "execution_count": 15,
   "metadata": {},
   "outputs": [
    {
     "data": {
      "text/plain": [
       "0.6931471805599453"
      ]
     },
     "execution_count": 15,
     "metadata": {},
     "output_type": "execute_result"
    }
   ],
   "source": [
    "x_6 = math.exp(0)*math.log(2)\n",
    "x_6"
   ]
  },
  {
   "cell_type": "code",
   "execution_count": 19,
   "metadata": {},
   "outputs": [
    {
     "data": {
      "text/plain": [
       "(7.003500000000001, 8.567144998929106, 0.6211180124223602)"
      ]
     },
     "execution_count": 19,
     "metadata": {},
     "output_type": "execute_result"
    }
   ],
   "source": [
    "# Constants\n",
    "kilometers = 10\n",
    "total_minutes = 43.5\n",
    "km_miles= 1/1.61\n",
    "# Conversion factors\n",
    "minutes_to_hours = 1 / 60\n",
    "\n",
    "# Convert distance to miles\n",
    "miles = kilometers * km_miles\n",
    "\n",
    "# Convert total time to hours\n",
    "hours = total_minutes * minutes_to_hours\n",
    "\n",
    "# Calculate average time per mile (in minutes)\n",
    "average_time_per_mile = total_minutes / miles\n",
    "\n",
    "# Calculate average speed (in miles per hour)\n",
    "average_speed_mph = miles / hours\n",
    "\n",
    "average_time_per_mile, average_speed_mph,km_miles\n"
   ]
  },
  {
   "cell_type": "markdown",
   "metadata": {
    "id": "JH291Yco9AaD"
   },
   "source": [
    "### Lists\n",
    "\n",
    "A list is a sequence of values.The values in a list are called elements or items.<br>\n",
    "In Python list are easily created by enclosing the items is brackets: $[\\text{item}_1,\\dots,\\text{item}_n]$."
   ]
  },
  {
   "cell_type": "code",
   "execution_count": 31,
   "metadata": {
    "id": "1MMSwSLB9AaD"
   },
   "outputs": [
    {
     "data": {
      "text/plain": [
       "list"
      ]
     },
     "execution_count": 31,
     "metadata": {},
     "output_type": "execute_result"
    }
   ],
   "source": [
    "list_1 = [1,2,3,4]\n",
    "type(list_1)\n"
   ]
  },
  {
   "cell_type": "code",
   "execution_count": 33,
   "metadata": {},
   "outputs": [
    {
     "data": {
      "text/plain": [
       "4"
      ]
     },
     "execution_count": 33,
     "metadata": {},
     "output_type": "execute_result"
    }
   ],
   "source": [
    "len(list_1)"
   ]
  },
  {
   "cell_type": "markdown",
   "metadata": {
    "id": "XU9KmlKf9AaE"
   },
   "source": [
    "Specific items of a list can be accessed in the following way."
   ]
  },
  {
   "cell_type": "code",
   "execution_count": 38,
   "metadata": {
    "id": "XedFwR7g9AaE",
    "scrolled": true
   },
   "outputs": [
    {
     "data": {
      "text/plain": [
       "4"
      ]
     },
     "execution_count": 38,
     "metadata": {},
     "output_type": "execute_result"
    }
   ],
   "source": [
    "list_1[-1]"
   ]
  },
  {
   "cell_type": "markdown",
   "metadata": {
    "id": "y9PCBhgQ9AaF"
   },
   "source": [
    "* Create a list of two items, with each item beeing the `example_list` from above. How can you access the item $5.2$ of the first list?"
   ]
  },
  {
   "cell_type": "code",
   "execution_count": null,
   "metadata": {
    "id": "rnptjWTRgxkQ"
   },
   "outputs": [],
   "source": []
  },
  {
   "cell_type": "markdown",
   "metadata": {
    "id": "vUtib7zLg5WE"
   },
   "source": []
  },
  {
   "cell_type": "markdown",
   "metadata": {
    "id": "Lapzjsam9AaF"
   },
   "source": [
    "###  Functions and Loops\n",
    "\n",
    "* Write a function `module` that display if an integer is even or odd.\n",
    "\n",
    "Hint: The % (modulo) operator yields the remainder from the division of the first argument by the second.\n",
    "Example:"
   ]
  },
  {
   "cell_type": "code",
   "execution_count": 39,
   "metadata": {
    "id": "2116qg7k9AaF"
   },
   "outputs": [
    {
     "data": {
      "text/plain": [
       "0"
      ]
     },
     "execution_count": 39,
     "metadata": {},
     "output_type": "execute_result"
    }
   ],
   "source": [
    "4%2"
   ]
  },
  {
   "cell_type": "code",
   "execution_count": 41,
   "metadata": {},
   "outputs": [
    {
     "data": {
      "text/plain": [
       "1"
      ]
     },
     "execution_count": 41,
     "metadata": {},
     "output_type": "execute_result"
    }
   ],
   "source": [
    "5%2"
   ]
  },
  {
   "cell_type": "code",
   "execution_count": 52,
   "metadata": {},
   "outputs": [
    {
     "name": "stdout",
     "output_type": "stream",
     "text": [
      "Your number is even\n"
     ]
    },
    {
     "data": {
      "text/plain": [
       "'even'"
      ]
     },
     "execution_count": 52,
     "metadata": {},
     "output_type": "execute_result"
    }
   ],
   "source": [
    "def module(example_value):\n",
    "    if example_value%2==0:\n",
    "        print(\"Your number is even\")\n",
    "        return(\"even\")\n",
    "    else : \n",
    "        print(\"Your number is odd\")\n",
    "        return(\"odd\")\n",
    "    \n",
    "module(4)"
   ]
  },
  {
   "cell_type": "markdown",
   "metadata": {
    "id": "S_P0gvLG9AaH"
   },
   "source": [
    "* Write a function `compare` that returns $1$ if $x>y$, $0$ if $x=y$ and $-1$ if $x<y$.\n",
    "\n",
    "* Write a function `is_between` that returns `True` if $x\\le y\\le z$ or `False` otherwise."
   ]
  },
  {
   "cell_type": "code",
   "execution_count": 53,
   "metadata": {
    "id": "ZwVWjsILhyIC"
   },
   "outputs": [
    {
     "data": {
      "text/plain": [
       "-1"
      ]
     },
     "execution_count": 53,
     "metadata": {},
     "output_type": "execute_result"
    }
   ],
   "source": [
    "def compare (x,y):\n",
    "    if x>y:\n",
    "        return 1\n",
    "    elif x==y:\n",
    "        return 0\n",
    "    else:\n",
    "        return -1\n",
    "\n",
    "compare(2,3)"
   ]
  },
  {
   "cell_type": "code",
   "execution_count": 54,
   "metadata": {},
   "outputs": [
    {
     "data": {
      "text/plain": [
       "True"
      ]
     },
     "execution_count": 54,
     "metadata": {},
     "output_type": "execute_result"
    }
   ],
   "source": [
    "def is_between(x,y,z):\n",
    "    if x<=y<=z:\n",
    "        return True\n",
    "    else: \n",
    "        return False\n",
    "is_between(1,2,3)"
   ]
  },
  {
   "cell_type": "code",
   "execution_count": 55,
   "metadata": {},
   "outputs": [
    {
     "name": "stdout",
     "output_type": "stream",
     "text": [
      "The letter 'a' is 1 times in the word 'banane' (Started with letter ‘2'.\n"
     ]
    }
   ],
   "source": [
    "def count (w, l=\"l\", s=0):\n",
    "    i = 0\n",
    "    for letter in w[s:]:\n",
    "        if letter == l:\n",
    "            i +=1\n",
    "    print(f\"The letter '{l}' is {i} times in the word '{w}' (Started with letter ‘{s}'.\")\n",
    "\n",
    "#example usage\n",
    "count(\"banane\", l=\"a\", s=2)"
   ]
  },
  {
   "cell_type": "markdown",
   "metadata": {
    "id": "G8yioayV9AaI"
   },
   "source": [
    "The following program counts the number of times the letter $a$ appears in a string:"
   ]
  },
  {
   "cell_type": "code",
   "execution_count": null,
   "metadata": {
    "id": "OIar19MZ9AaI"
   },
   "outputs": [],
   "source": []
  },
  {
   "cell_type": "markdown",
   "metadata": {
    "id": "fg3VuZyP9AaI"
   },
   "source": [
    "* Encapsulate this code in a function named `count(w,l,s)` that counts the number of times a letter $l$ appears in a word $w$. Additionally, $s$ gives the index in $w$ where it should start looking.\n"
   ]
  },
  {
   "cell_type": "code",
   "execution_count": null,
   "metadata": {
    "id": "2Tt9rS0Pk_rn"
   },
   "outputs": [],
   "source": []
  },
  {
   "cell_type": "markdown",
   "metadata": {
    "id": "xEXLyjjP9AaJ"
   },
   "source": [
    "## 2. Tensors\n",
    "\n",
    "Make sure you have imported `torch`. As mentioned in the lecture tensors are similar to `ndarray` from NumPy (the most widely-used scientific computing package in Python). [Here](https://numpy.org/doc/stable/user/quickstart.html) you can find a documentation on NumPy."
   ]
  },
  {
   "cell_type": "code",
   "execution_count": 56,
   "metadata": {
    "id": "wuLjzz1s9AaJ"
   },
   "outputs": [],
   "source": [
    "import torch"
   ]
  },
  {
   "cell_type": "markdown",
   "metadata": {
    "id": "EEbCSan49AaK"
   },
   "source": [
    "Create the following tensor\n",
    "\n",
    "$$X=\\begin{bmatrix}2&3&4\\\\9&33&5\\\\3&12&35\\\\23&16&2\\end{bmatrix}.$$\n",
    "\n",
    "* What is the shape of your tensor?"
   ]
  },
  {
   "cell_type": "code",
   "execution_count": 60,
   "metadata": {
    "id": "eYcVZ53fl9lb"
   },
   "outputs": [
    {
     "name": "stdout",
     "output_type": "stream",
     "text": [
      "tensor([[ 2,  3,  4],\n",
      "        [ 9, 33,  5],\n",
      "        [ 3, 12, 35],\n",
      "        [23, 16,  2]])\n"
     ]
    }
   ],
   "source": [
    "X = torch.tensor([[2,3,4],\n",
    "                 [9,33,5],\n",
    "                 [3,12,35],\n",
    "                 [23,16,2]])\n",
    "\n",
    "print(X)"
   ]
  },
  {
   "cell_type": "markdown",
   "metadata": {
    "id": "MzIW8fsC9AaK"
   },
   "source": [
    "See [here](https://pytorch.org/docs/stable/tensors.html) to check out what data types of tensors exist.\n",
    "* What data type is $X$ (use `torch.dtype`)? Create change the data type to float (`torch.float()`)."
   ]
  },
  {
   "cell_type": "code",
   "execution_count": 61,
   "metadata": {
    "id": "VULdgP1rmevO"
   },
   "outputs": [
    {
     "data": {
      "text/plain": [
       "torch.int64"
      ]
     },
     "execution_count": 61,
     "metadata": {},
     "output_type": "execute_result"
    }
   ],
   "source": [
    "X.dtype"
   ]
  },
  {
   "cell_type": "code",
   "execution_count": 62,
   "metadata": {},
   "outputs": [
    {
     "data": {
      "text/plain": [
       "torch.float32"
      ]
     },
     "execution_count": 62,
     "metadata": {},
     "output_type": "execute_result"
    }
   ],
   "source": [
    "X.float().dtype"
   ]
  },
  {
   "cell_type": "markdown",
   "metadata": {
    "id": "KMHDCpIh9AaK"
   },
   "source": [
    "Use `torch.sum` to calculate the sum over all elements of $X$. Take a look at the [documentation](https://pytorch.org/docs/stable/generated/torch.sum.html) and try to calculate the sum over each column. Additionally, what does `keepdim` do?\n",
    "* Calculate the mean of each row."
   ]
  },
  {
   "cell_type": "code",
   "execution_count": 63,
   "metadata": {
    "id": "_aRVsImVmwFn"
   },
   "outputs": [
    {
     "data": {
      "text/plain": [
       "tensor(147)"
      ]
     },
     "execution_count": 63,
     "metadata": {},
     "output_type": "execute_result"
    }
   ],
   "source": [
    "torch.sum(X)"
   ]
  },
  {
   "cell_type": "code",
   "execution_count": null,
   "metadata": {},
   "outputs": [],
   "source": []
  },
  {
   "cell_type": "markdown",
   "metadata": {
    "id": "6J1myogG9AaL"
   },
   "source": [
    "Enter the follwing arrays in  as tensors Python (matrices and vectors):\n",
    "\n",
    "$A = \\begin{bmatrix}\n",
    "0 & 1 & 2\\\\\n",
    "3 & 4 & 5\\\\\n",
    "6 & 7 & 8\n",
    "\\end{bmatrix}$\n",
    "\n",
    "$x = \\begin{bmatrix}\n",
    "1&\n",
    "3&\n",
    "4\n",
    "\\end{bmatrix}$\n",
    "\n",
    "$B = \\begin{bmatrix}\n",
    "-0.1 & -0.2 & -0.3\\\\\n",
    "3 & 10 & 2\\\\\n",
    "4 & 2 & 0.5\n",
    "\\end{bmatrix} $\n",
    "\n",
    "a) Check the corresponding data types.\n",
    "\n",
    "b) Obtain the following entries of $A$:\n",
    "\n",
    "$$a_{1,1},a_{\\bullet,2}, \\begin{bmatrix}a_{2,2}& a_{2,3}\\\\a_{3,2}& a_{3,3}\\end{bmatrix}.$$\n",
    "\n",
    "Perform the following operations:\n",
    "\n",
    "c) $A \\bullet x$\n",
    "\n",
    "d) $A \\bullet B$ (matrix multiplication)\n",
    "\n",
    "e) $A \\circ B$ (element-wise multiplication)\n",
    "\n",
    "f) Use the broadcasting mechanic to multiplicate element in the $j$-th column of $A$ with the corresponding $j$-th element of $x$.\n",
    "\n",
    "g) Add the $j$-th element of $x$ to each elment in the $j$-th row of $A$."
   ]
  },
  {
   "cell_type": "code",
   "execution_count": null,
   "metadata": {
    "id": "P1v0XPKSn1Sd"
   },
   "outputs": [],
   "source": [
    "A= torch.tensor([[0,1,2],\n",
    "                 [3,4,5],\n",
    "                 [6,7,8]])\n",
    "\n",
    "x= torch.tensor([1,3,4])\n",
    "\n",
    "B= torch.tensor([[-0.1,-0.2,-0.3],\n",
    "                 [3,10,2],\n",
    "                 [4,2,0.5]])"
   ]
  },
  {
   "cell_type": "code",
   "execution_count": 92,
   "metadata": {},
   "outputs": [
    {
     "data": {
      "text/plain": [
       "torch.Tensor"
      ]
     },
     "execution_count": 92,
     "metadata": {},
     "output_type": "execute_result"
    }
   ],
   "source": [
    "type(A)"
   ]
  },
  {
   "cell_type": "code",
   "execution_count": 99,
   "metadata": {},
   "outputs": [
    {
     "data": {
      "text/plain": [
       "tensor([[4, 5],\n",
       "        [7, 8]])"
      ]
     },
     "execution_count": 99,
     "metadata": {},
     "output_type": "execute_result"
    }
   ],
   "source": [
    "A[1:3, 1:3]"
   ]
  },
  {
   "cell_type": "code",
   "execution_count": 100,
   "metadata": {},
   "outputs": [
    {
     "name": "stdout",
     "output_type": "stream",
     "text": [
      "tensor([[ 0,  3,  8],\n",
      "        [ 3, 12, 20],\n",
      "        [ 6, 21, 32]])\n"
     ]
    }
   ],
   "source": [
    "c = A*x\n",
    "print(c)"
   ]
  },
  {
   "cell_type": "code",
   "execution_count": 112,
   "metadata": {},
   "outputs": [
    {
     "name": "stdout",
     "output_type": "stream",
     "text": [
      "[[11.  14.   3. ]\n",
      " [31.7 49.4  9.6]\n",
      " [52.4 84.8 16.2]]\n"
     ]
    },
    {
     "data": {
      "text/plain": [
       "tensor([[-0.0000, -0.2000, -0.6000],\n",
       "        [ 9.0000, 40.0000, 10.0000],\n",
       "        [24.0000, 14.0000,  4.0000]])"
      ]
     },
     "execution_count": 112,
     "metadata": {},
     "output_type": "execute_result"
    }
   ],
   "source": [
    "import numpy as np\n",
    "d = np.dot(A,B).round(2)\n",
    "print(d)\n",
    "e = torch.mul(A,B)\n",
    "e"
   ]
  },
  {
   "cell_type": "code",
   "execution_count": 114,
   "metadata": {},
   "outputs": [
    {
     "data": {
      "text/plain": [
       "tensor([[ 0,  3,  8],\n",
       "        [ 3, 12, 20],\n",
       "        [ 6, 21, 32]])"
      ]
     },
     "execution_count": 114,
     "metadata": {},
     "output_type": "execute_result"
    }
   ],
   "source": [
    "f = A*x\n",
    "f"
   ]
  },
  {
   "cell_type": "markdown",
   "metadata": {
    "id": "5pjhBKwM9AaL"
   },
   "source": [
    "### Plotting\n",
    "\n",
    "Import the `matplotlib.pyplot` module for plotting (see [here](https://matplotlib.org/api/pyplot_api.html)). Generate a tensor\n",
    "\n",
    "$$x =\\begin{bmatrix}0&0.1&0.2&\\dots &9.9&10\\end{bmatrix}.$$\n",
    "\n",
    "* Calculate $f_1(x)=\\exp(x)$ and create a plot (add a labels and a title) .\n",
    "* Try to add a second funtion $f_2(x)=x^4$ to the plot.\n",
    "* Try to plot both functions in a seperate subplots."
   ]
  },
  {
   "cell_type": "code",
   "execution_count": 115,
   "metadata": {},
   "outputs": [],
   "source": [
    "import matplotlib.pyplot as plt"
   ]
  },
  {
   "cell_type": "code",
   "execution_count": 117,
   "metadata": {
    "id": "J2QkCGkCP9nd"
   },
   "outputs": [
    {
     "data": {
      "image/png": "[encoded data removed]",
      "text/plain": [
       "<Figure size 1000x500 with 2 Axes>"
      ]
     },
     "metadata": {},
     "output_type": "display_data"
    }
   ],
   "source": [
    "# Generate the tensor x\n",
    "x = torch.arange(0, 10, 0.1)\n",
    "\n",
    "# Calculate f1(x) and f2(x)\n",
    "f1_x = torch.exp(x)\n",
    "f2_x = x**4\n",
    "\n",
    "# Plot the functions\n",
    "plt.figure(figsize=(10, 5))\n",
    "\n",
    "# Plot f1(x)\n",
    "plt.subplot(1, 2, 1)\n",
    "plt.plot(x.numpy(), f1_x.numpy(), label='f1(x) = exp(x)')\n",
    "plt.xlabel('x')\n",
    "plt.ylabel('f1(x)')\n",
    "plt.title('Plot of f1(x) = exp(x)')\n",
    "plt.legend()\n",
    "\n",
    "# Plot f2(x)\n",
    "plt.subplot(1, 2, 2)\n",
    "plt.plot(x.numpy(), f2_x.numpy(), label='f2(x) = x^4', color='orange')\n",
    "plt.xlabel('x')\n",
    "plt.ylabel('f2(x)')\n",
    "plt.title('Plot of f2(x) = x^4')\n",
    "plt.legend()\n",
    "\n",
    "plt.tight_layout()\n",
    "plt.show()"
   ]
  },
  {
   "cell_type": "markdown",
   "metadata": {
    "id": "v0hT_d1i9AaM"
   },
   "source": [
    " ### Speedtest of Vectorization\n",
    "\n",
    " Import the `time` module."
   ]
  },
  {
   "cell_type": "code",
   "execution_count": 119,
   "metadata": {
    "id": "oZ55sTUX9AaM"
   },
   "outputs": [
    {
     "name": "stdout",
     "output_type": "stream",
     "text": [
      "Time taken using for loops: 39.34 seconds\n"
     ]
    }
   ],
   "source": [
    "import time\n",
    "# Construct matrices A and B with Gaussian random entries\n",
    "A = torch.randn(2048, 2048)\n",
    "B = torch.randn(2048, 2048)\n",
    "\n",
    "# Compute C = AB using for loops and torch.dot\n",
    "start_time = time.time()\n",
    "C_for_loop = torch.zeros(2048, 2048)\n",
    "for i in range(2048):\n",
    "    for j in range(2048):\n",
    "        C_for_loop[i, j] = torch.dot(A[i, :], B[:, j])\n",
    "end_time = time.time()\n",
    "time_for_loop = end_time - start_time\n",
    "print(f\"Time taken using for loops: {time_for_loop:.2f} seconds\")\n",
    "\n"
   ]
  },
  {
   "cell_type": "markdown",
   "metadata": {
    "id": "cdI5aIze9AaN"
   },
   "source": [
    "Construct two matrices $A$ and $B$ with Gaussian random entries of size $2048 \\times 2048$.\n",
    "\n",
    "* Compute C = AB using `for` loops and `torch.dot` for each element $c_{i,j}$ and report the time.\n",
    "\n",
    "* Compute C = AB using `torch.mm`and report the time."
   ]
  },
  {
   "cell_type": "code",
   "execution_count": 120,
   "metadata": {},
   "outputs": [
    {
     "name": "stdout",
     "output_type": "stream",
     "text": [
      "Time taken using torch.mm: 0.04 seconds\n"
     ]
    }
   ],
   "source": [
    "# Compute C = AB using torch.mm\n",
    "start_time = time.time()\n",
    "C_torch_mm = torch.mm(A, B)\n",
    "end_time = time.time()\n",
    "time_torch_mm = end_time - start_time\n",
    "print(f\"Time taken using torch.mm: {time_torch_mm:.2f} seconds\")"
   ]
  }
 ],
 "metadata": {
  "colab": {
   "provenance": []
  },
  "kernelspec": {
   "display_name": "base",
   "language": "python",
   "name": "python3"
  },
  "language_info": {
   "codemirror_mode": {
    "name": "ipython",
    "version": 3
   },
   "file_extension": ".py",
   "mimetype": "text/x-python",
   "name": "python",
   "nbconvert_exporter": "python",
   "pygments_lexer": "ipython3",
   "version": "3.11.9"
  }
 },
 "nbformat": 4,
 "nbformat_minor": 0
}
