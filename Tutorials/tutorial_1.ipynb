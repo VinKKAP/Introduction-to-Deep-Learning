{
  "cells": [
    {
      "cell_type": "markdown",
      "source": [
        "# Tutorials to Deep Learning - an Introduction\n",
        "\n",
        "In the six tutorial notebooks, we are going to get to know ``python`` and apply it to solve simple Deep Learning tasks. Please have a look at the tasks before coming to the tutorials. You may use the help of UHH-GPT or the integrated Colab AI assistent to generate the code, but please make sure to understand what the code is doing."
      ],
      "metadata": {
        "id": "BxzIiZx5Qg1V"
      }
    },
    {
      "cell_type": "markdown",
      "metadata": {
        "id": "gmd1RA6K9AZ8"
      },
      "source": [
        "# Tutorial 1\n",
        "\n",
        "We start by taking a look at Colab. Take a look at the introduction to [Colab](https://colab.research.google.com/github/tensorflow/examples/blob/master/courses/udacity_intro_to_tensorflow_for_deep_learning/l01c01_introduction_to_colab_and_python.ipynb#scrollTo=Eq10uEbw0E4l).(We will go through the most basic features of the notebooks in the tutorial)."
      ]
    },
    {
      "cell_type": "markdown",
      "metadata": {
        "id": "Bng9rk0y9AZ_"
      },
      "source": [
        "## 1. Basic Introduction to Python\n",
        "\n",
        "Traditionally, the first programm you write in a new language is called 'Hello World!'. Use the `print` statement to display Hello World! on the screen.\n",
        "\n",
        "Hint: ``help(print)``"
      ]
    },
    {
      "cell_type": "code",
      "source": [],
      "metadata": {
        "id": "4CGWErA_Z-ME"
      },
      "execution_count": null,
      "outputs": []
    },
    {
      "cell_type": "markdown",
      "metadata": {
        "id": "m17TYS4f9AZ_"
      },
      "source": [
        "*  Of what type are the following variables (Hint: `type()`)?"
      ]
    },
    {
      "cell_type": "code",
      "execution_count": null,
      "metadata": {
        "id": "KP0gqwAe9AaA"
      },
      "outputs": [],
      "source": []
    },
    {
      "cell_type": "markdown",
      "metadata": {
        "id": "lfFunBHN9AaB"
      },
      "source": [
        "*  Try to figure out the functions of `\\n`, `\\t` inside of print:\n",
        "*  Try to figure out the positional formating and simple conversions."
      ]
    },
    {
      "cell_type": "code",
      "source": [
        "\n"
      ],
      "metadata": {
        "id": "VOz9pJ_2bc6n"
      },
      "execution_count": null,
      "outputs": []
    },
    {
      "cell_type": "markdown",
      "metadata": {
        "id": "tSWZNf_z9AaC"
      },
      "source": [
        "### Math\n",
        "\n",
        "Import the `math` module by"
      ]
    },
    {
      "cell_type": "code",
      "execution_count": null,
      "metadata": {
        "id": "qMX6_e_w9AaC"
      },
      "outputs": [],
      "source": []
    },
    {
      "cell_type": "markdown",
      "metadata": {
        "id": "7d0DCG3z9AaC"
      },
      "source": [
        "Use Python as you would a calculator to find the numeric answers and the corresponding type\n",
        "\n",
        "1. $1+2(3+4)$\n",
        "2. $4^3+3^{2+1}$\n",
        "3. $\\frac{1+2}{3+4}$\n",
        "4. $\\sqrt{(4+3)(2+1)}$\n",
        "5. $\\sin(\\pi)+\\cos(\\pi)$\n",
        "6. $\\exp(0) \\log(2)$\n",
        "7. If you run a 10 kilometer race in 43 minutes 30 seconds, what is your average time per mile? What is your average speed in miles per hour?\n",
        "\n",
        "Hint: There are 1.61 kilometers in a mile."
      ]
    },
    {
      "cell_type": "code",
      "source": [],
      "metadata": {
        "id": "nRTMJrWUbOtl"
      },
      "execution_count": null,
      "outputs": []
    },
    {
      "cell_type": "markdown",
      "metadata": {
        "id": "JH291Yco9AaD"
      },
      "source": [
        "### Lists\n",
        "\n",
        "A list is a sequence of values.The values in a list are called elements or items.<br>\n",
        "In Python list are easily created by enclosing the items is brackets: $[\\text{item}_1,\\dots,\\text{item}_n]$."
      ]
    },
    {
      "cell_type": "code",
      "execution_count": null,
      "metadata": {
        "id": "1MMSwSLB9AaD"
      },
      "outputs": [],
      "source": []
    },
    {
      "cell_type": "markdown",
      "metadata": {
        "id": "XU9KmlKf9AaE"
      },
      "source": [
        "Specific items of a list can be accessed in the following way."
      ]
    },
    {
      "cell_type": "code",
      "execution_count": null,
      "metadata": {
        "scrolled": true,
        "id": "XedFwR7g9AaE"
      },
      "outputs": [],
      "source": []
    },
    {
      "cell_type": "markdown",
      "metadata": {
        "id": "y9PCBhgQ9AaF"
      },
      "source": [
        "* Create a list of two items, with each item beeing the `example_list` from above. How can you access the item $5.2$ of the first list?"
      ]
    },
    {
      "cell_type": "code",
      "source": [],
      "metadata": {
        "id": "rnptjWTRgxkQ"
      },
      "execution_count": null,
      "outputs": []
    },
    {
      "cell_type": "markdown",
      "source": [],
      "metadata": {
        "id": "vUtib7zLg5WE"
      }
    },
    {
      "cell_type": "markdown",
      "metadata": {
        "id": "Lapzjsam9AaF"
      },
      "source": [
        "###  Functions and Loops\n",
        "\n",
        "* Write a function `module` that display if an integer is even or odd.\n",
        "\n",
        "Hint: The % (modulo) operator yields the remainder from the division of the first argument by the second.\n",
        "Example:"
      ]
    },
    {
      "cell_type": "code",
      "execution_count": null,
      "metadata": {
        "id": "2116qg7k9AaF"
      },
      "outputs": [],
      "source": []
    },
    {
      "cell_type": "markdown",
      "metadata": {
        "id": "S_P0gvLG9AaH"
      },
      "source": [
        "* Write a function `compare` that returns $1$ if $x>y$, $0$ if $x=y$ and $-1$ if $x<y$.\n",
        "\n",
        "* Write a function `is_between` that returns `True` if $x\\le y\\le z$ or `False` otherwise."
      ]
    },
    {
      "cell_type": "code",
      "source": [],
      "metadata": {
        "id": "ZwVWjsILhyIC"
      },
      "execution_count": null,
      "outputs": []
    },
    {
      "cell_type": "markdown",
      "metadata": {
        "id": "G8yioayV9AaI"
      },
      "source": [
        "The following program counts the number of times the letter $a$ appears in a string:"
      ]
    },
    {
      "cell_type": "code",
      "execution_count": null,
      "metadata": {
        "id": "OIar19MZ9AaI"
      },
      "outputs": [],
      "source": []
    },
    {
      "cell_type": "markdown",
      "metadata": {
        "id": "fg3VuZyP9AaI"
      },
      "source": [
        "* Encapsulate this code in a function named `count(w,l,s)` that counts the number of times a letter $l$ appears in a word $w$. Additionally, $s$ gives the index in $w$ where it should start looking.\n"
      ]
    },
    {
      "cell_type": "code",
      "source": [],
      "metadata": {
        "id": "2Tt9rS0Pk_rn"
      },
      "execution_count": null,
      "outputs": []
    },
    {
      "cell_type": "markdown",
      "metadata": {
        "id": "xEXLyjjP9AaJ"
      },
      "source": [
        "## 2. Tensors\n",
        "\n",
        "Make sure you have imported `torch`. As mentioned in the lecture tensors are similar to `ndarray` from NumPy (the most widely-used scientific computing package in Python). [Here](https://numpy.org/doc/stable/user/quickstart.html) you can find a documentation on NumPy."
      ]
    },
    {
      "cell_type": "code",
      "execution_count": null,
      "metadata": {
        "id": "wuLjzz1s9AaJ"
      },
      "outputs": [],
      "source": [
        "import torch"
      ]
    },
    {
      "cell_type": "markdown",
      "metadata": {
        "id": "EEbCSan49AaK"
      },
      "source": [
        "Create the following tensor\n",
        "\n",
        "$$X=\\begin{bmatrix}2&3&4\\\\9&33&5\\\\3&12&35\\\\23&16&2\\end{bmatrix}.$$\n",
        "\n",
        "* What is the shape of your tensor?"
      ]
    },
    {
      "cell_type": "code",
      "source": [],
      "metadata": {
        "id": "eYcVZ53fl9lb"
      },
      "execution_count": null,
      "outputs": []
    },
    {
      "cell_type": "markdown",
      "metadata": {
        "id": "MzIW8fsC9AaK"
      },
      "source": [
        "See [here](https://pytorch.org/docs/stable/tensors.html) to check out what data types of tensors exist.\n",
        "* What data type is $X$ (use `torch.dtype`)? Create change the data type to float (`torch.float()`)."
      ]
    },
    {
      "cell_type": "code",
      "source": [],
      "metadata": {
        "id": "VULdgP1rmevO"
      },
      "execution_count": null,
      "outputs": []
    },
    {
      "cell_type": "markdown",
      "metadata": {
        "id": "KMHDCpIh9AaK"
      },
      "source": [
        "Use `torch.sum` to calculate the sum over all elements of $X$. Take a look at the [documentation](https://pytorch.org/docs/stable/generated/torch.sum.html) and try to calculate the sum over each column. Additionally, what does `keepdim` do?\n",
        "* Calculate the mean of each row."
      ]
    },
    {
      "cell_type": "code",
      "source": [],
      "metadata": {
        "id": "_aRVsImVmwFn"
      },
      "execution_count": null,
      "outputs": []
    },
    {
      "cell_type": "markdown",
      "metadata": {
        "id": "6J1myogG9AaL"
      },
      "source": [
        "Enter the follwing arrays in  as tensors Python (matrices and vectors):\n",
        "\n",
        "$A = \\begin{bmatrix}\n",
        "0 & 1 & 2\\\\\n",
        "3 & 4 & 5\\\\\n",
        "6 & 7 & 8\n",
        "\\end{bmatrix}$\n",
        "\n",
        "$x = \\begin{bmatrix}\n",
        "1&\n",
        "3&\n",
        "4\n",
        "\\end{bmatrix}$\n",
        "\n",
        "$B = \\begin{bmatrix}\n",
        "-0.1 & -0.2 & -0.3\\\\\n",
        "3 & 10 & 2\\\\\n",
        "4 & 2 & 0.5\n",
        "\\end{bmatrix} $\n",
        "\n",
        "a) Check the corresponding data types.\n",
        "\n",
        "b) Obtain the following entries of $A$:\n",
        "\n",
        "$$a_{1,1},a_{\\bullet,2}, \\begin{bmatrix}a_{2,2}& a_{2,3}\\\\a_{3,2}& a_{3,3}\\end{bmatrix}.$$\n",
        "\n",
        "Perform the following operations:\n",
        "\n",
        "c) $A \\bullet x$\n",
        "\n",
        "d) $A \\bullet B$ (matrix multiplication)\n",
        "\n",
        "e) $A \\circ B$ (element-wise multiplication)\n",
        "\n",
        "f) Use the broadcasting mechanic to multiplicate element in the $j$-th column of $A$ with the corresponding $j$-th element of $x$.\n",
        "\n",
        "g) Add the $j$-th element of $x$ to each elment in the $j$-th row of $A$."
      ]
    },
    {
      "cell_type": "code",
      "source": [],
      "metadata": {
        "id": "P1v0XPKSn1Sd"
      },
      "execution_count": null,
      "outputs": []
    },
    {
      "cell_type": "markdown",
      "metadata": {
        "id": "5pjhBKwM9AaL"
      },
      "source": [
        "### Plotting\n",
        "\n",
        "Import the `matplotlib.pyplot` module for plotting (see [here](https://matplotlib.org/api/pyplot_api.html)). Generate a tensor\n",
        "\n",
        "$$x =\\begin{bmatrix}0&0.1&0.2&\\dots &9.9&10\\end{bmatrix}.$$\n",
        "\n",
        "* Calculate $f_1(x)=\\exp(x)$ and create a plot (add a labels and a title) .\n",
        "* Try to add a second funtion $f_2(x)=x^4$ to the plot.\n",
        "* Try to plot both functions in a seperate subplots."
      ]
    },
    {
      "cell_type": "code",
      "source": [
        "import matplotlib.pyplot as plt"
      ],
      "metadata": {
        "id": "J2QkCGkCP9nd"
      },
      "execution_count": null,
      "outputs": []
    },
    {
      "cell_type": "markdown",
      "metadata": {
        "id": "v0hT_d1i9AaM"
      },
      "source": [
        " ### Speedtest of Vectorization\n",
        "\n",
        " Import the `time` module."
      ]
    },
    {
      "cell_type": "code",
      "execution_count": null,
      "metadata": {
        "id": "oZ55sTUX9AaM"
      },
      "outputs": [],
      "source": [
        "import time"
      ]
    },
    {
      "cell_type": "markdown",
      "metadata": {
        "id": "cdI5aIze9AaN"
      },
      "source": [
        "Construct two matrices $A$ and $B$ with Gaussian random entries of size $2048 \\times 2048$.\n",
        "\n",
        "* Compute C = AB using `for` loops and `torch.dot` for each element $c_{i,j}$ and report the time.\n",
        "\n",
        "* Compute C = AB using `torch.mm`and report the time."
      ]
    },
    {
      "cell_type": "code",
      "source": [],
      "metadata": {
        "id": "iD7steSqrUig"
      },
      "execution_count": null,
      "outputs": []
    }
  ],
  "metadata": {
    "kernelspec": {
      "display_name": "Python 3 (ipykernel)",
      "language": "python",
      "name": "python3"
    },
    "language_info": {
      "codemirror_mode": {
        "name": "ipython",
        "version": 3
      },
      "file_extension": ".py",
      "mimetype": "text/x-python",
      "name": "python",
      "nbconvert_exporter": "python",
      "pygments_lexer": "ipython3",
      "version": "3.9.7"
    },
    "colab": {
      "provenance": []
    }
  },
  "nbformat": 4,
  "nbformat_minor": 0
}